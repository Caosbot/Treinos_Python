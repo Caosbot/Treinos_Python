{
  "nbformat": 4,
  "nbformat_minor": 0,
  "metadata": {
    "colab": {
      "provenance": [],
      "collapsed_sections": [
        "yl4yi3lH0yhV",
        "cnAtn6IhXnbz"
      ],
      "include_colab_link": true
    },
    "kernelspec": {
      "name": "python3",
      "display_name": "Python 3"
    },
    "language_info": {
      "name": "python"
    }
  },
  "cells": [
    {
      "cell_type": "markdown",
      "metadata": {
        "id": "view-in-github",
        "colab_type": "text"
      },
      "source": [
        "<a href=\"https://colab.research.google.com/github/Caosbot/Treinos_Python/blob/Data_Science/Exerc%C3%ADcios_PARA_resolver_Curso_Pandas_.ipynb\" target=\"_parent\"><img src=\"https://colab.research.google.com/assets/colab-badge.svg\" alt=\"Open In Colab\"/></a>"
      ]
    },
    {
      "cell_type": "code",
      "source": [
        "import pandas as pd\n",
        "import numpy as np\n",
        "print(pd.__version__)\n",
        "print(np.__version__)"
      ],
      "metadata": {
        "colab": {
          "base_uri": "https://localhost:8080/"
        },
        "id": "r5HOo85W0_Xh",
        "outputId": "10d3829e-355c-48aa-b76a-e1255eaff06d"
      },
      "execution_count": null,
      "outputs": [
        {
          "output_type": "stream",
          "name": "stdout",
          "text": [
            "2.1.1\n",
            "1.26.4\n"
          ]
        }
      ]
    },
    {
      "cell_type": "markdown",
      "source": [
        "# Curso Pandas Exercícios\n",
        "\n"
      ],
      "metadata": {
        "id": "t42wBlxf0v-l"
      }
    },
    {
      "cell_type": "markdown",
      "source": [
        "# Series\n",
        "\n",
        "- Base de dados: https://www.kaggle.com/datasets/rakannimer/air-passengers"
      ],
      "metadata": {
        "id": "yl4yi3lH0yhV"
      }
    },
    {
      "cell_type": "code",
      "source": [
        "dataset = pd.read_csv(r'F:\\Cursos\\Udemy\\Pandas Descomplicado\\AirPassengers.csv')"
      ],
      "metadata": {
        "id": "PlJY15fI1zE-"
      },
      "execution_count": null,
      "outputs": []
    },
    {
      "cell_type": "code",
      "source": [
        "type(dataset)"
      ],
      "metadata": {
        "colab": {
          "base_uri": "https://localhost:8080/"
        },
        "id": "3X3GCZAL15pI",
        "outputId": "41055f5c-65df-45f4-9011-e0454b96cc75"
      },
      "execution_count": null,
      "outputs": [
        {
          "output_type": "execute_result",
          "data": {
            "text/plain": [
              "pandas.core.frame.DataFrame"
            ]
          },
          "metadata": {},
          "execution_count": 3
        }
      ]
    },
    {
      "cell_type": "code",
      "source": [
        "dataset"
      ],
      "metadata": {
        "colab": {
          "base_uri": "https://localhost:8080/",
          "height": 424
        },
        "id": "d6_fFCn5185d",
        "outputId": "3413263d-f799-44ac-b8cd-c88081667eb2"
      },
      "execution_count": null,
      "outputs": [
        {
          "output_type": "execute_result",
          "data": {
            "text/plain": [
              "       Month  #Passengers\n",
              "0    1949-01          112\n",
              "1    1949-02          118\n",
              "2    1949-03          132\n",
              "3    1949-04          129\n",
              "4    1949-05          121\n",
              "..       ...          ...\n",
              "139  1960-08          606\n",
              "140  1960-09          508\n",
              "141  1960-10          461\n",
              "142  1960-11          390\n",
              "143  1960-12          432\n",
              "\n",
              "[144 rows x 2 columns]"
            ],
            "text/html": [
              "<div>\n",
              "<style scoped>\n",
              "    .dataframe tbody tr th:only-of-type {\n",
              "        vertical-align: middle;\n",
              "    }\n",
              "\n",
              "    .dataframe tbody tr th {\n",
              "        vertical-align: top;\n",
              "    }\n",
              "\n",
              "    .dataframe thead th {\n",
              "        text-align: right;\n",
              "    }\n",
              "</style>\n",
              "<table border=\"1\" class=\"dataframe\">\n",
              "  <thead>\n",
              "    <tr style=\"text-align: right;\">\n",
              "      <th></th>\n",
              "      <th>Month</th>\n",
              "      <th>#Passengers</th>\n",
              "    </tr>\n",
              "  </thead>\n",
              "  <tbody>\n",
              "    <tr>\n",
              "      <th>0</th>\n",
              "      <td>1949-01</td>\n",
              "      <td>112</td>\n",
              "    </tr>\n",
              "    <tr>\n",
              "      <th>1</th>\n",
              "      <td>1949-02</td>\n",
              "      <td>118</td>\n",
              "    </tr>\n",
              "    <tr>\n",
              "      <th>2</th>\n",
              "      <td>1949-03</td>\n",
              "      <td>132</td>\n",
              "    </tr>\n",
              "    <tr>\n",
              "      <th>3</th>\n",
              "      <td>1949-04</td>\n",
              "      <td>129</td>\n",
              "    </tr>\n",
              "    <tr>\n",
              "      <th>4</th>\n",
              "      <td>1949-05</td>\n",
              "      <td>121</td>\n",
              "    </tr>\n",
              "    <tr>\n",
              "      <th>...</th>\n",
              "      <td>...</td>\n",
              "      <td>...</td>\n",
              "    </tr>\n",
              "    <tr>\n",
              "      <th>139</th>\n",
              "      <td>1960-08</td>\n",
              "      <td>606</td>\n",
              "    </tr>\n",
              "    <tr>\n",
              "      <th>140</th>\n",
              "      <td>1960-09</td>\n",
              "      <td>508</td>\n",
              "    </tr>\n",
              "    <tr>\n",
              "      <th>141</th>\n",
              "      <td>1960-10</td>\n",
              "      <td>461</td>\n",
              "    </tr>\n",
              "    <tr>\n",
              "      <th>142</th>\n",
              "      <td>1960-11</td>\n",
              "      <td>390</td>\n",
              "    </tr>\n",
              "    <tr>\n",
              "      <th>143</th>\n",
              "      <td>1960-12</td>\n",
              "      <td>432</td>\n",
              "    </tr>\n",
              "  </tbody>\n",
              "</table>\n",
              "<p>144 rows × 2 columns</p>\n",
              "</div>"
            ]
          },
          "metadata": {},
          "execution_count": 4
        }
      ]
    },
    {
      "cell_type": "code",
      "source": [
        "mes_passageiro = dataset['#Passengers']"
      ],
      "metadata": {
        "id": "Bhg9yIQbYVS9"
      },
      "execution_count": null,
      "outputs": []
    },
    {
      "cell_type": "code",
      "source": [
        "mes_passageiro.index = dataset['Month']"
      ],
      "metadata": {
        "id": "g0CzRbc_Y8Qs"
      },
      "execution_count": null,
      "outputs": []
    },
    {
      "cell_type": "code",
      "source": [
        "mes_passageiro = pd.Series(dataset['#Passengers'], index= dataset['Month'])"
      ],
      "metadata": {
        "id": "wf0VBivhQ60I"
      },
      "execution_count": null,
      "outputs": []
    },
    {
      "cell_type": "code",
      "source": [
        "mes_passageiro"
      ],
      "metadata": {
        "colab": {
          "base_uri": "https://localhost:8080/"
        },
        "id": "8zFjnHSk2JWZ",
        "outputId": "66cfcf1a-7095-4bcc-a766-b4486e8a8917"
      },
      "execution_count": null,
      "outputs": [
        {
          "output_type": "execute_result",
          "data": {
            "text/plain": [
              "Month\n",
              "1949-01    112\n",
              "1949-02    118\n",
              "1949-03    132\n",
              "1949-04    129\n",
              "1949-05    121\n",
              "          ... \n",
              "1960-08    606\n",
              "1960-09    508\n",
              "1960-10    461\n",
              "1960-11    390\n",
              "1960-12    432\n",
              "Name: #Passengers, Length: 144, dtype: int64"
            ]
          },
          "metadata": {},
          "execution_count": 8
        }
      ]
    },
    {
      "cell_type": "code",
      "source": [
        "type(mes_passageiro)"
      ],
      "metadata": {
        "colab": {
          "base_uri": "https://localhost:8080/"
        },
        "id": "GxUxE0W6ZV08",
        "outputId": "69d20ad6-1bcb-484c-95b4-1ad429361d03"
      },
      "execution_count": null,
      "outputs": [
        {
          "output_type": "execute_result",
          "data": {
            "text/plain": [
              "pandas.core.series.Series"
            ]
          },
          "metadata": {},
          "execution_count": 9
        }
      ]
    },
    {
      "cell_type": "code",
      "source": [
        "mes_passageiro.index"
      ],
      "metadata": {
        "colab": {
          "base_uri": "https://localhost:8080/"
        },
        "id": "m6LYVKZT2_LG",
        "outputId": "58297b09-efca-4c82-ff4c-6997233527b0"
      },
      "execution_count": null,
      "outputs": [
        {
          "output_type": "execute_result",
          "data": {
            "text/plain": [
              "Index(['1949-01', '1949-02', '1949-03', '1949-04', '1949-05', '1949-06',\n",
              "       '1949-07', '1949-08', '1949-09', '1949-10',\n",
              "       ...\n",
              "       '1960-03', '1960-04', '1960-05', '1960-06', '1960-07', '1960-08',\n",
              "       '1960-09', '1960-10', '1960-11', '1960-12'],\n",
              "      dtype='object', name='Month', length=144)"
            ]
          },
          "metadata": {},
          "execution_count": 10
        }
      ]
    },
    {
      "cell_type": "code",
      "source": [
        "mes_passageiro.dtype"
      ],
      "metadata": {
        "colab": {
          "base_uri": "https://localhost:8080/"
        },
        "id": "aQQrQD6UZ1LM",
        "outputId": "2f5d1b43-2a34-4268-c4da-6e194cc17640"
      },
      "execution_count": null,
      "outputs": [
        {
          "output_type": "execute_result",
          "data": {
            "text/plain": [
              "dtype('int64')"
            ]
          },
          "metadata": {},
          "execution_count": 11
        }
      ]
    },
    {
      "cell_type": "code",
      "source": [
        "# Número de dimensões\n",
        "mes_passageiro.ndim"
      ],
      "metadata": {
        "colab": {
          "base_uri": "https://localhost:8080/"
        },
        "id": "fN70DtR63gX1",
        "outputId": "70a6aafc-3613-43a1-9b58-df04e6251067"
      },
      "execution_count": null,
      "outputs": [
        {
          "output_type": "execute_result",
          "data": {
            "text/plain": [
              "1"
            ]
          },
          "metadata": {},
          "execution_count": 12
        }
      ]
    },
    {
      "cell_type": "code",
      "source": [
        "mes_passageiro.count()"
      ],
      "metadata": {
        "colab": {
          "base_uri": "https://localhost:8080/"
        },
        "id": "w90XEfEx3h2F",
        "outputId": "575a616a-ab6c-4c1b-edec-4ed837b7f863"
      },
      "execution_count": null,
      "outputs": [
        {
          "output_type": "execute_result",
          "data": {
            "text/plain": [
              "144"
            ]
          },
          "metadata": {},
          "execution_count": 13
        }
      ]
    },
    {
      "cell_type": "code",
      "source": [
        "mes_passageiro.head(5)"
      ],
      "metadata": {
        "colab": {
          "base_uri": "https://localhost:8080/"
        },
        "id": "vJm6BwQr4Gw5",
        "outputId": "5e51f8bc-0bb5-48ae-b7ab-21fec46e741d"
      },
      "execution_count": null,
      "outputs": [
        {
          "output_type": "execute_result",
          "data": {
            "text/plain": [
              "Month\n",
              "1949-01    112\n",
              "1949-02    118\n",
              "1949-03    132\n",
              "1949-04    129\n",
              "1949-05    121\n",
              "Name: #Passengers, dtype: int64"
            ]
          },
          "metadata": {},
          "execution_count": 14
        }
      ]
    },
    {
      "cell_type": "code",
      "source": [
        "mes_passageiro.tail(5)"
      ],
      "metadata": {
        "colab": {
          "base_uri": "https://localhost:8080/"
        },
        "id": "m1VCM4JU4Iaw",
        "outputId": "ecd8f8ad-9fe7-4581-92d6-1d5d2937198b"
      },
      "execution_count": null,
      "outputs": [
        {
          "output_type": "execute_result",
          "data": {
            "text/plain": [
              "Month\n",
              "1960-08    606\n",
              "1960-09    508\n",
              "1960-10    461\n",
              "1960-11    390\n",
              "1960-12    432\n",
              "Name: #Passengers, dtype: int64"
            ]
          },
          "metadata": {},
          "execution_count": 15
        }
      ]
    },
    {
      "cell_type": "code",
      "source": [
        "mes_passageiro.iloc[0]"
      ],
      "metadata": {
        "colab": {
          "base_uri": "https://localhost:8080/"
        },
        "id": "ZOaGottR39Cl",
        "outputId": "089e3483-b4dd-40bf-bf75-c8a7583a72f9"
      },
      "execution_count": null,
      "outputs": [
        {
          "output_type": "execute_result",
          "data": {
            "text/plain": [
              "112"
            ]
          },
          "metadata": {},
          "execution_count": 16
        }
      ]
    },
    {
      "cell_type": "code",
      "source": [
        "mes_passageiro.size"
      ],
      "metadata": {
        "colab": {
          "base_uri": "https://localhost:8080/"
        },
        "id": "3_0wGLMfPnwu",
        "outputId": "399124f5-34e8-46d6-a901-44211e2363b9"
      },
      "execution_count": null,
      "outputs": [
        {
          "output_type": "execute_result",
          "data": {
            "text/plain": [
              "144"
            ]
          },
          "metadata": {},
          "execution_count": 17
        }
      ]
    },
    {
      "cell_type": "code",
      "source": [
        "mes_passageiro.iloc[0:4]"
      ],
      "metadata": {
        "colab": {
          "base_uri": "https://localhost:8080/"
        },
        "id": "kUjOTDr54EQN",
        "outputId": "2e66b143-becb-43ad-eb40-fa6de0dddd04"
      },
      "execution_count": null,
      "outputs": [
        {
          "output_type": "execute_result",
          "data": {
            "text/plain": [
              "Month\n",
              "1949-01    112\n",
              "1949-02    118\n",
              "1949-03    132\n",
              "1949-04    129\n",
              "Name: #Passengers, dtype: int64"
            ]
          },
          "metadata": {},
          "execution_count": 18
        }
      ]
    },
    {
      "cell_type": "code",
      "source": [
        "mes_passageiro.iloc[-1]"
      ],
      "metadata": {
        "colab": {
          "base_uri": "https://localhost:8080/"
        },
        "id": "rCP-eyzs4L8v",
        "outputId": "fe0d3510-a57e-4d41-fcc7-245832af0cf6"
      },
      "execution_count": null,
      "outputs": [
        {
          "output_type": "execute_result",
          "data": {
            "text/plain": [
              "432"
            ]
          },
          "metadata": {},
          "execution_count": 19
        }
      ]
    },
    {
      "cell_type": "code",
      "source": [
        "mes_passageiro.loc['1960-08']"
      ],
      "metadata": {
        "colab": {
          "base_uri": "https://localhost:8080/"
        },
        "id": "lNNcavVV4ZYf",
        "outputId": "1c7fa205-8fe7-42aa-9dae-bc89cc9d7f8e"
      },
      "execution_count": null,
      "outputs": [
        {
          "output_type": "execute_result",
          "data": {
            "text/plain": [
              "606"
            ]
          },
          "metadata": {},
          "execution_count": 20
        }
      ]
    },
    {
      "cell_type": "code",
      "source": [
        "mes_passageiro.loc['1960-08':'1960-12']"
      ],
      "metadata": {
        "colab": {
          "base_uri": "https://localhost:8080/"
        },
        "id": "VG2aI5NH4euY",
        "outputId": "7dc79724-3209-4710-ae7e-4a1d259526a5"
      },
      "execution_count": null,
      "outputs": [
        {
          "output_type": "execute_result",
          "data": {
            "text/plain": [
              "Month\n",
              "1960-08    606\n",
              "1960-09    508\n",
              "1960-10    461\n",
              "1960-11    390\n",
              "1960-12    432\n",
              "Name: #Passengers, dtype: int64"
            ]
          },
          "metadata": {},
          "execution_count": 21
        }
      ]
    },
    {
      "cell_type": "code",
      "source": [
        "# Ordenação\n",
        "mes_passageiro.sort_values()"
      ],
      "metadata": {
        "colab": {
          "base_uri": "https://localhost:8080/"
        },
        "id": "kcHQHPnB4p_m",
        "outputId": "d5cfea25-53fc-4f7e-d0db-24cf4b940381"
      },
      "execution_count": null,
      "outputs": [
        {
          "output_type": "execute_result",
          "data": {
            "text/plain": [
              "Month\n",
              "1949-11    104\n",
              "1949-01    112\n",
              "1950-11    114\n",
              "1950-01    115\n",
              "1949-02    118\n",
              "          ... \n",
              "1960-06    535\n",
              "1959-07    548\n",
              "1959-08    559\n",
              "1960-08    606\n",
              "1960-07    622\n",
              "Name: #Passengers, Length: 144, dtype: int64"
            ]
          },
          "metadata": {},
          "execution_count": 23
        }
      ]
    },
    {
      "cell_type": "code",
      "source": [
        "mes_passageiro.sort_index()"
      ],
      "metadata": {
        "colab": {
          "base_uri": "https://localhost:8080/"
        },
        "id": "sPYzyB6l6-7-",
        "outputId": "a5708e7a-4d14-48c8-a892-527981c65cea"
      },
      "execution_count": null,
      "outputs": [
        {
          "output_type": "execute_result",
          "data": {
            "text/plain": [
              "Month\n",
              "1949-01    112\n",
              "1949-02    118\n",
              "1949-03    132\n",
              "1949-04    129\n",
              "1949-05    121\n",
              "          ... \n",
              "1960-08    606\n",
              "1960-09    508\n",
              "1960-10    461\n",
              "1960-11    390\n",
              "1960-12    432\n",
              "Name: #Passengers, Length: 144, dtype: int64"
            ]
          },
          "metadata": {},
          "execution_count": 24
        }
      ]
    },
    {
      "cell_type": "code",
      "source": [
        "# Ordenação\n",
        "mes_passageiro.sort_values(ascending=False)"
      ],
      "metadata": {
        "colab": {
          "base_uri": "https://localhost:8080/"
        },
        "id": "P84Oq4Jq4tQH",
        "outputId": "ae8be75d-a372-44e9-a9aa-0e8e20f5e11b"
      },
      "execution_count": null,
      "outputs": [
        {
          "output_type": "execute_result",
          "data": {
            "text/plain": [
              "Month\n",
              "1960-07    622\n",
              "1960-08    606\n",
              "1959-08    559\n",
              "1959-07    548\n",
              "1960-06    535\n",
              "          ... \n",
              "1949-12    118\n",
              "1950-01    115\n",
              "1950-11    114\n",
              "1949-01    112\n",
              "1949-11    104\n",
              "Name: #Passengers, Length: 144, dtype: int64"
            ]
          },
          "metadata": {},
          "execution_count": 26
        }
      ]
    },
    {
      "cell_type": "code",
      "source": [
        "# Ordenação do índice\n",
        "mes_passageiro.sort_index(ascending=True)"
      ],
      "metadata": {
        "colab": {
          "base_uri": "https://localhost:8080/"
        },
        "id": "UChbe_ty4175",
        "outputId": "b7bd9289-027e-45af-ac3d-455ee4a29c33"
      },
      "execution_count": null,
      "outputs": [
        {
          "output_type": "execute_result",
          "data": {
            "text/plain": [
              "Month\n",
              "1949-01    112\n",
              "1949-02    118\n",
              "1949-03    132\n",
              "1949-04    129\n",
              "1949-05    121\n",
              "          ... \n",
              "1960-08    606\n",
              "1960-09    508\n",
              "1960-10    461\n",
              "1960-11    390\n",
              "1960-12    432\n",
              "Name: #Passengers, Length: 144, dtype: int64"
            ]
          },
          "metadata": {},
          "execution_count": 27
        }
      ]
    },
    {
      "cell_type": "code",
      "source": [
        "# Contagem\n",
        "mes_passageiro.value_counts()"
      ],
      "metadata": {
        "colab": {
          "base_uri": "https://localhost:8080/"
        },
        "id": "3WGApnXt46kH",
        "outputId": "9874f85e-02e5-467d-fb33-d4b2cc7fd36e"
      },
      "execution_count": null,
      "outputs": [
        {
          "output_type": "execute_result",
          "data": {
            "text/plain": [
              "229    3\n",
              "306    2\n",
              "405    2\n",
              "242    2\n",
              "196    2\n",
              "      ..\n",
              "191    1\n",
              "209    1\n",
              "230    1\n",
              "218    1\n",
              "432    1\n",
              "Length: 118, dtype: int64"
            ]
          },
          "metadata": {},
          "execution_count": 22
        }
      ]
    },
    {
      "cell_type": "code",
      "source": [
        "# Valores maiores do que 300\n",
        "mes_passageiro.loc[mes_passageiro.values>300]"
      ],
      "metadata": {
        "colab": {
          "base_uri": "https://localhost:8080/"
        },
        "id": "-qgWfL-75Fw5",
        "outputId": "b8cd9154-5fd7-48fd-eae2-dd8f33531ff4"
      },
      "execution_count": null,
      "outputs": [
        {
          "output_type": "execute_result",
          "data": {
            "text/plain": [
              "Month\n",
              "1954-07    302\n",
              "1955-06    315\n",
              "1955-07    364\n",
              "1955-08    347\n",
              "1955-09    312\n",
              "          ... \n",
              "1960-08    606\n",
              "1960-09    508\n",
              "1960-10    461\n",
              "1960-11    390\n",
              "1960-12    432\n",
              "Name: #Passengers, Length: 62, dtype: int64"
            ]
          },
          "metadata": {},
          "execution_count": 30
        }
      ]
    },
    {
      "cell_type": "code",
      "source": [
        "mes_passageiro.loc[mes_passageiro.index == \"1954-07\"]"
      ],
      "metadata": {
        "colab": {
          "base_uri": "https://localhost:8080/"
        },
        "id": "jvwQE4uL5OHp",
        "outputId": "6401dad2-3bfe-4091-ebe0-e00b482c11c4"
      },
      "execution_count": null,
      "outputs": [
        {
          "output_type": "execute_result",
          "data": {
            "text/plain": [
              "Month\n",
              "1954-07    302\n",
              "Name: #Passengers, dtype: int64"
            ]
          },
          "metadata": {},
          "execution_count": 65
        }
      ]
    },
    {
      "cell_type": "code",
      "source": [
        "# Menores do que 1950-08\n",
        "mes_passageiro.loc[mes_passageiro.index<'1950-08']"
      ],
      "metadata": {
        "colab": {
          "base_uri": "https://localhost:8080/"
        },
        "id": "S-vyQ-Hf5VzI",
        "outputId": "e53eae98-5936-4c96-b2cc-f1cc1a8be289"
      },
      "execution_count": null,
      "outputs": [
        {
          "output_type": "execute_result",
          "data": {
            "text/plain": [
              "Month\n",
              "1949-01    112\n",
              "1949-02    118\n",
              "1949-03    132\n",
              "1949-04    129\n",
              "1949-05    121\n",
              "1949-06    135\n",
              "1949-07    148\n",
              "1949-08    148\n",
              "1949-09    136\n",
              "1949-10    119\n",
              "1949-11    104\n",
              "1949-12    118\n",
              "1950-01    115\n",
              "1950-02    126\n",
              "1950-03    141\n",
              "1950-04    135\n",
              "1950-05    125\n",
              "1950-06    149\n",
              "1950-07    170\n",
              "dtype: int64"
            ]
          },
          "metadata": {},
          "execution_count": 25
        }
      ]
    },
    {
      "cell_type": "code",
      "source": [
        "# Entre 1949-01 e 1950-01\n",
        "mes_passageiro.loc[(mes_passageiro.index >= '1949-01') & (mes_passageiro.index < '1950-01')]"
      ],
      "metadata": {
        "colab": {
          "base_uri": "https://localhost:8080/"
        },
        "id": "jwiCXXwV5l_w",
        "outputId": "c1f53347-5dc7-447e-c213-24363a4587f9"
      },
      "execution_count": null,
      "outputs": [
        {
          "output_type": "execute_result",
          "data": {
            "text/plain": [
              "Month\n",
              "1949-01    112\n",
              "1949-02    118\n",
              "1949-03    132\n",
              "1949-04    129\n",
              "1949-05    121\n",
              "1949-06    135\n",
              "1949-07    148\n",
              "1949-08    148\n",
              "1949-09    136\n",
              "1949-10    119\n",
              "1949-11    104\n",
              "1949-12    118\n",
              "Name: #Passengers, dtype: int64"
            ]
          },
          "metadata": {},
          "execution_count": 42
        }
      ]
    },
    {
      "cell_type": "code",
      "source": [
        "# Somatório dos valores\n",
        "mes_passageiro.sum()"
      ],
      "metadata": {
        "colab": {
          "base_uri": "https://localhost:8080/"
        },
        "id": "-AINE6na6BAa",
        "outputId": "8c305a3f-a8fb-4165-eb14-ad17a11ef577"
      },
      "execution_count": null,
      "outputs": [
        {
          "output_type": "execute_result",
          "data": {
            "text/plain": [
              "40363"
            ]
          },
          "metadata": {},
          "execution_count": 44
        }
      ]
    },
    {
      "cell_type": "code",
      "source": [
        "# Média dos valores\n",
        "mes_passageiro.mean()"
      ],
      "metadata": {
        "colab": {
          "base_uri": "https://localhost:8080/"
        },
        "id": "d8Rwynje6ClP",
        "outputId": "60228083-8016-4bc2-c8bf-77f87ca9531d"
      },
      "execution_count": null,
      "outputs": [
        {
          "output_type": "execute_result",
          "data": {
            "text/plain": [
              "280.2986111111111"
            ]
          },
          "metadata": {},
          "execution_count": 45
        }
      ]
    },
    {
      "cell_type": "code",
      "source": [
        "# Valor mínimo\n",
        "mes_passageiro.min()"
      ],
      "metadata": {
        "colab": {
          "base_uri": "https://localhost:8080/"
        },
        "id": "ZkmQN1Dw6ESX",
        "outputId": "9977b70b-c0d5-4bf3-bc91-b26836a6cc9e"
      },
      "execution_count": null,
      "outputs": [
        {
          "output_type": "execute_result",
          "data": {
            "text/plain": [
              "104"
            ]
          },
          "metadata": {},
          "execution_count": 46
        }
      ]
    },
    {
      "cell_type": "code",
      "source": [
        "# Valor máximo\n",
        "mes_passageiro.max()"
      ],
      "metadata": {
        "colab": {
          "base_uri": "https://localhost:8080/"
        },
        "id": "nVRDqPtR6F30",
        "outputId": "ea355976-0b3c-48af-a379-dd25c6869364"
      },
      "execution_count": null,
      "outputs": [
        {
          "output_type": "execute_result",
          "data": {
            "text/plain": [
              "622"
            ]
          },
          "metadata": {},
          "execution_count": 47
        }
      ]
    },
    {
      "cell_type": "code",
      "source": [
        "# Somatório do intervalo 1949-01 e 1949-12\n",
        "mes_passageiro.loc[(mes_passageiro.index >= '1949-01') & (mes_passageiro.index <= '1949-12')].sum()"
      ],
      "metadata": {
        "colab": {
          "base_uri": "https://localhost:8080/"
        },
        "id": "P0q6iT5x6MlS",
        "outputId": "6bb11933-0a2f-4944-f20c-4f1f771ddc1d"
      },
      "execution_count": null,
      "outputs": [
        {
          "output_type": "execute_result",
          "data": {
            "text/plain": [
              "1520"
            ]
          },
          "metadata": {},
          "execution_count": 50
        }
      ]
    },
    {
      "cell_type": "code",
      "source": [
        "# Valores únicos dos índices\n",
        "mes_passageiro.index.unique()"
      ],
      "metadata": {
        "colab": {
          "base_uri": "https://localhost:8080/"
        },
        "id": "fvHS6ys96X5k",
        "outputId": "960f4480-156c-4982-a427-8d495f63a9cb"
      },
      "execution_count": null,
      "outputs": [
        {
          "output_type": "execute_result",
          "data": {
            "text/plain": [
              "<bound method Index.unique of Index(['1949-01', '1949-02', '1949-03', '1949-04', '1949-05', '1949-06',\n",
              "       '1949-07', '1949-08', '1949-09', '1949-10',\n",
              "       ...\n",
              "       '1960-03', '1960-04', '1960-05', '1960-06', '1960-07', '1960-08',\n",
              "       '1960-09', '1960-10', '1960-11', '1960-12'],\n",
              "      dtype='object', name='Month', length=144)>"
            ]
          },
          "metadata": {},
          "execution_count": 33
        }
      ]
    },
    {
      "cell_type": "code",
      "source": [
        "# Somatório de valores nulos\n",
        "mes_passageiro.isna().sum()"
      ],
      "metadata": {
        "colab": {
          "base_uri": "https://localhost:8080/"
        },
        "id": "q3N0kPkb6jRW",
        "outputId": "42efdffa-8b59-4ffa-91a1-e77eb6ddc680"
      },
      "execution_count": null,
      "outputs": [
        {
          "output_type": "execute_result",
          "data": {
            "text/plain": [
              "0"
            ]
          },
          "metadata": {},
          "execution_count": 53
        }
      ]
    },
    {
      "cell_type": "code",
      "source": [
        "mes_passageiro"
      ],
      "metadata": {
        "colab": {
          "base_uri": "https://localhost:8080/"
        },
        "id": "3WugMgAa7iUw",
        "outputId": "6877b4e9-e4ca-4bc3-8f77-95e0549ebafe"
      },
      "execution_count": null,
      "outputs": [
        {
          "output_type": "execute_result",
          "data": {
            "text/plain": [
              "Month\n",
              "1949-01    112\n",
              "1949-02    118\n",
              "1949-03    132\n",
              "1949-04    129\n",
              "1949-05    121\n",
              "          ... \n",
              "1960-08    606\n",
              "1960-09    508\n",
              "1960-10    461\n",
              "1960-11    390\n",
              "1960-12    432\n",
              "Name: #Passengers, Length: 144, dtype: int64"
            ]
          },
          "metadata": {},
          "execution_count": 54
        }
      ]
    },
    {
      "cell_type": "code",
      "source": [
        "# Pesquise sobre o pd.DatetimeIndex para extrair o mês do índice\n",
        "pd.DatetimeIndex(mes_passageiro.index).month"
      ],
      "metadata": {
        "colab": {
          "base_uri": "https://localhost:8080/"
        },
        "id": "G_LTeEAP69k9",
        "outputId": "f72f205f-e057-46fc-81fe-fec14d804551"
      },
      "execution_count": null,
      "outputs": [
        {
          "output_type": "execute_result",
          "data": {
            "text/plain": [
              "Int64Index([ 1,  2,  3,  4,  5,  6,  7,  8,  9, 10,\n",
              "            ...\n",
              "             3,  4,  5,  6,  7,  8,  9, 10, 11, 12],\n",
              "           dtype='int64', name='Month', length=144)"
            ]
          },
          "metadata": {},
          "execution_count": 36
        }
      ]
    },
    {
      "cell_type": "code",
      "source": [
        "# Pesquise sobre o pd.DatetimeIndex para extrair o ano do índice\n",
        "pd.DatetimeIndex(mes_passageiro.index).year"
      ],
      "metadata": {
        "colab": {
          "base_uri": "https://localhost:8080/"
        },
        "id": "U4Phm7wY7lKK",
        "outputId": "ef8227b1-8e96-41e4-fe4c-cedd67d56eb1"
      },
      "execution_count": null,
      "outputs": [
        {
          "output_type": "execute_result",
          "data": {
            "text/plain": [
              "Index([1949, 1949, 1949, 1949, 1949, 1949, 1949, 1949, 1949, 1949,\n",
              "       ...\n",
              "       1960, 1960, 1960, 1960, 1960, 1960, 1960, 1960, 1960, 1960],\n",
              "      dtype='int32', name='Month', length=144)"
            ]
          },
          "metadata": {},
          "execution_count": 58
        }
      ]
    },
    {
      "cell_type": "code",
      "source": [
        "# Somatório dos valores com mês 07\n",
        "mes_passageiro.loc[pd.DatetimeIndex(mes_passageiro.index).month==7].sum()"
      ],
      "metadata": {
        "colab": {
          "base_uri": "https://localhost:8080/"
        },
        "id": "0Wba5zIL7tqq",
        "outputId": "b0b75367-1d84-4a20-f454-cc75e273e886"
      },
      "execution_count": null,
      "outputs": [
        {
          "output_type": "execute_result",
          "data": {
            "text/plain": [
              "4216"
            ]
          },
          "metadata": {},
          "execution_count": 63
        }
      ]
    },
    {
      "cell_type": "code",
      "source": [
        "# Somatório do ano de 1950\n",
        "mes_passageiro.loc[pd.DatetimeIndex(mes_passageiro.index).year==1950].sum()"
      ],
      "metadata": {
        "colab": {
          "base_uri": "https://localhost:8080/"
        },
        "id": "VFtRsPMH8QfK",
        "outputId": "2fc684e9-091a-4af3-a6f5-971e6d50050e"
      },
      "execution_count": null,
      "outputs": [
        {
          "output_type": "execute_result",
          "data": {
            "text/plain": [
              "1676"
            ]
          },
          "metadata": {},
          "execution_count": 41
        }
      ]
    },
    {
      "cell_type": "markdown",
      "source": [
        "# Dataframe"
      ],
      "metadata": {
        "id": "cnAtn6IhXnbz"
      }
    },
    {
      "cell_type": "markdown",
      "source": [
        "- Faça a leitura da base games.csv, mostrando as informações básicas"
      ],
      "metadata": {
        "id": "5H-udgI4wCP9"
      }
    },
    {
      "cell_type": "code",
      "source": [
        "dataset = pd.read_csv(r'F:\\Cursos\\Udemy\\Pandas Descomplicado\\games.csv')"
      ],
      "metadata": {
        "id": "P4t-gRirYKmF"
      },
      "execution_count": null,
      "outputs": []
    },
    {
      "cell_type": "code",
      "source": [
        "dataset.info()"
      ],
      "metadata": {
        "colab": {
          "base_uri": "https://localhost:8080/"
        },
        "id": "uJ1Y-HxHYOUo",
        "outputId": "7b56847d-536c-49d7-a69d-adf563e04fc6"
      },
      "execution_count": null,
      "outputs": [
        {
          "output_type": "stream",
          "name": "stdout",
          "text": [
            "<class 'pandas.core.frame.DataFrame'>\n",
            "RangeIndex: 16719 entries, 0 to 16718\n",
            "Data columns (total 16 columns):\n",
            " #   Column           Non-Null Count  Dtype  \n",
            "---  ------           --------------  -----  \n",
            " 0   Name             16717 non-null  object \n",
            " 1   Platform         16719 non-null  object \n",
            " 2   Year_of_Release  16450 non-null  float64\n",
            " 3   Genre            16717 non-null  object \n",
            " 4   Publisher        16665 non-null  object \n",
            " 5   NA_Sales         16719 non-null  float64\n",
            " 6   EU_Sales         16719 non-null  float64\n",
            " 7   JP_Sales         16719 non-null  float64\n",
            " 8   Other_Sales      16719 non-null  float64\n",
            " 9   Global_Sales     16719 non-null  float64\n",
            " 10  Critic_Score     8137 non-null   float64\n",
            " 11  Critic_Count     8137 non-null   float64\n",
            " 12  User_Score       10015 non-null  object \n",
            " 13  User_Count       7590 non-null   float64\n",
            " 14  Developer        10096 non-null  object \n",
            " 15  Rating           9950 non-null   object \n",
            "dtypes: float64(9), object(7)\n",
            "memory usage: 2.0+ MB\n"
          ]
        }
      ]
    },
    {
      "cell_type": "code",
      "source": [
        "dataset"
      ],
      "metadata": {
        "colab": {
          "base_uri": "https://localhost:8080/",
          "height": 424
        },
        "id": "kMC1iAPYYXp7",
        "outputId": "79b7ce54-39cf-46bb-9c91-e31eec3d52d2"
      },
      "execution_count": null,
      "outputs": [
        {
          "output_type": "execute_result",
          "data": {
            "text/plain": [
              "                                Name Platform  Year_of_Release         Genre  \\\n",
              "0                         Wii Sports      Wii           2006.0        Sports   \n",
              "1                  Super Mario Bros.      NES           1985.0      Platform   \n",
              "2                     Mario Kart Wii      Wii           2008.0        Racing   \n",
              "3                  Wii Sports Resort      Wii           2009.0        Sports   \n",
              "4           Pokemon Red/Pokemon Blue       GB           1996.0  Role-Playing   \n",
              "...                              ...      ...              ...           ...   \n",
              "16714  Samurai Warriors: Sanada Maru      PS3           2016.0        Action   \n",
              "16715               LMA Manager 2007     X360           2006.0        Sports   \n",
              "16716        Haitaka no Psychedelica      PSV           2016.0     Adventure   \n",
              "16717               Spirits & Spells      GBA           2003.0      Platform   \n",
              "16718            Winning Post 8 2016      PSV           2016.0    Simulation   \n",
              "\n",
              "          Publisher  NA_Sales  EU_Sales  JP_Sales  Other_Sales  Global_Sales  \\\n",
              "0          Nintendo     41.36     28.96      3.77         8.45         82.53   \n",
              "1          Nintendo     29.08      3.58      6.81         0.77         40.24   \n",
              "2          Nintendo     15.68     12.76      3.79         3.29         35.52   \n",
              "3          Nintendo     15.61     10.93      3.28         2.95         32.77   \n",
              "4          Nintendo     11.27      8.89     10.22         1.00         31.37   \n",
              "...             ...       ...       ...       ...          ...           ...   \n",
              "16714    Tecmo Koei      0.00      0.00      0.01         0.00          0.01   \n",
              "16715   Codemasters      0.00      0.01      0.00         0.00          0.01   \n",
              "16716  Idea Factory      0.00      0.00      0.01         0.00          0.01   \n",
              "16717       Wanadoo      0.01      0.00      0.00         0.00          0.01   \n",
              "16718    Tecmo Koei      0.00      0.00      0.01         0.00          0.01   \n",
              "\n",
              "       Critic_Score  Critic_Count User_Score  User_Count Developer Rating  \n",
              "0              76.0          51.0          8       322.0  Nintendo      E  \n",
              "1               NaN           NaN        NaN         NaN       NaN    NaN  \n",
              "2              82.0          73.0        8.3       709.0  Nintendo      E  \n",
              "3              80.0          73.0          8       192.0  Nintendo      E  \n",
              "4               NaN           NaN        NaN         NaN       NaN    NaN  \n",
              "...             ...           ...        ...         ...       ...    ...  \n",
              "16714           NaN           NaN        NaN         NaN       NaN    NaN  \n",
              "16715           NaN           NaN        NaN         NaN       NaN    NaN  \n",
              "16716           NaN           NaN        NaN         NaN       NaN    NaN  \n",
              "16717           NaN           NaN        NaN         NaN       NaN    NaN  \n",
              "16718           NaN           NaN        NaN         NaN       NaN    NaN  \n",
              "\n",
              "[16719 rows x 16 columns]"
            ],
            "text/html": [
              "<div>\n",
              "<style scoped>\n",
              "    .dataframe tbody tr th:only-of-type {\n",
              "        vertical-align: middle;\n",
              "    }\n",
              "\n",
              "    .dataframe tbody tr th {\n",
              "        vertical-align: top;\n",
              "    }\n",
              "\n",
              "    .dataframe thead th {\n",
              "        text-align: right;\n",
              "    }\n",
              "</style>\n",
              "<table border=\"1\" class=\"dataframe\">\n",
              "  <thead>\n",
              "    <tr style=\"text-align: right;\">\n",
              "      <th></th>\n",
              "      <th>Name</th>\n",
              "      <th>Platform</th>\n",
              "      <th>Year_of_Release</th>\n",
              "      <th>Genre</th>\n",
              "      <th>Publisher</th>\n",
              "      <th>NA_Sales</th>\n",
              "      <th>EU_Sales</th>\n",
              "      <th>JP_Sales</th>\n",
              "      <th>Other_Sales</th>\n",
              "      <th>Global_Sales</th>\n",
              "      <th>Critic_Score</th>\n",
              "      <th>Critic_Count</th>\n",
              "      <th>User_Score</th>\n",
              "      <th>User_Count</th>\n",
              "      <th>Developer</th>\n",
              "      <th>Rating</th>\n",
              "    </tr>\n",
              "  </thead>\n",
              "  <tbody>\n",
              "    <tr>\n",
              "      <th>0</th>\n",
              "      <td>Wii Sports</td>\n",
              "      <td>Wii</td>\n",
              "      <td>2006.0</td>\n",
              "      <td>Sports</td>\n",
              "      <td>Nintendo</td>\n",
              "      <td>41.36</td>\n",
              "      <td>28.96</td>\n",
              "      <td>3.77</td>\n",
              "      <td>8.45</td>\n",
              "      <td>82.53</td>\n",
              "      <td>76.0</td>\n",
              "      <td>51.0</td>\n",
              "      <td>8</td>\n",
              "      <td>322.0</td>\n",
              "      <td>Nintendo</td>\n",
              "      <td>E</td>\n",
              "    </tr>\n",
              "    <tr>\n",
              "      <th>1</th>\n",
              "      <td>Super Mario Bros.</td>\n",
              "      <td>NES</td>\n",
              "      <td>1985.0</td>\n",
              "      <td>Platform</td>\n",
              "      <td>Nintendo</td>\n",
              "      <td>29.08</td>\n",
              "      <td>3.58</td>\n",
              "      <td>6.81</td>\n",
              "      <td>0.77</td>\n",
              "      <td>40.24</td>\n",
              "      <td>NaN</td>\n",
              "      <td>NaN</td>\n",
              "      <td>NaN</td>\n",
              "      <td>NaN</td>\n",
              "      <td>NaN</td>\n",
              "      <td>NaN</td>\n",
              "    </tr>\n",
              "    <tr>\n",
              "      <th>2</th>\n",
              "      <td>Mario Kart Wii</td>\n",
              "      <td>Wii</td>\n",
              "      <td>2008.0</td>\n",
              "      <td>Racing</td>\n",
              "      <td>Nintendo</td>\n",
              "      <td>15.68</td>\n",
              "      <td>12.76</td>\n",
              "      <td>3.79</td>\n",
              "      <td>3.29</td>\n",
              "      <td>35.52</td>\n",
              "      <td>82.0</td>\n",
              "      <td>73.0</td>\n",
              "      <td>8.3</td>\n",
              "      <td>709.0</td>\n",
              "      <td>Nintendo</td>\n",
              "      <td>E</td>\n",
              "    </tr>\n",
              "    <tr>\n",
              "      <th>3</th>\n",
              "      <td>Wii Sports Resort</td>\n",
              "      <td>Wii</td>\n",
              "      <td>2009.0</td>\n",
              "      <td>Sports</td>\n",
              "      <td>Nintendo</td>\n",
              "      <td>15.61</td>\n",
              "      <td>10.93</td>\n",
              "      <td>3.28</td>\n",
              "      <td>2.95</td>\n",
              "      <td>32.77</td>\n",
              "      <td>80.0</td>\n",
              "      <td>73.0</td>\n",
              "      <td>8</td>\n",
              "      <td>192.0</td>\n",
              "      <td>Nintendo</td>\n",
              "      <td>E</td>\n",
              "    </tr>\n",
              "    <tr>\n",
              "      <th>4</th>\n",
              "      <td>Pokemon Red/Pokemon Blue</td>\n",
              "      <td>GB</td>\n",
              "      <td>1996.0</td>\n",
              "      <td>Role-Playing</td>\n",
              "      <td>Nintendo</td>\n",
              "      <td>11.27</td>\n",
              "      <td>8.89</td>\n",
              "      <td>10.22</td>\n",
              "      <td>1.00</td>\n",
              "      <td>31.37</td>\n",
              "      <td>NaN</td>\n",
              "      <td>NaN</td>\n",
              "      <td>NaN</td>\n",
              "      <td>NaN</td>\n",
              "      <td>NaN</td>\n",
              "      <td>NaN</td>\n",
              "    </tr>\n",
              "    <tr>\n",
              "      <th>...</th>\n",
              "      <td>...</td>\n",
              "      <td>...</td>\n",
              "      <td>...</td>\n",
              "      <td>...</td>\n",
              "      <td>...</td>\n",
              "      <td>...</td>\n",
              "      <td>...</td>\n",
              "      <td>...</td>\n",
              "      <td>...</td>\n",
              "      <td>...</td>\n",
              "      <td>...</td>\n",
              "      <td>...</td>\n",
              "      <td>...</td>\n",
              "      <td>...</td>\n",
              "      <td>...</td>\n",
              "      <td>...</td>\n",
              "    </tr>\n",
              "    <tr>\n",
              "      <th>16714</th>\n",
              "      <td>Samurai Warriors: Sanada Maru</td>\n",
              "      <td>PS3</td>\n",
              "      <td>2016.0</td>\n",
              "      <td>Action</td>\n",
              "      <td>Tecmo Koei</td>\n",
              "      <td>0.00</td>\n",
              "      <td>0.00</td>\n",
              "      <td>0.01</td>\n",
              "      <td>0.00</td>\n",
              "      <td>0.01</td>\n",
              "      <td>NaN</td>\n",
              "      <td>NaN</td>\n",
              "      <td>NaN</td>\n",
              "      <td>NaN</td>\n",
              "      <td>NaN</td>\n",
              "      <td>NaN</td>\n",
              "    </tr>\n",
              "    <tr>\n",
              "      <th>16715</th>\n",
              "      <td>LMA Manager 2007</td>\n",
              "      <td>X360</td>\n",
              "      <td>2006.0</td>\n",
              "      <td>Sports</td>\n",
              "      <td>Codemasters</td>\n",
              "      <td>0.00</td>\n",
              "      <td>0.01</td>\n",
              "      <td>0.00</td>\n",
              "      <td>0.00</td>\n",
              "      <td>0.01</td>\n",
              "      <td>NaN</td>\n",
              "      <td>NaN</td>\n",
              "      <td>NaN</td>\n",
              "      <td>NaN</td>\n",
              "      <td>NaN</td>\n",
              "      <td>NaN</td>\n",
              "    </tr>\n",
              "    <tr>\n",
              "      <th>16716</th>\n",
              "      <td>Haitaka no Psychedelica</td>\n",
              "      <td>PSV</td>\n",
              "      <td>2016.0</td>\n",
              "      <td>Adventure</td>\n",
              "      <td>Idea Factory</td>\n",
              "      <td>0.00</td>\n",
              "      <td>0.00</td>\n",
              "      <td>0.01</td>\n",
              "      <td>0.00</td>\n",
              "      <td>0.01</td>\n",
              "      <td>NaN</td>\n",
              "      <td>NaN</td>\n",
              "      <td>NaN</td>\n",
              "      <td>NaN</td>\n",
              "      <td>NaN</td>\n",
              "      <td>NaN</td>\n",
              "    </tr>\n",
              "    <tr>\n",
              "      <th>16717</th>\n",
              "      <td>Spirits &amp; Spells</td>\n",
              "      <td>GBA</td>\n",
              "      <td>2003.0</td>\n",
              "      <td>Platform</td>\n",
              "      <td>Wanadoo</td>\n",
              "      <td>0.01</td>\n",
              "      <td>0.00</td>\n",
              "      <td>0.00</td>\n",
              "      <td>0.00</td>\n",
              "      <td>0.01</td>\n",
              "      <td>NaN</td>\n",
              "      <td>NaN</td>\n",
              "      <td>NaN</td>\n",
              "      <td>NaN</td>\n",
              "      <td>NaN</td>\n",
              "      <td>NaN</td>\n",
              "    </tr>\n",
              "    <tr>\n",
              "      <th>16718</th>\n",
              "      <td>Winning Post 8 2016</td>\n",
              "      <td>PSV</td>\n",
              "      <td>2016.0</td>\n",
              "      <td>Simulation</td>\n",
              "      <td>Tecmo Koei</td>\n",
              "      <td>0.00</td>\n",
              "      <td>0.00</td>\n",
              "      <td>0.01</td>\n",
              "      <td>0.00</td>\n",
              "      <td>0.01</td>\n",
              "      <td>NaN</td>\n",
              "      <td>NaN</td>\n",
              "      <td>NaN</td>\n",
              "      <td>NaN</td>\n",
              "      <td>NaN</td>\n",
              "      <td>NaN</td>\n",
              "    </tr>\n",
              "  </tbody>\n",
              "</table>\n",
              "<p>16719 rows × 16 columns</p>\n",
              "</div>"
            ]
          },
          "metadata": {},
          "execution_count": 38
        }
      ]
    },
    {
      "cell_type": "markdown",
      "source": [
        "- Estatísticas básicas"
      ],
      "metadata": {
        "id": "xqY2PEMswL24"
      }
    },
    {
      "cell_type": "code",
      "source": [
        "dataset.describe()"
      ],
      "metadata": {
        "colab": {
          "base_uri": "https://localhost:8080/",
          "height": 300
        },
        "id": "OG4m7siGYmXx",
        "outputId": "559a84f9-c362-44d3-909e-747f572f3f3b"
      },
      "execution_count": null,
      "outputs": [
        {
          "output_type": "execute_result",
          "data": {
            "text/plain": [
              "       Year_of_Release      NA_Sales      EU_Sales      JP_Sales  \\\n",
              "count     16450.000000  16719.000000  16719.000000  16719.000000   \n",
              "mean       2006.487356      0.263330      0.145025      0.077602   \n",
              "std           5.878995      0.813514      0.503283      0.308818   \n",
              "min        1980.000000      0.000000      0.000000      0.000000   \n",
              "25%        2003.000000      0.000000      0.000000      0.000000   \n",
              "50%        2007.000000      0.080000      0.020000      0.000000   \n",
              "75%        2010.000000      0.240000      0.110000      0.040000   \n",
              "max        2020.000000     41.360000     28.960000     10.220000   \n",
              "\n",
              "        Other_Sales  Global_Sales  Critic_Score  Critic_Count    User_Count  \n",
              "count  16719.000000  16719.000000   8137.000000   8137.000000   7590.000000  \n",
              "mean       0.047332      0.533543     68.967679     26.360821    162.229908  \n",
              "std        0.186710      1.547935     13.938165     18.980495    561.282326  \n",
              "min        0.000000      0.010000     13.000000      3.000000      4.000000  \n",
              "25%        0.000000      0.060000     60.000000     12.000000     10.000000  \n",
              "50%        0.010000      0.170000     71.000000     21.000000     24.000000  \n",
              "75%        0.030000      0.470000     79.000000     36.000000     81.000000  \n",
              "max       10.570000     82.530000     98.000000    113.000000  10665.000000  "
            ],
            "text/html": [
              "<div>\n",
              "<style scoped>\n",
              "    .dataframe tbody tr th:only-of-type {\n",
              "        vertical-align: middle;\n",
              "    }\n",
              "\n",
              "    .dataframe tbody tr th {\n",
              "        vertical-align: top;\n",
              "    }\n",
              "\n",
              "    .dataframe thead th {\n",
              "        text-align: right;\n",
              "    }\n",
              "</style>\n",
              "<table border=\"1\" class=\"dataframe\">\n",
              "  <thead>\n",
              "    <tr style=\"text-align: right;\">\n",
              "      <th></th>\n",
              "      <th>Year_of_Release</th>\n",
              "      <th>NA_Sales</th>\n",
              "      <th>EU_Sales</th>\n",
              "      <th>JP_Sales</th>\n",
              "      <th>Other_Sales</th>\n",
              "      <th>Global_Sales</th>\n",
              "      <th>Critic_Score</th>\n",
              "      <th>Critic_Count</th>\n",
              "      <th>User_Count</th>\n",
              "    </tr>\n",
              "  </thead>\n",
              "  <tbody>\n",
              "    <tr>\n",
              "      <th>count</th>\n",
              "      <td>16450.000000</td>\n",
              "      <td>16719.000000</td>\n",
              "      <td>16719.000000</td>\n",
              "      <td>16719.000000</td>\n",
              "      <td>16719.000000</td>\n",
              "      <td>16719.000000</td>\n",
              "      <td>8137.000000</td>\n",
              "      <td>8137.000000</td>\n",
              "      <td>7590.000000</td>\n",
              "    </tr>\n",
              "    <tr>\n",
              "      <th>mean</th>\n",
              "      <td>2006.487356</td>\n",
              "      <td>0.263330</td>\n",
              "      <td>0.145025</td>\n",
              "      <td>0.077602</td>\n",
              "      <td>0.047332</td>\n",
              "      <td>0.533543</td>\n",
              "      <td>68.967679</td>\n",
              "      <td>26.360821</td>\n",
              "      <td>162.229908</td>\n",
              "    </tr>\n",
              "    <tr>\n",
              "      <th>std</th>\n",
              "      <td>5.878995</td>\n",
              "      <td>0.813514</td>\n",
              "      <td>0.503283</td>\n",
              "      <td>0.308818</td>\n",
              "      <td>0.186710</td>\n",
              "      <td>1.547935</td>\n",
              "      <td>13.938165</td>\n",
              "      <td>18.980495</td>\n",
              "      <td>561.282326</td>\n",
              "    </tr>\n",
              "    <tr>\n",
              "      <th>min</th>\n",
              "      <td>1980.000000</td>\n",
              "      <td>0.000000</td>\n",
              "      <td>0.000000</td>\n",
              "      <td>0.000000</td>\n",
              "      <td>0.000000</td>\n",
              "      <td>0.010000</td>\n",
              "      <td>13.000000</td>\n",
              "      <td>3.000000</td>\n",
              "      <td>4.000000</td>\n",
              "    </tr>\n",
              "    <tr>\n",
              "      <th>25%</th>\n",
              "      <td>2003.000000</td>\n",
              "      <td>0.000000</td>\n",
              "      <td>0.000000</td>\n",
              "      <td>0.000000</td>\n",
              "      <td>0.000000</td>\n",
              "      <td>0.060000</td>\n",
              "      <td>60.000000</td>\n",
              "      <td>12.000000</td>\n",
              "      <td>10.000000</td>\n",
              "    </tr>\n",
              "    <tr>\n",
              "      <th>50%</th>\n",
              "      <td>2007.000000</td>\n",
              "      <td>0.080000</td>\n",
              "      <td>0.020000</td>\n",
              "      <td>0.000000</td>\n",
              "      <td>0.010000</td>\n",
              "      <td>0.170000</td>\n",
              "      <td>71.000000</td>\n",
              "      <td>21.000000</td>\n",
              "      <td>24.000000</td>\n",
              "    </tr>\n",
              "    <tr>\n",
              "      <th>75%</th>\n",
              "      <td>2010.000000</td>\n",
              "      <td>0.240000</td>\n",
              "      <td>0.110000</td>\n",
              "      <td>0.040000</td>\n",
              "      <td>0.030000</td>\n",
              "      <td>0.470000</td>\n",
              "      <td>79.000000</td>\n",
              "      <td>36.000000</td>\n",
              "      <td>81.000000</td>\n",
              "    </tr>\n",
              "    <tr>\n",
              "      <th>max</th>\n",
              "      <td>2020.000000</td>\n",
              "      <td>41.360000</td>\n",
              "      <td>28.960000</td>\n",
              "      <td>10.220000</td>\n",
              "      <td>10.570000</td>\n",
              "      <td>82.530000</td>\n",
              "      <td>98.000000</td>\n",
              "      <td>113.000000</td>\n",
              "      <td>10665.000000</td>\n",
              "    </tr>\n",
              "  </tbody>\n",
              "</table>\n",
              "</div>"
            ]
          },
          "metadata": {},
          "execution_count": 39
        }
      ]
    },
    {
      "cell_type": "code",
      "source": [
        "dataset.shape"
      ],
      "metadata": {
        "colab": {
          "base_uri": "https://localhost:8080/"
        },
        "id": "l2h8y1Yp-yvM",
        "outputId": "ee89fcd0-e71e-40ce-bf15-611715c1bbd5"
      },
      "execution_count": null,
      "outputs": [
        {
          "output_type": "execute_result",
          "data": {
            "text/plain": [
              "(16719, 16)"
            ]
          },
          "metadata": {},
          "execution_count": 40
        }
      ]
    },
    {
      "cell_type": "code",
      "source": [
        "dataset.columns"
      ],
      "metadata": {
        "colab": {
          "base_uri": "https://localhost:8080/"
        },
        "id": "JwpC3DSx_ThM",
        "outputId": "0412af79-a5b4-4179-dcea-78699607098e"
      },
      "execution_count": null,
      "outputs": [
        {
          "output_type": "execute_result",
          "data": {
            "text/plain": [
              "Index(['Name', 'Platform', 'Year_of_Release', 'Genre', 'Publisher', 'NA_Sales',\n",
              "       'EU_Sales', 'JP_Sales', 'Other_Sales', 'Global_Sales', 'Critic_Score',\n",
              "       'Critic_Count', 'User_Score', 'User_Count', 'Developer', 'Rating'],\n",
              "      dtype='object')"
            ]
          },
          "metadata": {},
          "execution_count": 41
        }
      ]
    },
    {
      "cell_type": "markdown",
      "source": [
        "- Somatório de valores nulos"
      ],
      "metadata": {
        "id": "yp7Z6EdDwPX3"
      }
    },
    {
      "cell_type": "code",
      "source": [
        "dataset.isna().sum()"
      ],
      "metadata": {
        "colab": {
          "base_uri": "https://localhost:8080/"
        },
        "id": "eIShBSZJZBj0",
        "outputId": "fe953ec4-e63c-4e01-dc50-18df8a3885d9"
      },
      "execution_count": null,
      "outputs": [
        {
          "output_type": "execute_result",
          "data": {
            "text/plain": [
              "Name                  2\n",
              "Platform              0\n",
              "Year_of_Release     269\n",
              "Genre                 2\n",
              "Publisher            54\n",
              "NA_Sales              0\n",
              "EU_Sales              0\n",
              "JP_Sales              0\n",
              "Other_Sales           0\n",
              "Global_Sales          0\n",
              "Critic_Score       8582\n",
              "Critic_Count       8582\n",
              "User_Score         6704\n",
              "User_Count         9129\n",
              "Developer          6623\n",
              "Rating             6769\n",
              "dtype: int64"
            ]
          },
          "metadata": {},
          "execution_count": 42
        }
      ]
    },
    {
      "cell_type": "markdown",
      "source": [
        "- Apagar todos os registros com valores nulos"
      ],
      "metadata": {
        "id": "qpsFLOAWwSjr"
      }
    },
    {
      "cell_type": "code",
      "source": [
        "dataset.dropna(inplace= True)"
      ],
      "metadata": {
        "id": "DsvYhjH_ZUuk"
      },
      "execution_count": null,
      "outputs": []
    },
    {
      "cell_type": "code",
      "source": [
        "dataset.shape"
      ],
      "metadata": {
        "colab": {
          "base_uri": "https://localhost:8080/"
        },
        "id": "t9zSydASZXch",
        "outputId": "70e37800-b11e-4cc4-87f6-9737eccbb5ec"
      },
      "execution_count": null,
      "outputs": [
        {
          "output_type": "execute_result",
          "data": {
            "text/plain": [
              "(6825, 16)"
            ]
          },
          "metadata": {},
          "execution_count": 44
        }
      ]
    },
    {
      "cell_type": "code",
      "source": [
        "dataset"
      ],
      "metadata": {
        "colab": {
          "base_uri": "https://localhost:8080/",
          "height": 424
        },
        "id": "GOgC_hXEZZHH",
        "outputId": "ea4738af-9ee4-4521-c77c-2b1127547b2e"
      },
      "execution_count": null,
      "outputs": [
        {
          "output_type": "execute_result",
          "data": {
            "text/plain": [
              "                                    Name Platform  Year_of_Release     Genre  \\\n",
              "0                             Wii Sports      Wii             2006    Sports   \n",
              "2                         Mario Kart Wii      Wii             2008    Racing   \n",
              "3                      Wii Sports Resort      Wii             2009    Sports   \n",
              "6                  New Super Mario Bros.       DS             2006  Platform   \n",
              "7                               Wii Play      Wii             2006      Misc   \n",
              "...                                  ...      ...              ...       ...   \n",
              "16667         E.T. The Extra-Terrestrial      GBA             2001    Action   \n",
              "16677     Mortal Kombat: Deadly Alliance      GBA             2002  Fighting   \n",
              "16696  Metal Gear Solid V: Ground Zeroes       PC             2014    Action   \n",
              "16700                             Breach       PC             2011   Shooter   \n",
              "16706            STORM: Frontline Nation       PC             2011  Strategy   \n",
              "\n",
              "                          Publisher  Global_Sales           Developer Rating  \\\n",
              "0                          Nintendo         82.53            Nintendo      E   \n",
              "2                          Nintendo         35.52            Nintendo      E   \n",
              "3                          Nintendo         32.77            Nintendo      E   \n",
              "6                          Nintendo         29.80            Nintendo      E   \n",
              "7                          Nintendo         28.92            Nintendo      E   \n",
              "...                             ...           ...                 ...    ...   \n",
              "16667                      NewKidCo          0.01       Fluid Studios      E   \n",
              "16677                  Midway Games          0.01     Criterion Games      M   \n",
              "16696  Konami Digital Entertainment          0.01  Kojima Productions      M   \n",
              "16700                     Destineer          0.01        Atomic Games      T   \n",
              "16706                       Unknown          0.01              SimBin   E10+   \n",
              "\n",
              "       Score  \n",
              "0       78.0  \n",
              "2       82.5  \n",
              "3       80.0  \n",
              "6       87.0  \n",
              "7       62.0  \n",
              "...      ...  \n",
              "16667   35.0  \n",
              "16677   84.5  \n",
              "16696   78.0  \n",
              "16700   59.5  \n",
              "16706   66.0  \n",
              "\n",
              "[6825 rows x 9 columns]"
            ],
            "text/html": [
              "<div>\n",
              "<style scoped>\n",
              "    .dataframe tbody tr th:only-of-type {\n",
              "        vertical-align: middle;\n",
              "    }\n",
              "\n",
              "    .dataframe tbody tr th {\n",
              "        vertical-align: top;\n",
              "    }\n",
              "\n",
              "    .dataframe thead th {\n",
              "        text-align: right;\n",
              "    }\n",
              "</style>\n",
              "<table border=\"1\" class=\"dataframe\">\n",
              "  <thead>\n",
              "    <tr style=\"text-align: right;\">\n",
              "      <th></th>\n",
              "      <th>Name</th>\n",
              "      <th>Platform</th>\n",
              "      <th>Year_of_Release</th>\n",
              "      <th>Genre</th>\n",
              "      <th>Publisher</th>\n",
              "      <th>Global_Sales</th>\n",
              "      <th>Developer</th>\n",
              "      <th>Rating</th>\n",
              "      <th>Score</th>\n",
              "    </tr>\n",
              "  </thead>\n",
              "  <tbody>\n",
              "    <tr>\n",
              "      <th>0</th>\n",
              "      <td>Wii Sports</td>\n",
              "      <td>Wii</td>\n",
              "      <td>2006</td>\n",
              "      <td>Sports</td>\n",
              "      <td>Nintendo</td>\n",
              "      <td>82.53</td>\n",
              "      <td>Nintendo</td>\n",
              "      <td>E</td>\n",
              "      <td>78.0</td>\n",
              "    </tr>\n",
              "    <tr>\n",
              "      <th>2</th>\n",
              "      <td>Mario Kart Wii</td>\n",
              "      <td>Wii</td>\n",
              "      <td>2008</td>\n",
              "      <td>Racing</td>\n",
              "      <td>Nintendo</td>\n",
              "      <td>35.52</td>\n",
              "      <td>Nintendo</td>\n",
              "      <td>E</td>\n",
              "      <td>82.5</td>\n",
              "    </tr>\n",
              "    <tr>\n",
              "      <th>3</th>\n",
              "      <td>Wii Sports Resort</td>\n",
              "      <td>Wii</td>\n",
              "      <td>2009</td>\n",
              "      <td>Sports</td>\n",
              "      <td>Nintendo</td>\n",
              "      <td>32.77</td>\n",
              "      <td>Nintendo</td>\n",
              "      <td>E</td>\n",
              "      <td>80.0</td>\n",
              "    </tr>\n",
              "    <tr>\n",
              "      <th>6</th>\n",
              "      <td>New Super Mario Bros.</td>\n",
              "      <td>DS</td>\n",
              "      <td>2006</td>\n",
              "      <td>Platform</td>\n",
              "      <td>Nintendo</td>\n",
              "      <td>29.80</td>\n",
              "      <td>Nintendo</td>\n",
              "      <td>E</td>\n",
              "      <td>87.0</td>\n",
              "    </tr>\n",
              "    <tr>\n",
              "      <th>7</th>\n",
              "      <td>Wii Play</td>\n",
              "      <td>Wii</td>\n",
              "      <td>2006</td>\n",
              "      <td>Misc</td>\n",
              "      <td>Nintendo</td>\n",
              "      <td>28.92</td>\n",
              "      <td>Nintendo</td>\n",
              "      <td>E</td>\n",
              "      <td>62.0</td>\n",
              "    </tr>\n",
              "    <tr>\n",
              "      <th>...</th>\n",
              "      <td>...</td>\n",
              "      <td>...</td>\n",
              "      <td>...</td>\n",
              "      <td>...</td>\n",
              "      <td>...</td>\n",
              "      <td>...</td>\n",
              "      <td>...</td>\n",
              "      <td>...</td>\n",
              "      <td>...</td>\n",
              "    </tr>\n",
              "    <tr>\n",
              "      <th>16667</th>\n",
              "      <td>E.T. The Extra-Terrestrial</td>\n",
              "      <td>GBA</td>\n",
              "      <td>2001</td>\n",
              "      <td>Action</td>\n",
              "      <td>NewKidCo</td>\n",
              "      <td>0.01</td>\n",
              "      <td>Fluid Studios</td>\n",
              "      <td>E</td>\n",
              "      <td>35.0</td>\n",
              "    </tr>\n",
              "    <tr>\n",
              "      <th>16677</th>\n",
              "      <td>Mortal Kombat: Deadly Alliance</td>\n",
              "      <td>GBA</td>\n",
              "      <td>2002</td>\n",
              "      <td>Fighting</td>\n",
              "      <td>Midway Games</td>\n",
              "      <td>0.01</td>\n",
              "      <td>Criterion Games</td>\n",
              "      <td>M</td>\n",
              "      <td>84.5</td>\n",
              "    </tr>\n",
              "    <tr>\n",
              "      <th>16696</th>\n",
              "      <td>Metal Gear Solid V: Ground Zeroes</td>\n",
              "      <td>PC</td>\n",
              "      <td>2014</td>\n",
              "      <td>Action</td>\n",
              "      <td>Konami Digital Entertainment</td>\n",
              "      <td>0.01</td>\n",
              "      <td>Kojima Productions</td>\n",
              "      <td>M</td>\n",
              "      <td>78.0</td>\n",
              "    </tr>\n",
              "    <tr>\n",
              "      <th>16700</th>\n",
              "      <td>Breach</td>\n",
              "      <td>PC</td>\n",
              "      <td>2011</td>\n",
              "      <td>Shooter</td>\n",
              "      <td>Destineer</td>\n",
              "      <td>0.01</td>\n",
              "      <td>Atomic Games</td>\n",
              "      <td>T</td>\n",
              "      <td>59.5</td>\n",
              "    </tr>\n",
              "    <tr>\n",
              "      <th>16706</th>\n",
              "      <td>STORM: Frontline Nation</td>\n",
              "      <td>PC</td>\n",
              "      <td>2011</td>\n",
              "      <td>Strategy</td>\n",
              "      <td>Unknown</td>\n",
              "      <td>0.01</td>\n",
              "      <td>SimBin</td>\n",
              "      <td>E10+</td>\n",
              "      <td>66.0</td>\n",
              "    </tr>\n",
              "  </tbody>\n",
              "</table>\n",
              "<p>6825 rows × 9 columns</p>\n",
              "</div>"
            ]
          },
          "metadata": {},
          "execution_count": 85
        }
      ]
    },
    {
      "cell_type": "markdown",
      "source": [
        "- Verificar a existência de linhas duplicadas"
      ],
      "metadata": {
        "id": "fCP5dOr1wWYG"
      }
    },
    {
      "cell_type": "code",
      "source": [
        "dataset.duplicated().sum()"
      ],
      "metadata": {
        "colab": {
          "base_uri": "https://localhost:8080/"
        },
        "id": "dqeRBi3VaRCL",
        "outputId": "655eabb3-fe1d-4b69-b792-ddeb1bbd18a2"
      },
      "execution_count": null,
      "outputs": [
        {
          "output_type": "execute_result",
          "data": {
            "text/plain": [
              "0"
            ]
          },
          "metadata": {},
          "execution_count": 46
        }
      ]
    },
    {
      "cell_type": "code",
      "source": [
        "dataset.dtypes"
      ],
      "metadata": {
        "colab": {
          "base_uri": "https://localhost:8080/"
        },
        "id": "fzmIs9xaBJ2c",
        "outputId": "47c6bad3-7b78-4a11-c10b-1c12b8bba379"
      },
      "execution_count": null,
      "outputs": [
        {
          "output_type": "execute_result",
          "data": {
            "text/plain": [
              "Name                object\n",
              "Platform            object\n",
              "Year_of_Release    float64\n",
              "Genre               object\n",
              "Publisher           object\n",
              "NA_Sales           float64\n",
              "EU_Sales           float64\n",
              "JP_Sales           float64\n",
              "Other_Sales        float64\n",
              "Global_Sales       float64\n",
              "Critic_Score       float64\n",
              "Critic_Count       float64\n",
              "User_Score          object\n",
              "User_Count         float64\n",
              "Developer           object\n",
              "Rating              object\n",
              "dtype: object"
            ]
          },
          "metadata": {},
          "execution_count": 47
        }
      ]
    },
    {
      "cell_type": "markdown",
      "source": [
        "- Fazer a conversão dos tipos de dados, conforme os tipos listados abaixo"
      ],
      "metadata": {
        "id": "monv04sEwhlp"
      }
    },
    {
      "cell_type": "code",
      "source": [
        "dataset = dataset.astype({\"Year_of_Release\": \"int\", \"Critic_Count\": \"int\", \"User_Count\": \"int\", \"User_Score\": \"float64\"})"
      ],
      "metadata": {
        "id": "2L3_tzBCal5b"
      },
      "execution_count": null,
      "outputs": []
    },
    {
      "cell_type": "code",
      "source": [
        "dataset.dtypes"
      ],
      "metadata": {
        "colab": {
          "base_uri": "https://localhost:8080/"
        },
        "id": "tvfiqO1lDb-z",
        "outputId": "b5da728d-1c08-4b5e-c1d7-5bb73e93fae3"
      },
      "execution_count": null,
      "outputs": [
        {
          "output_type": "execute_result",
          "data": {
            "text/plain": [
              "Name                object\n",
              "Platform            object\n",
              "Year_of_Release      int32\n",
              "Genre               object\n",
              "Publisher           object\n",
              "NA_Sales           float64\n",
              "EU_Sales           float64\n",
              "JP_Sales           float64\n",
              "Other_Sales        float64\n",
              "Global_Sales       float64\n",
              "Critic_Score       float64\n",
              "Critic_Count         int32\n",
              "User_Score         float64\n",
              "User_Count           int32\n",
              "Developer           object\n",
              "Rating              object\n",
              "dtype: object"
            ]
          },
          "metadata": {},
          "execution_count": 53
        }
      ]
    },
    {
      "cell_type": "code",
      "source": [
        "dataset.head()"
      ],
      "metadata": {
        "colab": {
          "base_uri": "https://localhost:8080/",
          "height": 206
        },
        "id": "cE46SrTbbDvm",
        "outputId": "7e8419af-3da4-4d31-9090-a7fdf29d5d36"
      },
      "execution_count": null,
      "outputs": [
        {
          "output_type": "execute_result",
          "data": {
            "text/plain": [
              "                    Name Platform  Year_of_Release     Genre Publisher  \\\n",
              "0             Wii Sports      Wii             2006    Sports  Nintendo   \n",
              "2         Mario Kart Wii      Wii             2008    Racing  Nintendo   \n",
              "3      Wii Sports Resort      Wii             2009    Sports  Nintendo   \n",
              "6  New Super Mario Bros.       DS             2006  Platform  Nintendo   \n",
              "7               Wii Play      Wii             2006      Misc  Nintendo   \n",
              "\n",
              "   NA_Sales  EU_Sales  JP_Sales  Other_Sales  Global_Sales  Critic_Score  \\\n",
              "0     41.36     28.96      3.77         8.45         82.53          76.0   \n",
              "2     15.68     12.76      3.79         3.29         35.52          82.0   \n",
              "3     15.61     10.93      3.28         2.95         32.77          80.0   \n",
              "6     11.28      9.14      6.50         2.88         29.80          89.0   \n",
              "7     13.96      9.18      2.93         2.84         28.92          58.0   \n",
              "\n",
              "   Critic_Count User_Score  User_Count Developer Rating  \n",
              "0            51          8         322  Nintendo      E  \n",
              "2            73        8.3         709  Nintendo      E  \n",
              "3            73          8         192  Nintendo      E  \n",
              "6            65        8.5         431  Nintendo      E  \n",
              "7            41        6.6         129  Nintendo      E  "
            ],
            "text/html": [
              "<div>\n",
              "<style scoped>\n",
              "    .dataframe tbody tr th:only-of-type {\n",
              "        vertical-align: middle;\n",
              "    }\n",
              "\n",
              "    .dataframe tbody tr th {\n",
              "        vertical-align: top;\n",
              "    }\n",
              "\n",
              "    .dataframe thead th {\n",
              "        text-align: right;\n",
              "    }\n",
              "</style>\n",
              "<table border=\"1\" class=\"dataframe\">\n",
              "  <thead>\n",
              "    <tr style=\"text-align: right;\">\n",
              "      <th></th>\n",
              "      <th>Name</th>\n",
              "      <th>Platform</th>\n",
              "      <th>Year_of_Release</th>\n",
              "      <th>Genre</th>\n",
              "      <th>Publisher</th>\n",
              "      <th>NA_Sales</th>\n",
              "      <th>EU_Sales</th>\n",
              "      <th>JP_Sales</th>\n",
              "      <th>Other_Sales</th>\n",
              "      <th>Global_Sales</th>\n",
              "      <th>Critic_Score</th>\n",
              "      <th>Critic_Count</th>\n",
              "      <th>User_Score</th>\n",
              "      <th>User_Count</th>\n",
              "      <th>Developer</th>\n",
              "      <th>Rating</th>\n",
              "    </tr>\n",
              "  </thead>\n",
              "  <tbody>\n",
              "    <tr>\n",
              "      <th>0</th>\n",
              "      <td>Wii Sports</td>\n",
              "      <td>Wii</td>\n",
              "      <td>2006</td>\n",
              "      <td>Sports</td>\n",
              "      <td>Nintendo</td>\n",
              "      <td>41.36</td>\n",
              "      <td>28.96</td>\n",
              "      <td>3.77</td>\n",
              "      <td>8.45</td>\n",
              "      <td>82.53</td>\n",
              "      <td>76.0</td>\n",
              "      <td>51</td>\n",
              "      <td>8</td>\n",
              "      <td>322</td>\n",
              "      <td>Nintendo</td>\n",
              "      <td>E</td>\n",
              "    </tr>\n",
              "    <tr>\n",
              "      <th>2</th>\n",
              "      <td>Mario Kart Wii</td>\n",
              "      <td>Wii</td>\n",
              "      <td>2008</td>\n",
              "      <td>Racing</td>\n",
              "      <td>Nintendo</td>\n",
              "      <td>15.68</td>\n",
              "      <td>12.76</td>\n",
              "      <td>3.79</td>\n",
              "      <td>3.29</td>\n",
              "      <td>35.52</td>\n",
              "      <td>82.0</td>\n",
              "      <td>73</td>\n",
              "      <td>8.3</td>\n",
              "      <td>709</td>\n",
              "      <td>Nintendo</td>\n",
              "      <td>E</td>\n",
              "    </tr>\n",
              "    <tr>\n",
              "      <th>3</th>\n",
              "      <td>Wii Sports Resort</td>\n",
              "      <td>Wii</td>\n",
              "      <td>2009</td>\n",
              "      <td>Sports</td>\n",
              "      <td>Nintendo</td>\n",
              "      <td>15.61</td>\n",
              "      <td>10.93</td>\n",
              "      <td>3.28</td>\n",
              "      <td>2.95</td>\n",
              "      <td>32.77</td>\n",
              "      <td>80.0</td>\n",
              "      <td>73</td>\n",
              "      <td>8</td>\n",
              "      <td>192</td>\n",
              "      <td>Nintendo</td>\n",
              "      <td>E</td>\n",
              "    </tr>\n",
              "    <tr>\n",
              "      <th>6</th>\n",
              "      <td>New Super Mario Bros.</td>\n",
              "      <td>DS</td>\n",
              "      <td>2006</td>\n",
              "      <td>Platform</td>\n",
              "      <td>Nintendo</td>\n",
              "      <td>11.28</td>\n",
              "      <td>9.14</td>\n",
              "      <td>6.50</td>\n",
              "      <td>2.88</td>\n",
              "      <td>29.80</td>\n",
              "      <td>89.0</td>\n",
              "      <td>65</td>\n",
              "      <td>8.5</td>\n",
              "      <td>431</td>\n",
              "      <td>Nintendo</td>\n",
              "      <td>E</td>\n",
              "    </tr>\n",
              "    <tr>\n",
              "      <th>7</th>\n",
              "      <td>Wii Play</td>\n",
              "      <td>Wii</td>\n",
              "      <td>2006</td>\n",
              "      <td>Misc</td>\n",
              "      <td>Nintendo</td>\n",
              "      <td>13.96</td>\n",
              "      <td>9.18</td>\n",
              "      <td>2.93</td>\n",
              "      <td>2.84</td>\n",
              "      <td>28.92</td>\n",
              "      <td>58.0</td>\n",
              "      <td>41</td>\n",
              "      <td>6.6</td>\n",
              "      <td>129</td>\n",
              "      <td>Nintendo</td>\n",
              "      <td>E</td>\n",
              "    </tr>\n",
              "  </tbody>\n",
              "</table>\n",
              "</div>"
            ]
          },
          "metadata": {},
          "execution_count": 50
        }
      ]
    },
    {
      "cell_type": "markdown",
      "source": [
        "- Criar uma função para atualizar o atributo User_Score, para deixá-lo na mesma escala do atributo Critic_Score (somente multiplicar por 10)\n",
        "- Use a função apply para realizar a alteração"
      ],
      "metadata": {
        "id": "E4KBpAvGwsC0"
      }
    },
    {
      "cell_type": "code",
      "source": [
        "def crit (score):\n",
        "  return score *10"
      ],
      "metadata": {
        "id": "_DlN29rLLYg9"
      },
      "execution_count": null,
      "outputs": []
    },
    {
      "cell_type": "code",
      "source": [
        "dataset['User_Score'] = dataset['User_Score'].apply(crit)"
      ],
      "metadata": {
        "id": "2JrO2krGb6Og"
      },
      "execution_count": null,
      "outputs": []
    },
    {
      "cell_type": "code",
      "source": [
        "dataset.head()"
      ],
      "metadata": {
        "colab": {
          "base_uri": "https://localhost:8080/",
          "height": 206
        },
        "id": "i4pD04DHcc7M",
        "outputId": "12f2c0b2-22aa-43cb-cad2-c982fb1973bd"
      },
      "execution_count": null,
      "outputs": [
        {
          "output_type": "execute_result",
          "data": {
            "text/plain": [
              "                    Name Platform  Year_of_Release     Genre Publisher  \\\n",
              "0             Wii Sports      Wii             2006    Sports  Nintendo   \n",
              "2         Mario Kart Wii      Wii             2008    Racing  Nintendo   \n",
              "3      Wii Sports Resort      Wii             2009    Sports  Nintendo   \n",
              "6  New Super Mario Bros.       DS             2006  Platform  Nintendo   \n",
              "7               Wii Play      Wii             2006      Misc  Nintendo   \n",
              "\n",
              "   NA_Sales  EU_Sales  JP_Sales  Other_Sales  Global_Sales  Critic_Score  \\\n",
              "0     41.36     28.96      3.77         8.45         82.53          76.0   \n",
              "2     15.68     12.76      3.79         3.29         35.52          82.0   \n",
              "3     15.61     10.93      3.28         2.95         32.77          80.0   \n",
              "6     11.28      9.14      6.50         2.88         29.80          89.0   \n",
              "7     13.96      9.18      2.93         2.84         28.92          58.0   \n",
              "\n",
              "   Critic_Count  User_Score  User_Count Developer Rating  \n",
              "0            51        80.0         322  Nintendo      E  \n",
              "2            73        83.0         709  Nintendo      E  \n",
              "3            73        80.0         192  Nintendo      E  \n",
              "6            65        85.0         431  Nintendo      E  \n",
              "7            41        66.0         129  Nintendo      E  "
            ],
            "text/html": [
              "<div>\n",
              "<style scoped>\n",
              "    .dataframe tbody tr th:only-of-type {\n",
              "        vertical-align: middle;\n",
              "    }\n",
              "\n",
              "    .dataframe tbody tr th {\n",
              "        vertical-align: top;\n",
              "    }\n",
              "\n",
              "    .dataframe thead th {\n",
              "        text-align: right;\n",
              "    }\n",
              "</style>\n",
              "<table border=\"1\" class=\"dataframe\">\n",
              "  <thead>\n",
              "    <tr style=\"text-align: right;\">\n",
              "      <th></th>\n",
              "      <th>Name</th>\n",
              "      <th>Platform</th>\n",
              "      <th>Year_of_Release</th>\n",
              "      <th>Genre</th>\n",
              "      <th>Publisher</th>\n",
              "      <th>NA_Sales</th>\n",
              "      <th>EU_Sales</th>\n",
              "      <th>JP_Sales</th>\n",
              "      <th>Other_Sales</th>\n",
              "      <th>Global_Sales</th>\n",
              "      <th>Critic_Score</th>\n",
              "      <th>Critic_Count</th>\n",
              "      <th>User_Score</th>\n",
              "      <th>User_Count</th>\n",
              "      <th>Developer</th>\n",
              "      <th>Rating</th>\n",
              "    </tr>\n",
              "  </thead>\n",
              "  <tbody>\n",
              "    <tr>\n",
              "      <th>0</th>\n",
              "      <td>Wii Sports</td>\n",
              "      <td>Wii</td>\n",
              "      <td>2006</td>\n",
              "      <td>Sports</td>\n",
              "      <td>Nintendo</td>\n",
              "      <td>41.36</td>\n",
              "      <td>28.96</td>\n",
              "      <td>3.77</td>\n",
              "      <td>8.45</td>\n",
              "      <td>82.53</td>\n",
              "      <td>76.0</td>\n",
              "      <td>51</td>\n",
              "      <td>80.0</td>\n",
              "      <td>322</td>\n",
              "      <td>Nintendo</td>\n",
              "      <td>E</td>\n",
              "    </tr>\n",
              "    <tr>\n",
              "      <th>2</th>\n",
              "      <td>Mario Kart Wii</td>\n",
              "      <td>Wii</td>\n",
              "      <td>2008</td>\n",
              "      <td>Racing</td>\n",
              "      <td>Nintendo</td>\n",
              "      <td>15.68</td>\n",
              "      <td>12.76</td>\n",
              "      <td>3.79</td>\n",
              "      <td>3.29</td>\n",
              "      <td>35.52</td>\n",
              "      <td>82.0</td>\n",
              "      <td>73</td>\n",
              "      <td>83.0</td>\n",
              "      <td>709</td>\n",
              "      <td>Nintendo</td>\n",
              "      <td>E</td>\n",
              "    </tr>\n",
              "    <tr>\n",
              "      <th>3</th>\n",
              "      <td>Wii Sports Resort</td>\n",
              "      <td>Wii</td>\n",
              "      <td>2009</td>\n",
              "      <td>Sports</td>\n",
              "      <td>Nintendo</td>\n",
              "      <td>15.61</td>\n",
              "      <td>10.93</td>\n",
              "      <td>3.28</td>\n",
              "      <td>2.95</td>\n",
              "      <td>32.77</td>\n",
              "      <td>80.0</td>\n",
              "      <td>73</td>\n",
              "      <td>80.0</td>\n",
              "      <td>192</td>\n",
              "      <td>Nintendo</td>\n",
              "      <td>E</td>\n",
              "    </tr>\n",
              "    <tr>\n",
              "      <th>6</th>\n",
              "      <td>New Super Mario Bros.</td>\n",
              "      <td>DS</td>\n",
              "      <td>2006</td>\n",
              "      <td>Platform</td>\n",
              "      <td>Nintendo</td>\n",
              "      <td>11.28</td>\n",
              "      <td>9.14</td>\n",
              "      <td>6.50</td>\n",
              "      <td>2.88</td>\n",
              "      <td>29.80</td>\n",
              "      <td>89.0</td>\n",
              "      <td>65</td>\n",
              "      <td>85.0</td>\n",
              "      <td>431</td>\n",
              "      <td>Nintendo</td>\n",
              "      <td>E</td>\n",
              "    </tr>\n",
              "    <tr>\n",
              "      <th>7</th>\n",
              "      <td>Wii Play</td>\n",
              "      <td>Wii</td>\n",
              "      <td>2006</td>\n",
              "      <td>Misc</td>\n",
              "      <td>Nintendo</td>\n",
              "      <td>13.96</td>\n",
              "      <td>9.18</td>\n",
              "      <td>2.93</td>\n",
              "      <td>2.84</td>\n",
              "      <td>28.92</td>\n",
              "      <td>58.0</td>\n",
              "      <td>41</td>\n",
              "      <td>66.0</td>\n",
              "      <td>129</td>\n",
              "      <td>Nintendo</td>\n",
              "      <td>E</td>\n",
              "    </tr>\n",
              "  </tbody>\n",
              "</table>\n",
              "</div>"
            ]
          },
          "metadata": {},
          "execution_count": 58
        }
      ]
    },
    {
      "cell_type": "code",
      "source": [
        "dataset.iloc[0:5,0:5]"
      ],
      "metadata": {
        "colab": {
          "base_uri": "https://localhost:8080/",
          "height": 206
        },
        "id": "OikX9vp6dh4T",
        "outputId": "24a5823d-d0e0-4e58-e778-9c7637b88cf4"
      },
      "execution_count": null,
      "outputs": [
        {
          "output_type": "execute_result",
          "data": {
            "text/plain": [
              "                    Name Platform  Year_of_Release     Genre Publisher\n",
              "0             Wii Sports      Wii             2006    Sports  Nintendo\n",
              "2         Mario Kart Wii      Wii             2008    Racing  Nintendo\n",
              "3      Wii Sports Resort      Wii             2009    Sports  Nintendo\n",
              "6  New Super Mario Bros.       DS             2006  Platform  Nintendo\n",
              "7               Wii Play      Wii             2006      Misc  Nintendo"
            ],
            "text/html": [
              "<div>\n",
              "<style scoped>\n",
              "    .dataframe tbody tr th:only-of-type {\n",
              "        vertical-align: middle;\n",
              "    }\n",
              "\n",
              "    .dataframe tbody tr th {\n",
              "        vertical-align: top;\n",
              "    }\n",
              "\n",
              "    .dataframe thead th {\n",
              "        text-align: right;\n",
              "    }\n",
              "</style>\n",
              "<table border=\"1\" class=\"dataframe\">\n",
              "  <thead>\n",
              "    <tr style=\"text-align: right;\">\n",
              "      <th></th>\n",
              "      <th>Name</th>\n",
              "      <th>Platform</th>\n",
              "      <th>Year_of_Release</th>\n",
              "      <th>Genre</th>\n",
              "      <th>Publisher</th>\n",
              "    </tr>\n",
              "  </thead>\n",
              "  <tbody>\n",
              "    <tr>\n",
              "      <th>0</th>\n",
              "      <td>Wii Sports</td>\n",
              "      <td>Wii</td>\n",
              "      <td>2006</td>\n",
              "      <td>Sports</td>\n",
              "      <td>Nintendo</td>\n",
              "    </tr>\n",
              "    <tr>\n",
              "      <th>2</th>\n",
              "      <td>Mario Kart Wii</td>\n",
              "      <td>Wii</td>\n",
              "      <td>2008</td>\n",
              "      <td>Racing</td>\n",
              "      <td>Nintendo</td>\n",
              "    </tr>\n",
              "    <tr>\n",
              "      <th>3</th>\n",
              "      <td>Wii Sports Resort</td>\n",
              "      <td>Wii</td>\n",
              "      <td>2009</td>\n",
              "      <td>Sports</td>\n",
              "      <td>Nintendo</td>\n",
              "    </tr>\n",
              "    <tr>\n",
              "      <th>6</th>\n",
              "      <td>New Super Mario Bros.</td>\n",
              "      <td>DS</td>\n",
              "      <td>2006</td>\n",
              "      <td>Platform</td>\n",
              "      <td>Nintendo</td>\n",
              "    </tr>\n",
              "    <tr>\n",
              "      <th>7</th>\n",
              "      <td>Wii Play</td>\n",
              "      <td>Wii</td>\n",
              "      <td>2006</td>\n",
              "      <td>Misc</td>\n",
              "      <td>Nintendo</td>\n",
              "    </tr>\n",
              "  </tbody>\n",
              "</table>\n",
              "</div>"
            ]
          },
          "metadata": {},
          "execution_count": 60
        }
      ]
    },
    {
      "cell_type": "markdown",
      "source": [
        "- Apagar as colunas [\"NA_Sales\", \"JP_Sales\", \"EU_Sales\", \"Other_Sales\", \"Critic_Count\", \"User_Count\"]"
      ],
      "metadata": {
        "id": "ALflpORlxPTL"
      }
    },
    {
      "cell_type": "code",
      "source": [
        "dataset.drop([\"NA_Sales\", \"JP_Sales\", \"EU_Sales\", \"Other_Sales\", \"Critic_Count\", \"User_Count\"], axis=1, inplace=True)"
      ],
      "metadata": {
        "id": "4ZAeTIKzeGnq"
      },
      "execution_count": null,
      "outputs": []
    },
    {
      "cell_type": "code",
      "source": [
        "dataset.head()"
      ],
      "metadata": {
        "colab": {
          "base_uri": "https://localhost:8080/",
          "height": 206
        },
        "id": "_PTqe5WMeihb",
        "outputId": "abd080f8-893d-4455-d27d-e29b58eda154"
      },
      "execution_count": null,
      "outputs": [
        {
          "output_type": "execute_result",
          "data": {
            "text/plain": [
              "                    Name Platform  Year_of_Release     Genre Publisher  \\\n",
              "0             Wii Sports      Wii             2006    Sports  Nintendo   \n",
              "2         Mario Kart Wii      Wii             2008    Racing  Nintendo   \n",
              "3      Wii Sports Resort      Wii             2009    Sports  Nintendo   \n",
              "6  New Super Mario Bros.       DS             2006  Platform  Nintendo   \n",
              "7               Wii Play      Wii             2006      Misc  Nintendo   \n",
              "\n",
              "   Global_Sales  Critic_Score  User_Score Developer Rating  \n",
              "0         82.53          76.0        80.0  Nintendo      E  \n",
              "2         35.52          82.0        83.0  Nintendo      E  \n",
              "3         32.77          80.0        80.0  Nintendo      E  \n",
              "6         29.80          89.0        85.0  Nintendo      E  \n",
              "7         28.92          58.0        66.0  Nintendo      E  "
            ],
            "text/html": [
              "<div>\n",
              "<style scoped>\n",
              "    .dataframe tbody tr th:only-of-type {\n",
              "        vertical-align: middle;\n",
              "    }\n",
              "\n",
              "    .dataframe tbody tr th {\n",
              "        vertical-align: top;\n",
              "    }\n",
              "\n",
              "    .dataframe thead th {\n",
              "        text-align: right;\n",
              "    }\n",
              "</style>\n",
              "<table border=\"1\" class=\"dataframe\">\n",
              "  <thead>\n",
              "    <tr style=\"text-align: right;\">\n",
              "      <th></th>\n",
              "      <th>Name</th>\n",
              "      <th>Platform</th>\n",
              "      <th>Year_of_Release</th>\n",
              "      <th>Genre</th>\n",
              "      <th>Publisher</th>\n",
              "      <th>Global_Sales</th>\n",
              "      <th>Critic_Score</th>\n",
              "      <th>User_Score</th>\n",
              "      <th>Developer</th>\n",
              "      <th>Rating</th>\n",
              "    </tr>\n",
              "  </thead>\n",
              "  <tbody>\n",
              "    <tr>\n",
              "      <th>0</th>\n",
              "      <td>Wii Sports</td>\n",
              "      <td>Wii</td>\n",
              "      <td>2006</td>\n",
              "      <td>Sports</td>\n",
              "      <td>Nintendo</td>\n",
              "      <td>82.53</td>\n",
              "      <td>76.0</td>\n",
              "      <td>80.0</td>\n",
              "      <td>Nintendo</td>\n",
              "      <td>E</td>\n",
              "    </tr>\n",
              "    <tr>\n",
              "      <th>2</th>\n",
              "      <td>Mario Kart Wii</td>\n",
              "      <td>Wii</td>\n",
              "      <td>2008</td>\n",
              "      <td>Racing</td>\n",
              "      <td>Nintendo</td>\n",
              "      <td>35.52</td>\n",
              "      <td>82.0</td>\n",
              "      <td>83.0</td>\n",
              "      <td>Nintendo</td>\n",
              "      <td>E</td>\n",
              "    </tr>\n",
              "    <tr>\n",
              "      <th>3</th>\n",
              "      <td>Wii Sports Resort</td>\n",
              "      <td>Wii</td>\n",
              "      <td>2009</td>\n",
              "      <td>Sports</td>\n",
              "      <td>Nintendo</td>\n",
              "      <td>32.77</td>\n",
              "      <td>80.0</td>\n",
              "      <td>80.0</td>\n",
              "      <td>Nintendo</td>\n",
              "      <td>E</td>\n",
              "    </tr>\n",
              "    <tr>\n",
              "      <th>6</th>\n",
              "      <td>New Super Mario Bros.</td>\n",
              "      <td>DS</td>\n",
              "      <td>2006</td>\n",
              "      <td>Platform</td>\n",
              "      <td>Nintendo</td>\n",
              "      <td>29.80</td>\n",
              "      <td>89.0</td>\n",
              "      <td>85.0</td>\n",
              "      <td>Nintendo</td>\n",
              "      <td>E</td>\n",
              "    </tr>\n",
              "    <tr>\n",
              "      <th>7</th>\n",
              "      <td>Wii Play</td>\n",
              "      <td>Wii</td>\n",
              "      <td>2006</td>\n",
              "      <td>Misc</td>\n",
              "      <td>Nintendo</td>\n",
              "      <td>28.92</td>\n",
              "      <td>58.0</td>\n",
              "      <td>66.0</td>\n",
              "      <td>Nintendo</td>\n",
              "      <td>E</td>\n",
              "    </tr>\n",
              "  </tbody>\n",
              "</table>\n",
              "</div>"
            ]
          },
          "metadata": {},
          "execution_count": 66
        }
      ]
    },
    {
      "cell_type": "markdown",
      "source": [
        "- Mostrar a contagem de valores de cada coluna categórica"
      ],
      "metadata": {
        "id": "ZVa3cGanxVm7"
      }
    },
    {
      "cell_type": "code",
      "source": [
        "for col in dataset.columns:\n",
        "  if dataset[col].dtype == object:\n",
        "    print('----------', col, '----------')\n",
        "    print(f\"{dataset[col].value_counts(normalize=True)}\\n\")"
      ],
      "metadata": {
        "colab": {
          "base_uri": "https://localhost:8080/"
        },
        "id": "poRySjrCe_qs",
        "outputId": "cbb4b129-b0d6-4c72-f807-d2138543e0aa"
      },
      "execution_count": null,
      "outputs": [
        {
          "output_type": "stream",
          "name": "stdout",
          "text": [
            "---------- Name ----------\n",
            "Name\n",
            "Need for Speed: Most Wanted                  0.001172\n",
            "Madden NFL 07                                0.001172\n",
            "LEGO Star Wars II: The Original Trilogy      0.001172\n",
            "The Sims 2                                   0.001026\n",
            "Terraria                                     0.001026\n",
            "                                               ...   \n",
            "Castlevania: Portrait of Ruin                0.000147\n",
            "Suzuki TT Superbikes                         0.000147\n",
            "Rumble Roses                                 0.000147\n",
            "Sherlock Holmes: The Mystery of the Mummy    0.000147\n",
            "STORM: Frontline Nation                      0.000147\n",
            "Name: proportion, Length: 4377, dtype: float64\n",
            "\n",
            "---------- Platform ----------\n",
            "Platform\n",
            "PS2     0.167033\n",
            "X360    0.125714\n",
            "PS3     0.112674\n",
            "PC      0.095385\n",
            "XB      0.082784\n",
            "Wii     0.070183\n",
            "DS      0.067985\n",
            "PSP     0.057143\n",
            "GC      0.050989\n",
            "PS4     0.035018\n",
            "GBA     0.034725\n",
            "XOne    0.023297\n",
            "3DS     0.022711\n",
            "PS      0.021978\n",
            "PSV     0.017289\n",
            "WiiU    0.013040\n",
            "DC      0.002051\n",
            "Name: proportion, dtype: float64\n",
            "\n",
            "---------- Genre ----------\n",
            "Genre\n",
            "Action          0.238828\n",
            "Sports          0.138168\n",
            "Shooter         0.126593\n",
            "Role-Playing    0.104322\n",
            "Racing          0.085128\n",
            "Platform        0.059048\n",
            "Misc            0.056264\n",
            "Fighting        0.055385\n",
            "Simulation      0.043516\n",
            "Strategy        0.039121\n",
            "Adventure       0.036337\n",
            "Puzzle          0.017289\n",
            "Name: proportion, dtype: float64\n",
            "\n",
            "---------- Publisher ----------\n",
            "Publisher\n",
            "Electronic Arts                0.138315\n",
            "Ubisoft                        0.072674\n",
            "Activision                     0.072088\n",
            "Sony Computer Entertainment    0.046300\n",
            "THQ                            0.044982\n",
            "                                 ...   \n",
            "DSI Games                      0.000147\n",
            "Sunsoft                        0.000147\n",
            "O3 Entertainment               0.000147\n",
            "Tetris Online                  0.000147\n",
            "NewKidCo                       0.000147\n",
            "Name: proportion, Length: 262, dtype: float64\n",
            "\n",
            "---------- Developer ----------\n",
            "Developer\n",
            "EA Canada                             0.021832\n",
            "EA Sports                             0.020806\n",
            "Capcom                                0.018462\n",
            "Ubisoft                               0.015092\n",
            "Konami                                0.013919\n",
            "                                        ...   \n",
            "Sanzaru Games, Sanzaru Games, Inc.    0.000147\n",
            "SCEA, Think and Feel                  0.000147\n",
            "Ubisoft Annecy                        0.000147\n",
            "Omega Force, Koei Canada              0.000147\n",
            "Atomic Games                          0.000147\n",
            "Name: proportion, Length: 1289, dtype: float64\n",
            "\n",
            "---------- Rating ----------\n",
            "Rating\n",
            "T       0.348278\n",
            "E       0.305055\n",
            "M       0.209963\n",
            "E10+    0.136264\n",
            "AO      0.000147\n",
            "K-A     0.000147\n",
            "RP      0.000147\n",
            "Name: proportion, dtype: float64\n",
            "\n"
          ]
        }
      ]
    },
    {
      "cell_type": "markdown",
      "source": [
        "- Os 5 jogos mais vendidos"
      ],
      "metadata": {
        "id": "7wNYE0ZCxbRn"
      }
    },
    {
      "cell_type": "code",
      "source": [
        "dataset.sort_values(['Global_Sales'], ascending= False).head(5)"
      ],
      "metadata": {
        "colab": {
          "base_uri": "https://localhost:8080/",
          "height": 206
        },
        "id": "KqFfvYd2fa3V",
        "outputId": "d4d58dbf-42ce-406d-87c8-9c55c4b383b1"
      },
      "execution_count": null,
      "outputs": [
        {
          "output_type": "execute_result",
          "data": {
            "text/plain": [
              "                    Name Platform  Year_of_Release     Genre Publisher  \\\n",
              "0             Wii Sports      Wii             2006    Sports  Nintendo   \n",
              "2         Mario Kart Wii      Wii             2008    Racing  Nintendo   \n",
              "3      Wii Sports Resort      Wii             2009    Sports  Nintendo   \n",
              "6  New Super Mario Bros.       DS             2006  Platform  Nintendo   \n",
              "7               Wii Play      Wii             2006      Misc  Nintendo   \n",
              "\n",
              "   Global_Sales  Critic_Score  User_Score Developer Rating  \n",
              "0         82.53          76.0        80.0  Nintendo      E  \n",
              "2         35.52          82.0        83.0  Nintendo      E  \n",
              "3         32.77          80.0        80.0  Nintendo      E  \n",
              "6         29.80          89.0        85.0  Nintendo      E  \n",
              "7         28.92          58.0        66.0  Nintendo      E  "
            ],
            "text/html": [
              "<div>\n",
              "<style scoped>\n",
              "    .dataframe tbody tr th:only-of-type {\n",
              "        vertical-align: middle;\n",
              "    }\n",
              "\n",
              "    .dataframe tbody tr th {\n",
              "        vertical-align: top;\n",
              "    }\n",
              "\n",
              "    .dataframe thead th {\n",
              "        text-align: right;\n",
              "    }\n",
              "</style>\n",
              "<table border=\"1\" class=\"dataframe\">\n",
              "  <thead>\n",
              "    <tr style=\"text-align: right;\">\n",
              "      <th></th>\n",
              "      <th>Name</th>\n",
              "      <th>Platform</th>\n",
              "      <th>Year_of_Release</th>\n",
              "      <th>Genre</th>\n",
              "      <th>Publisher</th>\n",
              "      <th>Global_Sales</th>\n",
              "      <th>Critic_Score</th>\n",
              "      <th>User_Score</th>\n",
              "      <th>Developer</th>\n",
              "      <th>Rating</th>\n",
              "    </tr>\n",
              "  </thead>\n",
              "  <tbody>\n",
              "    <tr>\n",
              "      <th>0</th>\n",
              "      <td>Wii Sports</td>\n",
              "      <td>Wii</td>\n",
              "      <td>2006</td>\n",
              "      <td>Sports</td>\n",
              "      <td>Nintendo</td>\n",
              "      <td>82.53</td>\n",
              "      <td>76.0</td>\n",
              "      <td>80.0</td>\n",
              "      <td>Nintendo</td>\n",
              "      <td>E</td>\n",
              "    </tr>\n",
              "    <tr>\n",
              "      <th>2</th>\n",
              "      <td>Mario Kart Wii</td>\n",
              "      <td>Wii</td>\n",
              "      <td>2008</td>\n",
              "      <td>Racing</td>\n",
              "      <td>Nintendo</td>\n",
              "      <td>35.52</td>\n",
              "      <td>82.0</td>\n",
              "      <td>83.0</td>\n",
              "      <td>Nintendo</td>\n",
              "      <td>E</td>\n",
              "    </tr>\n",
              "    <tr>\n",
              "      <th>3</th>\n",
              "      <td>Wii Sports Resort</td>\n",
              "      <td>Wii</td>\n",
              "      <td>2009</td>\n",
              "      <td>Sports</td>\n",
              "      <td>Nintendo</td>\n",
              "      <td>32.77</td>\n",
              "      <td>80.0</td>\n",
              "      <td>80.0</td>\n",
              "      <td>Nintendo</td>\n",
              "      <td>E</td>\n",
              "    </tr>\n",
              "    <tr>\n",
              "      <th>6</th>\n",
              "      <td>New Super Mario Bros.</td>\n",
              "      <td>DS</td>\n",
              "      <td>2006</td>\n",
              "      <td>Platform</td>\n",
              "      <td>Nintendo</td>\n",
              "      <td>29.80</td>\n",
              "      <td>89.0</td>\n",
              "      <td>85.0</td>\n",
              "      <td>Nintendo</td>\n",
              "      <td>E</td>\n",
              "    </tr>\n",
              "    <tr>\n",
              "      <th>7</th>\n",
              "      <td>Wii Play</td>\n",
              "      <td>Wii</td>\n",
              "      <td>2006</td>\n",
              "      <td>Misc</td>\n",
              "      <td>Nintendo</td>\n",
              "      <td>28.92</td>\n",
              "      <td>58.0</td>\n",
              "      <td>66.0</td>\n",
              "      <td>Nintendo</td>\n",
              "      <td>E</td>\n",
              "    </tr>\n",
              "  </tbody>\n",
              "</table>\n",
              "</div>"
            ]
          },
          "metadata": {},
          "execution_count": 69
        }
      ]
    },
    {
      "cell_type": "markdown",
      "source": [
        "- Os 5 jogos menos vendidos"
      ],
      "metadata": {
        "id": "MV0tvr_0xfYB"
      }
    },
    {
      "cell_type": "code",
      "source": [
        "dataset.sort_values(['Global_Sales'], ascending= False).tail(5)"
      ],
      "metadata": {
        "colab": {
          "base_uri": "https://localhost:8080/",
          "height": 206
        },
        "id": "xDVeMxKVfv_d",
        "outputId": "8e456676-2067-455c-b1ed-1a6e944bc968"
      },
      "execution_count": null,
      "outputs": [
        {
          "output_type": "execute_result",
          "data": {
            "text/plain": [
              "                            Name Platform  Year_of_Release       Genre  \\\n",
              "16233              Madden NFL 13      PS3             2012      Sports   \n",
              "16230  Monster Rancher Advance 2      GBA             2002  Simulation   \n",
              "16211             Serious Sam II       PC             2005     Shooter   \n",
              "16210       Impossible Creatures       PC             2002    Strategy   \n",
              "16706    STORM: Frontline Nation       PC             2011    Strategy   \n",
              "\n",
              "                    Publisher  Global_Sales  Critic_Score  User_Score  \\\n",
              "16233         Electronic Arts          0.01          83.0        55.0   \n",
              "16230              Tecmo Koei          0.01          79.0        94.0   \n",
              "16211    Take-Two Interactive          0.01          74.0        70.0   \n",
              "16210  Microsoft Game Studios          0.01          72.0        80.0   \n",
              "16706                 Unknown          0.01          60.0        72.0   \n",
              "\n",
              "                     Developer Rating  \n",
              "16233               EA Tiburon      E  \n",
              "16230  Tecmo, Graphic Research      E  \n",
              "16211                  Croteam      M  \n",
              "16210                    Relic      T  \n",
              "16706                   SimBin   E10+  "
            ],
            "text/html": [
              "<div>\n",
              "<style scoped>\n",
              "    .dataframe tbody tr th:only-of-type {\n",
              "        vertical-align: middle;\n",
              "    }\n",
              "\n",
              "    .dataframe tbody tr th {\n",
              "        vertical-align: top;\n",
              "    }\n",
              "\n",
              "    .dataframe thead th {\n",
              "        text-align: right;\n",
              "    }\n",
              "</style>\n",
              "<table border=\"1\" class=\"dataframe\">\n",
              "  <thead>\n",
              "    <tr style=\"text-align: right;\">\n",
              "      <th></th>\n",
              "      <th>Name</th>\n",
              "      <th>Platform</th>\n",
              "      <th>Year_of_Release</th>\n",
              "      <th>Genre</th>\n",
              "      <th>Publisher</th>\n",
              "      <th>Global_Sales</th>\n",
              "      <th>Critic_Score</th>\n",
              "      <th>User_Score</th>\n",
              "      <th>Developer</th>\n",
              "      <th>Rating</th>\n",
              "    </tr>\n",
              "  </thead>\n",
              "  <tbody>\n",
              "    <tr>\n",
              "      <th>16233</th>\n",
              "      <td>Madden NFL 13</td>\n",
              "      <td>PS3</td>\n",
              "      <td>2012</td>\n",
              "      <td>Sports</td>\n",
              "      <td>Electronic Arts</td>\n",
              "      <td>0.01</td>\n",
              "      <td>83.0</td>\n",
              "      <td>55.0</td>\n",
              "      <td>EA Tiburon</td>\n",
              "      <td>E</td>\n",
              "    </tr>\n",
              "    <tr>\n",
              "      <th>16230</th>\n",
              "      <td>Monster Rancher Advance 2</td>\n",
              "      <td>GBA</td>\n",
              "      <td>2002</td>\n",
              "      <td>Simulation</td>\n",
              "      <td>Tecmo Koei</td>\n",
              "      <td>0.01</td>\n",
              "      <td>79.0</td>\n",
              "      <td>94.0</td>\n",
              "      <td>Tecmo, Graphic Research</td>\n",
              "      <td>E</td>\n",
              "    </tr>\n",
              "    <tr>\n",
              "      <th>16211</th>\n",
              "      <td>Serious Sam II</td>\n",
              "      <td>PC</td>\n",
              "      <td>2005</td>\n",
              "      <td>Shooter</td>\n",
              "      <td>Take-Two Interactive</td>\n",
              "      <td>0.01</td>\n",
              "      <td>74.0</td>\n",
              "      <td>70.0</td>\n",
              "      <td>Croteam</td>\n",
              "      <td>M</td>\n",
              "    </tr>\n",
              "    <tr>\n",
              "      <th>16210</th>\n",
              "      <td>Impossible Creatures</td>\n",
              "      <td>PC</td>\n",
              "      <td>2002</td>\n",
              "      <td>Strategy</td>\n",
              "      <td>Microsoft Game Studios</td>\n",
              "      <td>0.01</td>\n",
              "      <td>72.0</td>\n",
              "      <td>80.0</td>\n",
              "      <td>Relic</td>\n",
              "      <td>T</td>\n",
              "    </tr>\n",
              "    <tr>\n",
              "      <th>16706</th>\n",
              "      <td>STORM: Frontline Nation</td>\n",
              "      <td>PC</td>\n",
              "      <td>2011</td>\n",
              "      <td>Strategy</td>\n",
              "      <td>Unknown</td>\n",
              "      <td>0.01</td>\n",
              "      <td>60.0</td>\n",
              "      <td>72.0</td>\n",
              "      <td>SimBin</td>\n",
              "      <td>E10+</td>\n",
              "    </tr>\n",
              "  </tbody>\n",
              "</table>\n",
              "</div>"
            ]
          },
          "metadata": {},
          "execution_count": 70
        }
      ]
    },
    {
      "cell_type": "markdown",
      "source": [
        "- Todos os jogos de PS4, mostrando somente as colunas name, year_of_release e developer"
      ],
      "metadata": {
        "id": "dYTcmuKPxhiW"
      }
    },
    {
      "cell_type": "code",
      "source": [
        "dataset.loc[dataset['Platform']=='PS4', ['Name','Year_of_Release', 'Developer']]"
      ],
      "metadata": {
        "colab": {
          "base_uri": "https://localhost:8080/",
          "height": 424
        },
        "id": "zvo8GOMmSVCv",
        "outputId": "7c1b5a24-7ed0-413b-d458-ecc95c76b09f"
      },
      "execution_count": null,
      "outputs": [
        {
          "output_type": "execute_result",
          "data": {
            "text/plain": [
              "                                        Name  Year_of_Release  \\\n",
              "42                        Grand Theft Auto V             2014   \n",
              "77                                   FIFA 16             2015   \n",
              "92            Call of Duty: Advanced Warfare             2014   \n",
              "94                                   FIFA 17             2016   \n",
              "105                                Fallout 4             2015   \n",
              "...                                      ...              ...   \n",
              "16137                Super Stardust Ultra VR             2016   \n",
              "16490                     Super Dungeon Bros             2016   \n",
              "16503  Sherlock Holmes: The Devil's Daughter             2016   \n",
              "16530                             Dungeons 2             2016   \n",
              "16534                Carmageddon: Max Damage             2016   \n",
              "\n",
              "                            Developer  \n",
              "42                     Rockstar North  \n",
              "77                          EA Sports  \n",
              "92                 Sledgehammer Games  \n",
              "94            EA Sports, EA Vancouver  \n",
              "105             Bethesda Game Studios  \n",
              "...                               ...  \n",
              "16137  Sony Interactive Entertainment  \n",
              "16490                     React Games  \n",
              "16503                       Frogwares  \n",
              "16530                         Kalypso  \n",
              "16534                 Stainless Games  \n",
              "\n",
              "[239 rows x 3 columns]"
            ],
            "text/html": [
              "<div>\n",
              "<style scoped>\n",
              "    .dataframe tbody tr th:only-of-type {\n",
              "        vertical-align: middle;\n",
              "    }\n",
              "\n",
              "    .dataframe tbody tr th {\n",
              "        vertical-align: top;\n",
              "    }\n",
              "\n",
              "    .dataframe thead th {\n",
              "        text-align: right;\n",
              "    }\n",
              "</style>\n",
              "<table border=\"1\" class=\"dataframe\">\n",
              "  <thead>\n",
              "    <tr style=\"text-align: right;\">\n",
              "      <th></th>\n",
              "      <th>Name</th>\n",
              "      <th>Year_of_Release</th>\n",
              "      <th>Developer</th>\n",
              "    </tr>\n",
              "  </thead>\n",
              "  <tbody>\n",
              "    <tr>\n",
              "      <th>42</th>\n",
              "      <td>Grand Theft Auto V</td>\n",
              "      <td>2014</td>\n",
              "      <td>Rockstar North</td>\n",
              "    </tr>\n",
              "    <tr>\n",
              "      <th>77</th>\n",
              "      <td>FIFA 16</td>\n",
              "      <td>2015</td>\n",
              "      <td>EA Sports</td>\n",
              "    </tr>\n",
              "    <tr>\n",
              "      <th>92</th>\n",
              "      <td>Call of Duty: Advanced Warfare</td>\n",
              "      <td>2014</td>\n",
              "      <td>Sledgehammer Games</td>\n",
              "    </tr>\n",
              "    <tr>\n",
              "      <th>94</th>\n",
              "      <td>FIFA 17</td>\n",
              "      <td>2016</td>\n",
              "      <td>EA Sports, EA Vancouver</td>\n",
              "    </tr>\n",
              "    <tr>\n",
              "      <th>105</th>\n",
              "      <td>Fallout 4</td>\n",
              "      <td>2015</td>\n",
              "      <td>Bethesda Game Studios</td>\n",
              "    </tr>\n",
              "    <tr>\n",
              "      <th>...</th>\n",
              "      <td>...</td>\n",
              "      <td>...</td>\n",
              "      <td>...</td>\n",
              "    </tr>\n",
              "    <tr>\n",
              "      <th>16137</th>\n",
              "      <td>Super Stardust Ultra VR</td>\n",
              "      <td>2016</td>\n",
              "      <td>Sony Interactive Entertainment</td>\n",
              "    </tr>\n",
              "    <tr>\n",
              "      <th>16490</th>\n",
              "      <td>Super Dungeon Bros</td>\n",
              "      <td>2016</td>\n",
              "      <td>React Games</td>\n",
              "    </tr>\n",
              "    <tr>\n",
              "      <th>16503</th>\n",
              "      <td>Sherlock Holmes: The Devil's Daughter</td>\n",
              "      <td>2016</td>\n",
              "      <td>Frogwares</td>\n",
              "    </tr>\n",
              "    <tr>\n",
              "      <th>16530</th>\n",
              "      <td>Dungeons 2</td>\n",
              "      <td>2016</td>\n",
              "      <td>Kalypso</td>\n",
              "    </tr>\n",
              "    <tr>\n",
              "      <th>16534</th>\n",
              "      <td>Carmageddon: Max Damage</td>\n",
              "      <td>2016</td>\n",
              "      <td>Stainless Games</td>\n",
              "    </tr>\n",
              "  </tbody>\n",
              "</table>\n",
              "<p>239 rows × 3 columns</p>\n",
              "</div>"
            ]
          },
          "metadata": {},
          "execution_count": 72
        }
      ]
    },
    {
      "cell_type": "markdown",
      "source": [
        "- Os jogos de PS4 com o User_Score maior do que 90"
      ],
      "metadata": {
        "id": "Jle_jhwIxvRU"
      }
    },
    {
      "cell_type": "code",
      "source": [
        "dataset.loc[(dataset['Platform']=='PS4') & (dataset['User_Score']>90)]"
      ],
      "metadata": {
        "colab": {
          "base_uri": "https://localhost:8080/",
          "height": 81
        },
        "id": "Zr7snih6TPK0",
        "outputId": "1b0b054f-deeb-422a-ea1d-5a6a0140068e"
      },
      "execution_count": null,
      "outputs": [
        {
          "output_type": "execute_result",
          "data": {
            "text/plain": [
              "                         Name Platform  Year_of_Release         Genre  \\\n",
              "303  The Witcher 3: Wild Hunt      PS4             2015  Role-Playing   \n",
              "\n",
              "              Publisher  Global_Sales  Critic_Score  User_Score  \\\n",
              "303  Namco Bandai Games          3.97          92.0        92.0   \n",
              "\n",
              "                 Developer Rating  \n",
              "303  CD Projekt Red Studio      M  "
            ],
            "text/html": [
              "<div>\n",
              "<style scoped>\n",
              "    .dataframe tbody tr th:only-of-type {\n",
              "        vertical-align: middle;\n",
              "    }\n",
              "\n",
              "    .dataframe tbody tr th {\n",
              "        vertical-align: top;\n",
              "    }\n",
              "\n",
              "    .dataframe thead th {\n",
              "        text-align: right;\n",
              "    }\n",
              "</style>\n",
              "<table border=\"1\" class=\"dataframe\">\n",
              "  <thead>\n",
              "    <tr style=\"text-align: right;\">\n",
              "      <th></th>\n",
              "      <th>Name</th>\n",
              "      <th>Platform</th>\n",
              "      <th>Year_of_Release</th>\n",
              "      <th>Genre</th>\n",
              "      <th>Publisher</th>\n",
              "      <th>Global_Sales</th>\n",
              "      <th>Critic_Score</th>\n",
              "      <th>User_Score</th>\n",
              "      <th>Developer</th>\n",
              "      <th>Rating</th>\n",
              "    </tr>\n",
              "  </thead>\n",
              "  <tbody>\n",
              "    <tr>\n",
              "      <th>303</th>\n",
              "      <td>The Witcher 3: Wild Hunt</td>\n",
              "      <td>PS4</td>\n",
              "      <td>2015</td>\n",
              "      <td>Role-Playing</td>\n",
              "      <td>Namco Bandai Games</td>\n",
              "      <td>3.97</td>\n",
              "      <td>92.0</td>\n",
              "      <td>92.0</td>\n",
              "      <td>CD Projekt Red Studio</td>\n",
              "      <td>M</td>\n",
              "    </tr>\n",
              "  </tbody>\n",
              "</table>\n",
              "</div>"
            ]
          },
          "metadata": {},
          "execution_count": 75
        }
      ]
    },
    {
      "cell_type": "code",
      "source": [
        "dataset.loc[dataset['Platform']=='PS4', ['User_Score']>90]"
      ],
      "metadata": {
        "colab": {
          "base_uri": "https://localhost:8080/",
          "height": 150
        },
        "id": "gjVIFSMggY1P",
        "outputId": "d8d37695-84b1-42bb-b1a7-e73eb6773364"
      },
      "execution_count": null,
      "outputs": [
        {
          "output_type": "execute_result",
          "data": {
            "text/plain": [
              "                         Name Platform  Year_of_Release         Genre  \\\n",
              "303  The Witcher 3: Wild Hunt      PS4             2015  Role-Playing   \n",
              "\n",
              "              Publisher  Global_Sales  Critic_Score  User_Score  \\\n",
              "303  Namco Bandai Games          3.97          92.0        92.0   \n",
              "\n",
              "                 Developer Rating  \n",
              "303  CD Projekt Red Studio      M  "
            ],
            "text/html": [
              "\n",
              "  <div id=\"df-2f27c347-06ff-4fff-8c20-55b38df4bd21\" class=\"colab-df-container\">\n",
              "    <div>\n",
              "<style scoped>\n",
              "    .dataframe tbody tr th:only-of-type {\n",
              "        vertical-align: middle;\n",
              "    }\n",
              "\n",
              "    .dataframe tbody tr th {\n",
              "        vertical-align: top;\n",
              "    }\n",
              "\n",
              "    .dataframe thead th {\n",
              "        text-align: right;\n",
              "    }\n",
              "</style>\n",
              "<table border=\"1\" class=\"dataframe\">\n",
              "  <thead>\n",
              "    <tr style=\"text-align: right;\">\n",
              "      <th></th>\n",
              "      <th>Name</th>\n",
              "      <th>Platform</th>\n",
              "      <th>Year_of_Release</th>\n",
              "      <th>Genre</th>\n",
              "      <th>Publisher</th>\n",
              "      <th>Global_Sales</th>\n",
              "      <th>Critic_Score</th>\n",
              "      <th>User_Score</th>\n",
              "      <th>Developer</th>\n",
              "      <th>Rating</th>\n",
              "    </tr>\n",
              "  </thead>\n",
              "  <tbody>\n",
              "    <tr>\n",
              "      <th>303</th>\n",
              "      <td>The Witcher 3: Wild Hunt</td>\n",
              "      <td>PS4</td>\n",
              "      <td>2015</td>\n",
              "      <td>Role-Playing</td>\n",
              "      <td>Namco Bandai Games</td>\n",
              "      <td>3.97</td>\n",
              "      <td>92.0</td>\n",
              "      <td>92.0</td>\n",
              "      <td>CD Projekt Red Studio</td>\n",
              "      <td>M</td>\n",
              "    </tr>\n",
              "  </tbody>\n",
              "</table>\n",
              "</div>\n",
              "    <div class=\"colab-df-buttons\">\n",
              "\n",
              "  <div class=\"colab-df-container\">\n",
              "    <button class=\"colab-df-convert\" onclick=\"convertToInteractive('df-2f27c347-06ff-4fff-8c20-55b38df4bd21')\"\n",
              "            title=\"Convert this dataframe to an interactive table.\"\n",
              "            style=\"display:none;\">\n",
              "\n",
              "  <svg xmlns=\"http://www.w3.org/2000/svg\" height=\"24px\" viewBox=\"0 -960 960 960\">\n",
              "    <path d=\"M120-120v-720h720v720H120Zm60-500h600v-160H180v160Zm220 220h160v-160H400v160Zm0 220h160v-160H400v160ZM180-400h160v-160H180v160Zm440 0h160v-160H620v160ZM180-180h160v-160H180v160Zm440 0h160v-160H620v160Z\"/>\n",
              "  </svg>\n",
              "    </button>\n",
              "\n",
              "  <style>\n",
              "    .colab-df-container {\n",
              "      display:flex;\n",
              "      gap: 12px;\n",
              "    }\n",
              "\n",
              "    .colab-df-convert {\n",
              "      background-color: #E8F0FE;\n",
              "      border: none;\n",
              "      border-radius: 50%;\n",
              "      cursor: pointer;\n",
              "      display: none;\n",
              "      fill: #1967D2;\n",
              "      height: 32px;\n",
              "      padding: 0 0 0 0;\n",
              "      width: 32px;\n",
              "    }\n",
              "\n",
              "    .colab-df-convert:hover {\n",
              "      background-color: #E2EBFA;\n",
              "      box-shadow: 0px 1px 2px rgba(60, 64, 67, 0.3), 0px 1px 3px 1px rgba(60, 64, 67, 0.15);\n",
              "      fill: #174EA6;\n",
              "    }\n",
              "\n",
              "    .colab-df-buttons div {\n",
              "      margin-bottom: 4px;\n",
              "    }\n",
              "\n",
              "    [theme=dark] .colab-df-convert {\n",
              "      background-color: #3B4455;\n",
              "      fill: #D2E3FC;\n",
              "    }\n",
              "\n",
              "    [theme=dark] .colab-df-convert:hover {\n",
              "      background-color: #434B5C;\n",
              "      box-shadow: 0px 1px 3px 1px rgba(0, 0, 0, 0.15);\n",
              "      filter: drop-shadow(0px 1px 2px rgba(0, 0, 0, 0.3));\n",
              "      fill: #FFFFFF;\n",
              "    }\n",
              "  </style>\n",
              "\n",
              "    <script>\n",
              "      const buttonEl =\n",
              "        document.querySelector('#df-2f27c347-06ff-4fff-8c20-55b38df4bd21 button.colab-df-convert');\n",
              "      buttonEl.style.display =\n",
              "        google.colab.kernel.accessAllowed ? 'block' : 'none';\n",
              "\n",
              "      async function convertToInteractive(key) {\n",
              "        const element = document.querySelector('#df-2f27c347-06ff-4fff-8c20-55b38df4bd21');\n",
              "        const dataTable =\n",
              "          await google.colab.kernel.invokeFunction('convertToInteractive',\n",
              "                                                    [key], {});\n",
              "        if (!dataTable) return;\n",
              "\n",
              "        const docLinkHtml = 'Like what you see? Visit the ' +\n",
              "          '<a target=\"_blank\" href=https://colab.research.google.com/notebooks/data_table.ipynb>data table notebook</a>'\n",
              "          + ' to learn more about interactive tables.';\n",
              "        element.innerHTML = '';\n",
              "        dataTable['output_type'] = 'display_data';\n",
              "        await google.colab.output.renderOutput(dataTable, element);\n",
              "        const docLink = document.createElement('div');\n",
              "        docLink.innerHTML = docLinkHtml;\n",
              "        element.appendChild(docLink);\n",
              "      }\n",
              "    </script>\n",
              "  </div>\n",
              "\n",
              "\n",
              "    </div>\n",
              "  </div>\n"
            ]
          },
          "metadata": {},
          "execution_count": 93
        }
      ]
    },
    {
      "cell_type": "markdown",
      "source": [
        "- Os jogos de PS4 com User_Score maior que 85 (utilize a função query)"
      ],
      "metadata": {
        "id": "FUwnzsMSx2lS"
      }
    },
    {
      "cell_type": "code",
      "source": [
        "dataset.query(\"Platform == 'PS4' and `User_Score` >85\")"
      ],
      "metadata": {
        "colab": {
          "base_uri": "https://localhost:8080/",
          "height": 300
        },
        "id": "HV0u77wPTszH",
        "outputId": "957d2f06-9013-42b3-e284-9b891e6fff97"
      },
      "execution_count": null,
      "outputs": [
        {
          "output_type": "execute_result",
          "data": {
            "text/plain": [
              "                              Name Platform  Year_of_Release         Genre  \\\n",
              "303       The Witcher 3: Wild Hunt      PS4             2015  Role-Playing   \n",
              "623                     Bloodborne      PS4             2015        Action   \n",
              "1107                Dark Souls III      PS4             2016  Role-Playing   \n",
              "4676          Farming Simulator 17      PS4             2016    Simulation   \n",
              "4786               Life is Strange      PS4             2016     Adventure   \n",
              "5120                 Rocket League      PS4             2016        Sports   \n",
              "8887      The King of Fighters XIV      PS4             2016      Fighting   \n",
              "9242  Brothers: A Tale of Two Sons      PS4             2015     Adventure   \n",
              "\n",
              "                        Publisher  Global_Sales  Critic_Score  User_Score  \\\n",
              "303            Namco Bandai Games          3.97          92.0        92.0   \n",
              "623   Sony Computer Entertainment          2.48          92.0        86.0   \n",
              "1107           Namco Bandai Games          1.65          89.0        88.0   \n",
              "4676       Focus Home Interactive          0.41          69.0        87.0   \n",
              "4786                  Square Enix          0.40          85.0        86.0   \n",
              "5120                    505 Games          0.37          85.0        87.0   \n",
              "8887                  Deep Silver          0.15          79.0        87.0   \n",
              "9242                    505 Games          0.14          81.0        86.0   \n",
              "\n",
              "                  Developer Rating  \n",
              "303   CD Projekt Red Studio      M  \n",
              "623           From Software      M  \n",
              "1107          From Software      M  \n",
              "4676          Maximum Games      E  \n",
              "4786  DONTNOD Entertainment      M  \n",
              "5120                Psyonix      E  \n",
              "8887           SNK Playmore      T  \n",
              "9242             Starbreeze      T  "
            ],
            "text/html": [
              "<div>\n",
              "<style scoped>\n",
              "    .dataframe tbody tr th:only-of-type {\n",
              "        vertical-align: middle;\n",
              "    }\n",
              "\n",
              "    .dataframe tbody tr th {\n",
              "        vertical-align: top;\n",
              "    }\n",
              "\n",
              "    .dataframe thead th {\n",
              "        text-align: right;\n",
              "    }\n",
              "</style>\n",
              "<table border=\"1\" class=\"dataframe\">\n",
              "  <thead>\n",
              "    <tr style=\"text-align: right;\">\n",
              "      <th></th>\n",
              "      <th>Name</th>\n",
              "      <th>Platform</th>\n",
              "      <th>Year_of_Release</th>\n",
              "      <th>Genre</th>\n",
              "      <th>Publisher</th>\n",
              "      <th>Global_Sales</th>\n",
              "      <th>Critic_Score</th>\n",
              "      <th>User_Score</th>\n",
              "      <th>Developer</th>\n",
              "      <th>Rating</th>\n",
              "    </tr>\n",
              "  </thead>\n",
              "  <tbody>\n",
              "    <tr>\n",
              "      <th>303</th>\n",
              "      <td>The Witcher 3: Wild Hunt</td>\n",
              "      <td>PS4</td>\n",
              "      <td>2015</td>\n",
              "      <td>Role-Playing</td>\n",
              "      <td>Namco Bandai Games</td>\n",
              "      <td>3.97</td>\n",
              "      <td>92.0</td>\n",
              "      <td>92.0</td>\n",
              "      <td>CD Projekt Red Studio</td>\n",
              "      <td>M</td>\n",
              "    </tr>\n",
              "    <tr>\n",
              "      <th>623</th>\n",
              "      <td>Bloodborne</td>\n",
              "      <td>PS4</td>\n",
              "      <td>2015</td>\n",
              "      <td>Action</td>\n",
              "      <td>Sony Computer Entertainment</td>\n",
              "      <td>2.48</td>\n",
              "      <td>92.0</td>\n",
              "      <td>86.0</td>\n",
              "      <td>From Software</td>\n",
              "      <td>M</td>\n",
              "    </tr>\n",
              "    <tr>\n",
              "      <th>1107</th>\n",
              "      <td>Dark Souls III</td>\n",
              "      <td>PS4</td>\n",
              "      <td>2016</td>\n",
              "      <td>Role-Playing</td>\n",
              "      <td>Namco Bandai Games</td>\n",
              "      <td>1.65</td>\n",
              "      <td>89.0</td>\n",
              "      <td>88.0</td>\n",
              "      <td>From Software</td>\n",
              "      <td>M</td>\n",
              "    </tr>\n",
              "    <tr>\n",
              "      <th>4676</th>\n",
              "      <td>Farming Simulator 17</td>\n",
              "      <td>PS4</td>\n",
              "      <td>2016</td>\n",
              "      <td>Simulation</td>\n",
              "      <td>Focus Home Interactive</td>\n",
              "      <td>0.41</td>\n",
              "      <td>69.0</td>\n",
              "      <td>87.0</td>\n",
              "      <td>Maximum Games</td>\n",
              "      <td>E</td>\n",
              "    </tr>\n",
              "    <tr>\n",
              "      <th>4786</th>\n",
              "      <td>Life is Strange</td>\n",
              "      <td>PS4</td>\n",
              "      <td>2016</td>\n",
              "      <td>Adventure</td>\n",
              "      <td>Square Enix</td>\n",
              "      <td>0.40</td>\n",
              "      <td>85.0</td>\n",
              "      <td>86.0</td>\n",
              "      <td>DONTNOD Entertainment</td>\n",
              "      <td>M</td>\n",
              "    </tr>\n",
              "    <tr>\n",
              "      <th>5120</th>\n",
              "      <td>Rocket League</td>\n",
              "      <td>PS4</td>\n",
              "      <td>2016</td>\n",
              "      <td>Sports</td>\n",
              "      <td>505 Games</td>\n",
              "      <td>0.37</td>\n",
              "      <td>85.0</td>\n",
              "      <td>87.0</td>\n",
              "      <td>Psyonix</td>\n",
              "      <td>E</td>\n",
              "    </tr>\n",
              "    <tr>\n",
              "      <th>8887</th>\n",
              "      <td>The King of Fighters XIV</td>\n",
              "      <td>PS4</td>\n",
              "      <td>2016</td>\n",
              "      <td>Fighting</td>\n",
              "      <td>Deep Silver</td>\n",
              "      <td>0.15</td>\n",
              "      <td>79.0</td>\n",
              "      <td>87.0</td>\n",
              "      <td>SNK Playmore</td>\n",
              "      <td>T</td>\n",
              "    </tr>\n",
              "    <tr>\n",
              "      <th>9242</th>\n",
              "      <td>Brothers: A Tale of Two Sons</td>\n",
              "      <td>PS4</td>\n",
              "      <td>2015</td>\n",
              "      <td>Adventure</td>\n",
              "      <td>505 Games</td>\n",
              "      <td>0.14</td>\n",
              "      <td>81.0</td>\n",
              "      <td>86.0</td>\n",
              "      <td>Starbreeze</td>\n",
              "      <td>T</td>\n",
              "    </tr>\n",
              "  </tbody>\n",
              "</table>\n",
              "</div>"
            ]
          },
          "metadata": {},
          "execution_count": 76
        }
      ]
    },
    {
      "cell_type": "markdown",
      "source": [
        "- Crie uma nova coluna, que seja a média de Critic_Score e User_Score"
      ],
      "metadata": {
        "id": "jy7iAExqx9RX"
      }
    },
    {
      "cell_type": "code",
      "source": [
        "dataset['Score'] = (dataset['Critic_Score'] + dataset['User_Score'])/2"
      ],
      "metadata": {
        "id": "H6mOMkquhZO1"
      },
      "execution_count": null,
      "outputs": []
    },
    {
      "cell_type": "markdown",
      "source": [
        "- Apague os atributos Critic_Score e User_Score"
      ],
      "metadata": {
        "id": "i62FIronyCbw"
      }
    },
    {
      "cell_type": "code",
      "source": [
        "dataset.drop(  ['Critic_Score' , 'User_Score'], axis=1, inplace= True)"
      ],
      "metadata": {
        "id": "wy2v_5ikhjrn"
      },
      "execution_count": null,
      "outputs": []
    },
    {
      "cell_type": "code",
      "source": [
        "dataset"
      ],
      "metadata": {
        "colab": {
          "base_uri": "https://localhost:8080/",
          "height": 424
        },
        "id": "o68tCd6lhrxK",
        "outputId": "169bf744-d362-4b84-8aad-a4d598506a24"
      },
      "execution_count": null,
      "outputs": [
        {
          "output_type": "execute_result",
          "data": {
            "text/plain": [
              "                                    Name Platform  Year_of_Release     Genre  \\\n",
              "0                             Wii Sports      Wii             2006    Sports   \n",
              "2                         Mario Kart Wii      Wii             2008    Racing   \n",
              "3                      Wii Sports Resort      Wii             2009    Sports   \n",
              "6                  New Super Mario Bros.       DS             2006  Platform   \n",
              "7                               Wii Play      Wii             2006      Misc   \n",
              "...                                  ...      ...              ...       ...   \n",
              "16667         E.T. The Extra-Terrestrial      GBA             2001    Action   \n",
              "16677     Mortal Kombat: Deadly Alliance      GBA             2002  Fighting   \n",
              "16696  Metal Gear Solid V: Ground Zeroes       PC             2014    Action   \n",
              "16700                             Breach       PC             2011   Shooter   \n",
              "16706            STORM: Frontline Nation       PC             2011  Strategy   \n",
              "\n",
              "                          Publisher  Global_Sales           Developer Rating  \\\n",
              "0                          Nintendo         82.53            Nintendo      E   \n",
              "2                          Nintendo         35.52            Nintendo      E   \n",
              "3                          Nintendo         32.77            Nintendo      E   \n",
              "6                          Nintendo         29.80            Nintendo      E   \n",
              "7                          Nintendo         28.92            Nintendo      E   \n",
              "...                             ...           ...                 ...    ...   \n",
              "16667                      NewKidCo          0.01       Fluid Studios      E   \n",
              "16677                  Midway Games          0.01     Criterion Games      M   \n",
              "16696  Konami Digital Entertainment          0.01  Kojima Productions      M   \n",
              "16700                     Destineer          0.01        Atomic Games      T   \n",
              "16706                       Unknown          0.01              SimBin   E10+   \n",
              "\n",
              "       Score  \n",
              "0       78.0  \n",
              "2       82.5  \n",
              "3       80.0  \n",
              "6       87.0  \n",
              "7       62.0  \n",
              "...      ...  \n",
              "16667   35.0  \n",
              "16677   84.5  \n",
              "16696   78.0  \n",
              "16700   59.5  \n",
              "16706   66.0  \n",
              "\n",
              "[6825 rows x 9 columns]"
            ],
            "text/html": [
              "<div>\n",
              "<style scoped>\n",
              "    .dataframe tbody tr th:only-of-type {\n",
              "        vertical-align: middle;\n",
              "    }\n",
              "\n",
              "    .dataframe tbody tr th {\n",
              "        vertical-align: top;\n",
              "    }\n",
              "\n",
              "    .dataframe thead th {\n",
              "        text-align: right;\n",
              "    }\n",
              "</style>\n",
              "<table border=\"1\" class=\"dataframe\">\n",
              "  <thead>\n",
              "    <tr style=\"text-align: right;\">\n",
              "      <th></th>\n",
              "      <th>Name</th>\n",
              "      <th>Platform</th>\n",
              "      <th>Year_of_Release</th>\n",
              "      <th>Genre</th>\n",
              "      <th>Publisher</th>\n",
              "      <th>Global_Sales</th>\n",
              "      <th>Developer</th>\n",
              "      <th>Rating</th>\n",
              "      <th>Score</th>\n",
              "    </tr>\n",
              "  </thead>\n",
              "  <tbody>\n",
              "    <tr>\n",
              "      <th>0</th>\n",
              "      <td>Wii Sports</td>\n",
              "      <td>Wii</td>\n",
              "      <td>2006</td>\n",
              "      <td>Sports</td>\n",
              "      <td>Nintendo</td>\n",
              "      <td>82.53</td>\n",
              "      <td>Nintendo</td>\n",
              "      <td>E</td>\n",
              "      <td>78.0</td>\n",
              "    </tr>\n",
              "    <tr>\n",
              "      <th>2</th>\n",
              "      <td>Mario Kart Wii</td>\n",
              "      <td>Wii</td>\n",
              "      <td>2008</td>\n",
              "      <td>Racing</td>\n",
              "      <td>Nintendo</td>\n",
              "      <td>35.52</td>\n",
              "      <td>Nintendo</td>\n",
              "      <td>E</td>\n",
              "      <td>82.5</td>\n",
              "    </tr>\n",
              "    <tr>\n",
              "      <th>3</th>\n",
              "      <td>Wii Sports Resort</td>\n",
              "      <td>Wii</td>\n",
              "      <td>2009</td>\n",
              "      <td>Sports</td>\n",
              "      <td>Nintendo</td>\n",
              "      <td>32.77</td>\n",
              "      <td>Nintendo</td>\n",
              "      <td>E</td>\n",
              "      <td>80.0</td>\n",
              "    </tr>\n",
              "    <tr>\n",
              "      <th>6</th>\n",
              "      <td>New Super Mario Bros.</td>\n",
              "      <td>DS</td>\n",
              "      <td>2006</td>\n",
              "      <td>Platform</td>\n",
              "      <td>Nintendo</td>\n",
              "      <td>29.80</td>\n",
              "      <td>Nintendo</td>\n",
              "      <td>E</td>\n",
              "      <td>87.0</td>\n",
              "    </tr>\n",
              "    <tr>\n",
              "      <th>7</th>\n",
              "      <td>Wii Play</td>\n",
              "      <td>Wii</td>\n",
              "      <td>2006</td>\n",
              "      <td>Misc</td>\n",
              "      <td>Nintendo</td>\n",
              "      <td>28.92</td>\n",
              "      <td>Nintendo</td>\n",
              "      <td>E</td>\n",
              "      <td>62.0</td>\n",
              "    </tr>\n",
              "    <tr>\n",
              "      <th>...</th>\n",
              "      <td>...</td>\n",
              "      <td>...</td>\n",
              "      <td>...</td>\n",
              "      <td>...</td>\n",
              "      <td>...</td>\n",
              "      <td>...</td>\n",
              "      <td>...</td>\n",
              "      <td>...</td>\n",
              "      <td>...</td>\n",
              "    </tr>\n",
              "    <tr>\n",
              "      <th>16667</th>\n",
              "      <td>E.T. The Extra-Terrestrial</td>\n",
              "      <td>GBA</td>\n",
              "      <td>2001</td>\n",
              "      <td>Action</td>\n",
              "      <td>NewKidCo</td>\n",
              "      <td>0.01</td>\n",
              "      <td>Fluid Studios</td>\n",
              "      <td>E</td>\n",
              "      <td>35.0</td>\n",
              "    </tr>\n",
              "    <tr>\n",
              "      <th>16677</th>\n",
              "      <td>Mortal Kombat: Deadly Alliance</td>\n",
              "      <td>GBA</td>\n",
              "      <td>2002</td>\n",
              "      <td>Fighting</td>\n",
              "      <td>Midway Games</td>\n",
              "      <td>0.01</td>\n",
              "      <td>Criterion Games</td>\n",
              "      <td>M</td>\n",
              "      <td>84.5</td>\n",
              "    </tr>\n",
              "    <tr>\n",
              "      <th>16696</th>\n",
              "      <td>Metal Gear Solid V: Ground Zeroes</td>\n",
              "      <td>PC</td>\n",
              "      <td>2014</td>\n",
              "      <td>Action</td>\n",
              "      <td>Konami Digital Entertainment</td>\n",
              "      <td>0.01</td>\n",
              "      <td>Kojima Productions</td>\n",
              "      <td>M</td>\n",
              "      <td>78.0</td>\n",
              "    </tr>\n",
              "    <tr>\n",
              "      <th>16700</th>\n",
              "      <td>Breach</td>\n",
              "      <td>PC</td>\n",
              "      <td>2011</td>\n",
              "      <td>Shooter</td>\n",
              "      <td>Destineer</td>\n",
              "      <td>0.01</td>\n",
              "      <td>Atomic Games</td>\n",
              "      <td>T</td>\n",
              "      <td>59.5</td>\n",
              "    </tr>\n",
              "    <tr>\n",
              "      <th>16706</th>\n",
              "      <td>STORM: Frontline Nation</td>\n",
              "      <td>PC</td>\n",
              "      <td>2011</td>\n",
              "      <td>Strategy</td>\n",
              "      <td>Unknown</td>\n",
              "      <td>0.01</td>\n",
              "      <td>SimBin</td>\n",
              "      <td>E10+</td>\n",
              "      <td>66.0</td>\n",
              "    </tr>\n",
              "  </tbody>\n",
              "</table>\n",
              "<p>6825 rows × 9 columns</p>\n",
              "</div>"
            ]
          },
          "metadata": {},
          "execution_count": 86
        }
      ]
    },
    {
      "cell_type": "code",
      "source": [
        "dataset.columns"
      ],
      "metadata": {
        "colab": {
          "base_uri": "https://localhost:8080/"
        },
        "id": "TLdCOQ_Ai8wY",
        "outputId": "0369c42d-4a3b-4634-ad59-ec88d1dcf97a"
      },
      "execution_count": null,
      "outputs": [
        {
          "output_type": "execute_result",
          "data": {
            "text/plain": [
              "Index(['Name', 'Platform', 'Year_of_Release', 'Genre', 'Publisher',\n",
              "       'Global_Sales', 'Developer', 'Rating', 'Score'],\n",
              "      dtype='object')"
            ]
          },
          "metadata": {},
          "execution_count": 88
        }
      ]
    },
    {
      "cell_type": "markdown",
      "source": [
        "- Reposicione as colunas conforme a ordem abaixo"
      ],
      "metadata": {
        "id": "PuXIZqqmyJDt"
      }
    },
    {
      "cell_type": "code",
      "source": [
        "dataset = dataset.reindex(labels = ['Name', 'Platform', 'Year_of_Release', 'Genre', 'Publisher',\n",
        "       'Global_Sales', 'Score', 'Developer', 'Rating'], axis = 1)"
      ],
      "metadata": {
        "id": "2MfgSVoZjIPA"
      },
      "execution_count": null,
      "outputs": []
    },
    {
      "cell_type": "code",
      "source": [
        "dataset"
      ],
      "metadata": {
        "colab": {
          "base_uri": "https://localhost:8080/",
          "height": 424
        },
        "id": "gTazlWPCW7OY",
        "outputId": "ddb33828-106a-4038-e6dd-c035a161b00d"
      },
      "execution_count": null,
      "outputs": [
        {
          "output_type": "execute_result",
          "data": {
            "text/plain": [
              "                                    Name Platform  Year_of_Release     Genre  \\\n",
              "0                             Wii Sports      Wii             2006    Sports   \n",
              "2                         Mario Kart Wii      Wii             2008    Racing   \n",
              "3                      Wii Sports Resort      Wii             2009    Sports   \n",
              "6                  New Super Mario Bros.       DS             2006  Platform   \n",
              "7                               Wii Play      Wii             2006      Misc   \n",
              "...                                  ...      ...              ...       ...   \n",
              "16667         E.T. The Extra-Terrestrial      GBA             2001    Action   \n",
              "16677     Mortal Kombat: Deadly Alliance      GBA             2002  Fighting   \n",
              "16696  Metal Gear Solid V: Ground Zeroes       PC             2014    Action   \n",
              "16700                             Breach       PC             2011   Shooter   \n",
              "16706            STORM: Frontline Nation       PC             2011  Strategy   \n",
              "\n",
              "                          Publisher  Global_Sales  Score           Developer  \\\n",
              "0                          Nintendo         82.53   78.0            Nintendo   \n",
              "2                          Nintendo         35.52   82.5            Nintendo   \n",
              "3                          Nintendo         32.77   80.0            Nintendo   \n",
              "6                          Nintendo         29.80   87.0            Nintendo   \n",
              "7                          Nintendo         28.92   62.0            Nintendo   \n",
              "...                             ...           ...    ...                 ...   \n",
              "16667                      NewKidCo          0.01   35.0       Fluid Studios   \n",
              "16677                  Midway Games          0.01   84.5     Criterion Games   \n",
              "16696  Konami Digital Entertainment          0.01   78.0  Kojima Productions   \n",
              "16700                     Destineer          0.01   59.5        Atomic Games   \n",
              "16706                       Unknown          0.01   66.0              SimBin   \n",
              "\n",
              "      Rating  \n",
              "0          E  \n",
              "2          E  \n",
              "3          E  \n",
              "6          E  \n",
              "7          E  \n",
              "...      ...  \n",
              "16667      E  \n",
              "16677      M  \n",
              "16696      M  \n",
              "16700      T  \n",
              "16706   E10+  \n",
              "\n",
              "[6825 rows x 9 columns]"
            ],
            "text/html": [
              "<div>\n",
              "<style scoped>\n",
              "    .dataframe tbody tr th:only-of-type {\n",
              "        vertical-align: middle;\n",
              "    }\n",
              "\n",
              "    .dataframe tbody tr th {\n",
              "        vertical-align: top;\n",
              "    }\n",
              "\n",
              "    .dataframe thead th {\n",
              "        text-align: right;\n",
              "    }\n",
              "</style>\n",
              "<table border=\"1\" class=\"dataframe\">\n",
              "  <thead>\n",
              "    <tr style=\"text-align: right;\">\n",
              "      <th></th>\n",
              "      <th>Name</th>\n",
              "      <th>Platform</th>\n",
              "      <th>Year_of_Release</th>\n",
              "      <th>Genre</th>\n",
              "      <th>Publisher</th>\n",
              "      <th>Global_Sales</th>\n",
              "      <th>Score</th>\n",
              "      <th>Developer</th>\n",
              "      <th>Rating</th>\n",
              "    </tr>\n",
              "  </thead>\n",
              "  <tbody>\n",
              "    <tr>\n",
              "      <th>0</th>\n",
              "      <td>Wii Sports</td>\n",
              "      <td>Wii</td>\n",
              "      <td>2006</td>\n",
              "      <td>Sports</td>\n",
              "      <td>Nintendo</td>\n",
              "      <td>82.53</td>\n",
              "      <td>78.0</td>\n",
              "      <td>Nintendo</td>\n",
              "      <td>E</td>\n",
              "    </tr>\n",
              "    <tr>\n",
              "      <th>2</th>\n",
              "      <td>Mario Kart Wii</td>\n",
              "      <td>Wii</td>\n",
              "      <td>2008</td>\n",
              "      <td>Racing</td>\n",
              "      <td>Nintendo</td>\n",
              "      <td>35.52</td>\n",
              "      <td>82.5</td>\n",
              "      <td>Nintendo</td>\n",
              "      <td>E</td>\n",
              "    </tr>\n",
              "    <tr>\n",
              "      <th>3</th>\n",
              "      <td>Wii Sports Resort</td>\n",
              "      <td>Wii</td>\n",
              "      <td>2009</td>\n",
              "      <td>Sports</td>\n",
              "      <td>Nintendo</td>\n",
              "      <td>32.77</td>\n",
              "      <td>80.0</td>\n",
              "      <td>Nintendo</td>\n",
              "      <td>E</td>\n",
              "    </tr>\n",
              "    <tr>\n",
              "      <th>6</th>\n",
              "      <td>New Super Mario Bros.</td>\n",
              "      <td>DS</td>\n",
              "      <td>2006</td>\n",
              "      <td>Platform</td>\n",
              "      <td>Nintendo</td>\n",
              "      <td>29.80</td>\n",
              "      <td>87.0</td>\n",
              "      <td>Nintendo</td>\n",
              "      <td>E</td>\n",
              "    </tr>\n",
              "    <tr>\n",
              "      <th>7</th>\n",
              "      <td>Wii Play</td>\n",
              "      <td>Wii</td>\n",
              "      <td>2006</td>\n",
              "      <td>Misc</td>\n",
              "      <td>Nintendo</td>\n",
              "      <td>28.92</td>\n",
              "      <td>62.0</td>\n",
              "      <td>Nintendo</td>\n",
              "      <td>E</td>\n",
              "    </tr>\n",
              "    <tr>\n",
              "      <th>...</th>\n",
              "      <td>...</td>\n",
              "      <td>...</td>\n",
              "      <td>...</td>\n",
              "      <td>...</td>\n",
              "      <td>...</td>\n",
              "      <td>...</td>\n",
              "      <td>...</td>\n",
              "      <td>...</td>\n",
              "      <td>...</td>\n",
              "    </tr>\n",
              "    <tr>\n",
              "      <th>16667</th>\n",
              "      <td>E.T. The Extra-Terrestrial</td>\n",
              "      <td>GBA</td>\n",
              "      <td>2001</td>\n",
              "      <td>Action</td>\n",
              "      <td>NewKidCo</td>\n",
              "      <td>0.01</td>\n",
              "      <td>35.0</td>\n",
              "      <td>Fluid Studios</td>\n",
              "      <td>E</td>\n",
              "    </tr>\n",
              "    <tr>\n",
              "      <th>16677</th>\n",
              "      <td>Mortal Kombat: Deadly Alliance</td>\n",
              "      <td>GBA</td>\n",
              "      <td>2002</td>\n",
              "      <td>Fighting</td>\n",
              "      <td>Midway Games</td>\n",
              "      <td>0.01</td>\n",
              "      <td>84.5</td>\n",
              "      <td>Criterion Games</td>\n",
              "      <td>M</td>\n",
              "    </tr>\n",
              "    <tr>\n",
              "      <th>16696</th>\n",
              "      <td>Metal Gear Solid V: Ground Zeroes</td>\n",
              "      <td>PC</td>\n",
              "      <td>2014</td>\n",
              "      <td>Action</td>\n",
              "      <td>Konami Digital Entertainment</td>\n",
              "      <td>0.01</td>\n",
              "      <td>78.0</td>\n",
              "      <td>Kojima Productions</td>\n",
              "      <td>M</td>\n",
              "    </tr>\n",
              "    <tr>\n",
              "      <th>16700</th>\n",
              "      <td>Breach</td>\n",
              "      <td>PC</td>\n",
              "      <td>2011</td>\n",
              "      <td>Shooter</td>\n",
              "      <td>Destineer</td>\n",
              "      <td>0.01</td>\n",
              "      <td>59.5</td>\n",
              "      <td>Atomic Games</td>\n",
              "      <td>T</td>\n",
              "    </tr>\n",
              "    <tr>\n",
              "      <th>16706</th>\n",
              "      <td>STORM: Frontline Nation</td>\n",
              "      <td>PC</td>\n",
              "      <td>2011</td>\n",
              "      <td>Strategy</td>\n",
              "      <td>Unknown</td>\n",
              "      <td>0.01</td>\n",
              "      <td>66.0</td>\n",
              "      <td>SimBin</td>\n",
              "      <td>E10+</td>\n",
              "    </tr>\n",
              "  </tbody>\n",
              "</table>\n",
              "<p>6825 rows × 9 columns</p>\n",
              "</div>"
            ]
          },
          "metadata": {},
          "execution_count": 90
        }
      ]
    },
    {
      "cell_type": "code",
      "source": [
        "dataset.info()"
      ],
      "metadata": {
        "colab": {
          "base_uri": "https://localhost:8080/"
        },
        "id": "sBmbSzpJjspC",
        "outputId": "5af2791a-1881-4060-fade-a9296b3f2e18"
      },
      "execution_count": null,
      "outputs": [
        {
          "output_type": "stream",
          "name": "stdout",
          "text": [
            "<class 'pandas.core.frame.DataFrame'>\n",
            "Index: 6825 entries, 0 to 16706\n",
            "Data columns (total 9 columns):\n",
            " #   Column           Non-Null Count  Dtype  \n",
            "---  ------           --------------  -----  \n",
            " 0   Name             6825 non-null   object \n",
            " 1   Platform         6825 non-null   object \n",
            " 2   Year_of_Release  6825 non-null   int32  \n",
            " 3   Genre            6825 non-null   object \n",
            " 4   Publisher        6825 non-null   object \n",
            " 5   Global_Sales     6825 non-null   float64\n",
            " 6   Score            6825 non-null   float64\n",
            " 7   Developer        6825 non-null   object \n",
            " 8   Rating           6825 non-null   object \n",
            "dtypes: float64(2), int32(1), object(6)\n",
            "memory usage: 764.6+ KB\n"
          ]
        }
      ]
    },
    {
      "cell_type": "markdown",
      "source": [
        "- Altere o tipo de todas as colunas categórias para o tipo \"category\""
      ],
      "metadata": {
        "id": "6qA2W7z1yOEm"
      }
    },
    {
      "cell_type": "code",
      "source": [
        "colunas_categoricas =[]\n",
        "for col in dataset.columns:\n",
        "  if isinstance(dataset[col][0], str):\n",
        "    colunas_categoricas.append(col)\n",
        "colunas_categoricas"
      ],
      "metadata": {
        "colab": {
          "base_uri": "https://localhost:8080/"
        },
        "id": "K_sbjCNgXZ-R",
        "outputId": "16d52d40-cd34-4345-9148-e55d0ed40351"
      },
      "execution_count": null,
      "outputs": [
        {
          "output_type": "execute_result",
          "data": {
            "text/plain": [
              "['Name', 'Platform', 'Genre', 'Publisher', 'Developer', 'Rating']"
            ]
          },
          "metadata": {},
          "execution_count": 92
        }
      ]
    },
    {
      "cell_type": "code",
      "source": [
        "for col in colunas_categoricas:\n",
        "  dataset= dataset.astype({col: 'category'})"
      ],
      "metadata": {
        "id": "iEG8e-dVjvKX"
      },
      "execution_count": null,
      "outputs": []
    },
    {
      "cell_type": "markdown",
      "source": [
        "- Verique a quantidade de memória utilizada"
      ],
      "metadata": {
        "id": "WL6JHD9ZyTKU"
      }
    },
    {
      "cell_type": "code",
      "source": [
        "dataset.info()"
      ],
      "metadata": {
        "colab": {
          "base_uri": "https://localhost:8080/"
        },
        "id": "os0kD7Ytj-KQ",
        "outputId": "84969312-9876-4792-c000-af8b19e0aa24"
      },
      "execution_count": null,
      "outputs": [
        {
          "output_type": "stream",
          "name": "stdout",
          "text": [
            "<class 'pandas.core.frame.DataFrame'>\n",
            "Index: 6825 entries, 0 to 16706\n",
            "Data columns (total 9 columns):\n",
            " #   Column           Non-Null Count  Dtype   \n",
            "---  ------           --------------  -----   \n",
            " 0   Name             6825 non-null   category\n",
            " 1   Platform         6825 non-null   category\n",
            " 2   Year_of_Release  6825 non-null   int32   \n",
            " 3   Genre            6825 non-null   category\n",
            " 4   Publisher        6825 non-null   category\n",
            " 5   Global_Sales     6825 non-null   float64 \n",
            " 6   Score            6825 non-null   float64 \n",
            " 7   Developer        6825 non-null   category\n",
            " 8   Rating           6825 non-null   category\n",
            "dtypes: category(6), float64(2), int32(1)\n",
            "memory usage: 721.8 KB\n"
          ]
        }
      ]
    },
    {
      "cell_type": "markdown",
      "source": [
        "- O somatório de Global_Sales"
      ],
      "metadata": {
        "id": "wJlgGvAkyXaP"
      }
    },
    {
      "cell_type": "code",
      "source": [
        "dataset['Global_Sales'].sum()"
      ],
      "metadata": {
        "colab": {
          "base_uri": "https://localhost:8080/"
        },
        "id": "odHkYtFaXoMn",
        "outputId": "ecb9db19-cc57-4ef1-ae44-316271ed99ae"
      },
      "execution_count": null,
      "outputs": [
        {
          "output_type": "execute_result",
          "data": {
            "text/plain": [
              "5307.05"
            ]
          },
          "metadata": {},
          "execution_count": 95
        }
      ]
    },
    {
      "cell_type": "code",
      "source": [
        "dataset.loc[:, [\"Global_Sales\"]].sum()"
      ],
      "metadata": {
        "colab": {
          "base_uri": "https://localhost:8080/"
        },
        "id": "DkMvfgDikQll",
        "outputId": "40ed4cab-1ac6-4499-f798-d808b5eff1b0"
      },
      "execution_count": null,
      "outputs": [
        {
          "output_type": "execute_result",
          "data": {
            "text/plain": [
              "Global_Sales    5307.05\n",
              "dtype: float64"
            ]
          },
          "metadata": {},
          "execution_count": 96
        }
      ]
    },
    {
      "cell_type": "markdown",
      "source": [
        "- A média de Global Sales"
      ],
      "metadata": {
        "id": "rq2RmbG1yaDJ"
      }
    },
    {
      "cell_type": "code",
      "source": [
        "dataset.loc[:, [\"Global_Sales\"]].mean()"
      ],
      "metadata": {
        "colab": {
          "base_uri": "https://localhost:8080/"
        },
        "id": "Q7H6gA55knpg",
        "outputId": "fbc11622-4fdd-41a7-ee37-e2de34f93d3c"
      },
      "execution_count": null,
      "outputs": [
        {
          "output_type": "execute_result",
          "data": {
            "text/plain": [
              "Global_Sales    0.77759\n",
              "dtype: float64"
            ]
          },
          "metadata": {},
          "execution_count": 97
        }
      ]
    },
    {
      "cell_type": "markdown",
      "source": [
        "- Os valores únicos de Platform"
      ],
      "metadata": {
        "id": "lPETAAiOydZH"
      }
    },
    {
      "cell_type": "code",
      "source": [
        "dataset['Platform'].unique()"
      ],
      "metadata": {
        "colab": {
          "base_uri": "https://localhost:8080/"
        },
        "id": "1mLF-ISQktVW",
        "outputId": "7cc2241f-f977-4b82-b5d8-680ae98fbc2e"
      },
      "execution_count": null,
      "outputs": [
        {
          "output_type": "execute_result",
          "data": {
            "text/plain": [
              "['Wii', 'DS', 'X360', 'PS3', 'PS2', ..., 'GC', 'GBA', 'XOne', 'PSV', 'DC']\n",
              "Length: 17\n",
              "Categories (17, object): ['3DS', 'DC', 'DS', 'GBA', ..., 'WiiU', 'X360', 'XB', 'XOne']"
            ]
          },
          "metadata": {},
          "execution_count": 99
        }
      ]
    },
    {
      "cell_type": "markdown",
      "source": [
        "- Agrupamento de Platform por Global Sales"
      ],
      "metadata": {
        "id": "ucGCKIaCygOk"
      }
    },
    {
      "cell_type": "code",
      "source": [
        "dataset.groupby('Platform',observed=False)[\"Global_Sales\"].mean().sort_values(ascending= False)"
      ],
      "metadata": {
        "colab": {
          "base_uri": "https://localhost:8080/"
        },
        "id": "7lcwAfSbkx2I",
        "outputId": "3f5d3293-cf54-4621-cfb4-69c4544b0ff5"
      },
      "execution_count": null,
      "outputs": [
        {
          "output_type": "execute_result",
          "data": {
            "text/plain": [
              "Platform\n",
              "PS      1.377000\n",
              "Wii     1.375741\n",
              "PS3     1.019896\n",
              "PS4     1.016862\n",
              "X360    0.994522\n",
              "PS2     0.829798\n",
              "DS      0.823987\n",
              "XOne    0.814906\n",
              "3DS     0.795032\n",
              "WiiU    0.742472\n",
              "GBA     0.555907\n",
              "PSP     0.481846\n",
              "GC      0.458103\n",
              "XB      0.375345\n",
              "DC      0.325000\n",
              "PC      0.287435\n",
              "PSV     0.261695\n",
              "Name: Global_Sales, dtype: float64"
            ]
          },
          "metadata": {},
          "execution_count": 102
        }
      ]
    },
    {
      "cell_type": "markdown",
      "source": [
        "- Agrupamento de Genre e Platform, mostrando a média dos outros atributos (função agg)"
      ],
      "metadata": {
        "id": "Zo9k78ZLykaz"
      }
    },
    {
      "cell_type": "code",
      "source": [
        "dataset.groupby(['Genre','Platform'],observed=False).agg('mean', numeric_only = True)"
      ],
      "metadata": {
        "colab": {
          "base_uri": "https://localhost:8080/",
          "height": 455
        },
        "id": "NUQwGjV3lEqa",
        "outputId": "a2fb2148-73a0-4ba2-8f68-1046d2aaa290"
      },
      "execution_count": null,
      "outputs": [
        {
          "output_type": "execute_result",
          "data": {
            "text/plain": [
              "                   Year_of_Release  Global_Sales      Score\n",
              "Genre    Platform                                          \n",
              "Action   3DS           2012.796296      0.570556  64.620370\n",
              "         DC                    NaN           NaN        NaN\n",
              "         DS            2007.546667      0.565733  62.880000\n",
              "         GBA           2003.254902      0.455098  69.500000\n",
              "         GC            2003.898551      0.434638  72.398551\n",
              "...                            ...           ...        ...\n",
              "Strategy Wii           2007.500000      0.293333  66.166667\n",
              "         WiiU          2013.000000      1.110000  87.000000\n",
              "         X360          2008.631579      0.421053  70.552632\n",
              "         XB            2003.692308      0.147692  76.230769\n",
              "         XOne          2014.500000      0.105000  72.500000\n",
              "\n",
              "[204 rows x 3 columns]"
            ],
            "text/html": [
              "<div>\n",
              "<style scoped>\n",
              "    .dataframe tbody tr th:only-of-type {\n",
              "        vertical-align: middle;\n",
              "    }\n",
              "\n",
              "    .dataframe tbody tr th {\n",
              "        vertical-align: top;\n",
              "    }\n",
              "\n",
              "    .dataframe thead th {\n",
              "        text-align: right;\n",
              "    }\n",
              "</style>\n",
              "<table border=\"1\" class=\"dataframe\">\n",
              "  <thead>\n",
              "    <tr style=\"text-align: right;\">\n",
              "      <th></th>\n",
              "      <th></th>\n",
              "      <th>Year_of_Release</th>\n",
              "      <th>Global_Sales</th>\n",
              "      <th>Score</th>\n",
              "    </tr>\n",
              "    <tr>\n",
              "      <th>Genre</th>\n",
              "      <th>Platform</th>\n",
              "      <th></th>\n",
              "      <th></th>\n",
              "      <th></th>\n",
              "    </tr>\n",
              "  </thead>\n",
              "  <tbody>\n",
              "    <tr>\n",
              "      <th rowspan=\"5\" valign=\"top\">Action</th>\n",
              "      <th>3DS</th>\n",
              "      <td>2012.796296</td>\n",
              "      <td>0.570556</td>\n",
              "      <td>64.620370</td>\n",
              "    </tr>\n",
              "    <tr>\n",
              "      <th>DC</th>\n",
              "      <td>NaN</td>\n",
              "      <td>NaN</td>\n",
              "      <td>NaN</td>\n",
              "    </tr>\n",
              "    <tr>\n",
              "      <th>DS</th>\n",
              "      <td>2007.546667</td>\n",
              "      <td>0.565733</td>\n",
              "      <td>62.880000</td>\n",
              "    </tr>\n",
              "    <tr>\n",
              "      <th>GBA</th>\n",
              "      <td>2003.254902</td>\n",
              "      <td>0.455098</td>\n",
              "      <td>69.500000</td>\n",
              "    </tr>\n",
              "    <tr>\n",
              "      <th>GC</th>\n",
              "      <td>2003.898551</td>\n",
              "      <td>0.434638</td>\n",
              "      <td>72.398551</td>\n",
              "    </tr>\n",
              "    <tr>\n",
              "      <th>...</th>\n",
              "      <th>...</th>\n",
              "      <td>...</td>\n",
              "      <td>...</td>\n",
              "      <td>...</td>\n",
              "    </tr>\n",
              "    <tr>\n",
              "      <th rowspan=\"5\" valign=\"top\">Strategy</th>\n",
              "      <th>Wii</th>\n",
              "      <td>2007.500000</td>\n",
              "      <td>0.293333</td>\n",
              "      <td>66.166667</td>\n",
              "    </tr>\n",
              "    <tr>\n",
              "      <th>WiiU</th>\n",
              "      <td>2013.000000</td>\n",
              "      <td>1.110000</td>\n",
              "      <td>87.000000</td>\n",
              "    </tr>\n",
              "    <tr>\n",
              "      <th>X360</th>\n",
              "      <td>2008.631579</td>\n",
              "      <td>0.421053</td>\n",
              "      <td>70.552632</td>\n",
              "    </tr>\n",
              "    <tr>\n",
              "      <th>XB</th>\n",
              "      <td>2003.692308</td>\n",
              "      <td>0.147692</td>\n",
              "      <td>76.230769</td>\n",
              "    </tr>\n",
              "    <tr>\n",
              "      <th>XOne</th>\n",
              "      <td>2014.500000</td>\n",
              "      <td>0.105000</td>\n",
              "      <td>72.500000</td>\n",
              "    </tr>\n",
              "  </tbody>\n",
              "</table>\n",
              "<p>204 rows × 3 columns</p>\n",
              "</div>"
            ]
          },
          "metadata": {},
          "execution_count": 103
        }
      ]
    },
    {
      "cell_type": "markdown",
      "source": [
        "- A contagem de vendas por gênero"
      ],
      "metadata": {
        "id": "wV4jjUvtysNF"
      }
    },
    {
      "cell_type": "code",
      "source": [
        "dataset.groupby('Genre',observed=False)['Global_Sales'].count().sort_values(ascending= False)"
      ],
      "metadata": {
        "colab": {
          "base_uri": "https://localhost:8080/"
        },
        "id": "gONnyb-ylMdw",
        "outputId": "0e6764a5-0025-4590-dcfb-1d97fd384e80"
      },
      "execution_count": null,
      "outputs": [
        {
          "output_type": "execute_result",
          "data": {
            "text/plain": [
              "Genre\n",
              "Action          1630\n",
              "Sports           943\n",
              "Shooter          864\n",
              "Role-Playing     712\n",
              "Racing           581\n",
              "Platform         403\n",
              "Misc             384\n",
              "Fighting         378\n",
              "Simulation       297\n",
              "Strategy         267\n",
              "Adventure        248\n",
              "Puzzle           118\n",
              "Name: Global_Sales, dtype: int64"
            ]
          },
          "metadata": {},
          "execution_count": 106
        }
      ]
    },
    {
      "cell_type": "markdown",
      "source": [
        "- A média de Global Sales pelo gênero"
      ],
      "metadata": {
        "id": "elV1MvSFyvdW"
      }
    },
    {
      "cell_type": "code",
      "source": [
        "group = dataset.groupby('Genre',observed=False, as_index= False)['Global_Sales'].mean().sort_index()\n",
        "group"
      ],
      "metadata": {
        "colab": {
          "base_uri": "https://localhost:8080/",
          "height": 426
        },
        "id": "q6TbGYVLlXTC",
        "outputId": "9f827429-4a81-451b-de33-3a6c8b00c77b"
      },
      "execution_count": null,
      "outputs": [
        {
          "output_type": "execute_result",
          "data": {
            "text/plain": [
              "           Genre  Global_Sales\n",
              "0         Action      0.738135\n",
              "1      Adventure      0.325605\n",
              "2       Fighting      0.661243\n",
              "3           Misc      1.084010\n",
              "4       Platform      0.937469\n",
              "5         Puzzle      0.668644\n",
              "6         Racing      0.819656\n",
              "7   Role-Playing      0.704171\n",
              "8        Shooter      0.945000\n",
              "9     Simulation      0.682492\n",
              "10        Sports      0.884252\n",
              "11      Strategy      0.260712"
            ],
            "text/html": [
              "<div>\n",
              "<style scoped>\n",
              "    .dataframe tbody tr th:only-of-type {\n",
              "        vertical-align: middle;\n",
              "    }\n",
              "\n",
              "    .dataframe tbody tr th {\n",
              "        vertical-align: top;\n",
              "    }\n",
              "\n",
              "    .dataframe thead th {\n",
              "        text-align: right;\n",
              "    }\n",
              "</style>\n",
              "<table border=\"1\" class=\"dataframe\">\n",
              "  <thead>\n",
              "    <tr style=\"text-align: right;\">\n",
              "      <th></th>\n",
              "      <th>Genre</th>\n",
              "      <th>Global_Sales</th>\n",
              "    </tr>\n",
              "  </thead>\n",
              "  <tbody>\n",
              "    <tr>\n",
              "      <th>0</th>\n",
              "      <td>Action</td>\n",
              "      <td>0.738135</td>\n",
              "    </tr>\n",
              "    <tr>\n",
              "      <th>1</th>\n",
              "      <td>Adventure</td>\n",
              "      <td>0.325605</td>\n",
              "    </tr>\n",
              "    <tr>\n",
              "      <th>2</th>\n",
              "      <td>Fighting</td>\n",
              "      <td>0.661243</td>\n",
              "    </tr>\n",
              "    <tr>\n",
              "      <th>3</th>\n",
              "      <td>Misc</td>\n",
              "      <td>1.084010</td>\n",
              "    </tr>\n",
              "    <tr>\n",
              "      <th>4</th>\n",
              "      <td>Platform</td>\n",
              "      <td>0.937469</td>\n",
              "    </tr>\n",
              "    <tr>\n",
              "      <th>5</th>\n",
              "      <td>Puzzle</td>\n",
              "      <td>0.668644</td>\n",
              "    </tr>\n",
              "    <tr>\n",
              "      <th>6</th>\n",
              "      <td>Racing</td>\n",
              "      <td>0.819656</td>\n",
              "    </tr>\n",
              "    <tr>\n",
              "      <th>7</th>\n",
              "      <td>Role-Playing</td>\n",
              "      <td>0.704171</td>\n",
              "    </tr>\n",
              "    <tr>\n",
              "      <th>8</th>\n",
              "      <td>Shooter</td>\n",
              "      <td>0.945000</td>\n",
              "    </tr>\n",
              "    <tr>\n",
              "      <th>9</th>\n",
              "      <td>Simulation</td>\n",
              "      <td>0.682492</td>\n",
              "    </tr>\n",
              "    <tr>\n",
              "      <th>10</th>\n",
              "      <td>Sports</td>\n",
              "      <td>0.884252</td>\n",
              "    </tr>\n",
              "    <tr>\n",
              "      <th>11</th>\n",
              "      <td>Strategy</td>\n",
              "      <td>0.260712</td>\n",
              "    </tr>\n",
              "  </tbody>\n",
              "</table>\n",
              "</div>"
            ]
          },
          "metadata": {},
          "execution_count": 108
        }
      ]
    },
    {
      "cell_type": "markdown",
      "source": [
        "- Adicione uma nova coluna com a média do Score (função transform)"
      ],
      "metadata": {
        "id": "wmm1b7cGy2U2"
      }
    },
    {
      "cell_type": "code",
      "source": [
        "group.assign(avg_score = dataset.groupby(['Genre'],observed=False) [\"Score\"].transform(\"mean\"))"
      ],
      "metadata": {
        "colab": {
          "base_uri": "https://localhost:8080/",
          "height": 426
        },
        "id": "TX5oshc8uP0u",
        "outputId": "e68e6860-11c7-4e2d-e8d7-b812e64d66c5"
      },
      "execution_count": null,
      "outputs": [
        {
          "output_type": "execute_result",
          "data": {
            "text/plain": [
              "           Genre  Global_Sales  avg_score\n",
              "0         Action      0.738135  72.639449\n",
              "1      Adventure      0.325605        NaN\n",
              "2       Fighting      0.661243  70.293460\n",
              "3           Misc      1.084010  72.639449\n",
              "4       Platform      0.937469        NaN\n",
              "5         Puzzle      0.668644        NaN\n",
              "6         Racing      0.819656  71.885856\n",
              "7   Role-Playing      0.704171  67.979167\n",
              "8        Shooter      0.945000  71.885856\n",
              "9     Simulation      0.682492        NaN\n",
              "10        Sports      0.884252        NaN\n",
              "11      Strategy      0.260712  70.293460"
            ],
            "text/html": [
              "<div>\n",
              "<style scoped>\n",
              "    .dataframe tbody tr th:only-of-type {\n",
              "        vertical-align: middle;\n",
              "    }\n",
              "\n",
              "    .dataframe tbody tr th {\n",
              "        vertical-align: top;\n",
              "    }\n",
              "\n",
              "    .dataframe thead th {\n",
              "        text-align: right;\n",
              "    }\n",
              "</style>\n",
              "<table border=\"1\" class=\"dataframe\">\n",
              "  <thead>\n",
              "    <tr style=\"text-align: right;\">\n",
              "      <th></th>\n",
              "      <th>Genre</th>\n",
              "      <th>Global_Sales</th>\n",
              "      <th>avg_score</th>\n",
              "    </tr>\n",
              "  </thead>\n",
              "  <tbody>\n",
              "    <tr>\n",
              "      <th>0</th>\n",
              "      <td>Action</td>\n",
              "      <td>0.738135</td>\n",
              "      <td>72.639449</td>\n",
              "    </tr>\n",
              "    <tr>\n",
              "      <th>1</th>\n",
              "      <td>Adventure</td>\n",
              "      <td>0.325605</td>\n",
              "      <td>NaN</td>\n",
              "    </tr>\n",
              "    <tr>\n",
              "      <th>2</th>\n",
              "      <td>Fighting</td>\n",
              "      <td>0.661243</td>\n",
              "      <td>70.293460</td>\n",
              "    </tr>\n",
              "    <tr>\n",
              "      <th>3</th>\n",
              "      <td>Misc</td>\n",
              "      <td>1.084010</td>\n",
              "      <td>72.639449</td>\n",
              "    </tr>\n",
              "    <tr>\n",
              "      <th>4</th>\n",
              "      <td>Platform</td>\n",
              "      <td>0.937469</td>\n",
              "      <td>NaN</td>\n",
              "    </tr>\n",
              "    <tr>\n",
              "      <th>5</th>\n",
              "      <td>Puzzle</td>\n",
              "      <td>0.668644</td>\n",
              "      <td>NaN</td>\n",
              "    </tr>\n",
              "    <tr>\n",
              "      <th>6</th>\n",
              "      <td>Racing</td>\n",
              "      <td>0.819656</td>\n",
              "      <td>71.885856</td>\n",
              "    </tr>\n",
              "    <tr>\n",
              "      <th>7</th>\n",
              "      <td>Role-Playing</td>\n",
              "      <td>0.704171</td>\n",
              "      <td>67.979167</td>\n",
              "    </tr>\n",
              "    <tr>\n",
              "      <th>8</th>\n",
              "      <td>Shooter</td>\n",
              "      <td>0.945000</td>\n",
              "      <td>71.885856</td>\n",
              "    </tr>\n",
              "    <tr>\n",
              "      <th>9</th>\n",
              "      <td>Simulation</td>\n",
              "      <td>0.682492</td>\n",
              "      <td>NaN</td>\n",
              "    </tr>\n",
              "    <tr>\n",
              "      <th>10</th>\n",
              "      <td>Sports</td>\n",
              "      <td>0.884252</td>\n",
              "      <td>NaN</td>\n",
              "    </tr>\n",
              "    <tr>\n",
              "      <th>11</th>\n",
              "      <td>Strategy</td>\n",
              "      <td>0.260712</td>\n",
              "      <td>70.293460</td>\n",
              "    </tr>\n",
              "  </tbody>\n",
              "</table>\n",
              "</div>"
            ]
          },
          "metadata": {},
          "execution_count": 109
        }
      ]
    },
    {
      "cell_type": "markdown",
      "source": [
        "- Crie uma tabela pivot para representar os dados conforme a tabela abaixo"
      ],
      "metadata": {
        "id": "VSVZ-9h0y8ip"
      }
    },
    {
      "cell_type": "code",
      "source": [
        "dataset.pivot_table(index= \"Genre\",\n",
        "                    columns= 'Platform',\n",
        "                    values = \"Global_Sales\",\n",
        "                    aggfunc= \"mean\")"
      ],
      "metadata": {
        "colab": {
          "base_uri": "https://localhost:8080/",
          "height": 457
        },
        "id": "aPaVxCiYupJQ",
        "outputId": "1b3019bc-fb8c-4bfe-c575-5eadcf4185c1"
      },
      "execution_count": null,
      "outputs": [
        {
          "output_type": "execute_result",
          "data": {
            "text/plain": [
              "Platform           3DS     DC        DS       GBA        GC        PC  \\\n",
              "Genre                                                                   \n",
              "Action        0.570556    NaN  0.565733  0.455098  0.434638  0.195769   \n",
              "Adventure     0.222222  0.665  0.284839  0.504444  0.350769  0.056800   \n",
              "Fighting      0.375714  0.280  0.240714  0.252308  0.658750  0.043333   \n",
              "Misc          0.448000    NaN  1.860000  0.715833  0.795000  1.006667   \n",
              "Platform      1.533889  0.120  1.572000  0.840833  0.560682  0.046000   \n",
              "Puzzle        0.328750    NaN  0.971154  0.911667  0.551667  0.047500   \n",
              "Racing        2.778000  0.100  1.662778  0.600000  0.357742  0.073953   \n",
              "Role-Playing  0.728462  0.170  0.677640  0.677419  0.567273  0.538313   \n",
              "Shooter       0.510000  0.050  0.237037  0.107692  0.326000  0.281705   \n",
              "Simulation    1.786667  0.520  1.154324  0.253750  0.839000  0.517179   \n",
              "Sports        0.550000  1.090  0.273182  0.312105  0.301667  0.233571   \n",
              "Strategy      0.313333    NaN  0.296296  0.556667  0.492857  0.220609   \n",
              "\n",
              "Platform            PS       PS2       PS3       PS4       PSP       PSV  \\\n",
              "Genre                                                                      \n",
              "Action        2.034444  0.982428  1.150789  0.949630  0.593514  0.257568   \n",
              "Adventure     0.220000  0.268500  0.851579  0.257500  0.216154  0.128000   \n",
              "Fighting      1.260667  0.886575  0.854107  0.623636  0.412000  0.212222   \n",
              "Misc          1.415000  0.716667  0.648537  0.385714  0.242381  0.226250   \n",
              "Platform      1.182500  0.747714  0.950455  0.560000  0.542000  0.415000   \n",
              "Puzzle        0.130000  0.661667  0.400000  0.030000  0.185455  0.120000   \n",
              "Racing        2.010000  0.970763  1.002742  0.605333  0.714872  0.200000   \n",
              "Role-Playing  1.573929  0.660684  0.820513  0.790435  0.444429  0.226452   \n",
              "Shooter       0.488333  0.773228  1.442479  1.929394  0.617333  0.776000   \n",
              "Simulation    0.417500  0.755778  0.439444  0.360000  0.576250       NaN   \n",
              "Sports        1.296875  0.978980  0.853913  1.414359  0.422333  0.306667   \n",
              "Strategy      0.062500  0.216053  0.398750  0.115000  0.242857       NaN   \n",
              "\n",
              "Platform           Wii      WiiU      X360        XB      XOne  \n",
              "Genre                                                           \n",
              "Action        0.620902  0.348974  0.900858  0.306975  0.605625  \n",
              "Adventure     0.350909  0.080000  0.768000  0.110000  0.392500  \n",
              "Fighting      0.841923  0.406667  0.630357  0.352258  0.450000  \n",
              "Misc          2.134571  0.910833  1.130484  0.237333  0.340000  \n",
              "Platform      2.173611  1.422000  0.488571  0.286154  0.155000  \n",
              "Puzzle        0.587143  0.433333  0.180000  0.100000       NaN  \n",
              "Racing        1.611667  7.090000  0.790704  0.308421  0.631429  \n",
              "Role-Playing  0.440400  0.630000  1.183103  0.735294  1.026250  \n",
              "Shooter       0.662069  1.112000  1.701634  0.563832  1.604000  \n",
              "Simulation    0.918462  0.200000  0.465000  0.314286  0.010000  \n",
              "Sports        2.925068  0.398333  0.783857  0.386364  0.857742  \n",
              "Strategy      0.293333  1.110000  0.421053  0.147692  0.105000  "
            ],
            "text/html": [
              "<div>\n",
              "<style scoped>\n",
              "    .dataframe tbody tr th:only-of-type {\n",
              "        vertical-align: middle;\n",
              "    }\n",
              "\n",
              "    .dataframe tbody tr th {\n",
              "        vertical-align: top;\n",
              "    }\n",
              "\n",
              "    .dataframe thead th {\n",
              "        text-align: right;\n",
              "    }\n",
              "</style>\n",
              "<table border=\"1\" class=\"dataframe\">\n",
              "  <thead>\n",
              "    <tr style=\"text-align: right;\">\n",
              "      <th>Platform</th>\n",
              "      <th>3DS</th>\n",
              "      <th>DC</th>\n",
              "      <th>DS</th>\n",
              "      <th>GBA</th>\n",
              "      <th>GC</th>\n",
              "      <th>PC</th>\n",
              "      <th>PS</th>\n",
              "      <th>PS2</th>\n",
              "      <th>PS3</th>\n",
              "      <th>PS4</th>\n",
              "      <th>PSP</th>\n",
              "      <th>PSV</th>\n",
              "      <th>Wii</th>\n",
              "      <th>WiiU</th>\n",
              "      <th>X360</th>\n",
              "      <th>XB</th>\n",
              "      <th>XOne</th>\n",
              "    </tr>\n",
              "    <tr>\n",
              "      <th>Genre</th>\n",
              "      <th></th>\n",
              "      <th></th>\n",
              "      <th></th>\n",
              "      <th></th>\n",
              "      <th></th>\n",
              "      <th></th>\n",
              "      <th></th>\n",
              "      <th></th>\n",
              "      <th></th>\n",
              "      <th></th>\n",
              "      <th></th>\n",
              "      <th></th>\n",
              "      <th></th>\n",
              "      <th></th>\n",
              "      <th></th>\n",
              "      <th></th>\n",
              "      <th></th>\n",
              "    </tr>\n",
              "  </thead>\n",
              "  <tbody>\n",
              "    <tr>\n",
              "      <th>Action</th>\n",
              "      <td>0.570556</td>\n",
              "      <td>NaN</td>\n",
              "      <td>0.565733</td>\n",
              "      <td>0.455098</td>\n",
              "      <td>0.434638</td>\n",
              "      <td>0.195769</td>\n",
              "      <td>2.034444</td>\n",
              "      <td>0.982428</td>\n",
              "      <td>1.150789</td>\n",
              "      <td>0.949630</td>\n",
              "      <td>0.593514</td>\n",
              "      <td>0.257568</td>\n",
              "      <td>0.620902</td>\n",
              "      <td>0.348974</td>\n",
              "      <td>0.900858</td>\n",
              "      <td>0.306975</td>\n",
              "      <td>0.605625</td>\n",
              "    </tr>\n",
              "    <tr>\n",
              "      <th>Adventure</th>\n",
              "      <td>0.222222</td>\n",
              "      <td>0.665</td>\n",
              "      <td>0.284839</td>\n",
              "      <td>0.504444</td>\n",
              "      <td>0.350769</td>\n",
              "      <td>0.056800</td>\n",
              "      <td>0.220000</td>\n",
              "      <td>0.268500</td>\n",
              "      <td>0.851579</td>\n",
              "      <td>0.257500</td>\n",
              "      <td>0.216154</td>\n",
              "      <td>0.128000</td>\n",
              "      <td>0.350909</td>\n",
              "      <td>0.080000</td>\n",
              "      <td>0.768000</td>\n",
              "      <td>0.110000</td>\n",
              "      <td>0.392500</td>\n",
              "    </tr>\n",
              "    <tr>\n",
              "      <th>Fighting</th>\n",
              "      <td>0.375714</td>\n",
              "      <td>0.280</td>\n",
              "      <td>0.240714</td>\n",
              "      <td>0.252308</td>\n",
              "      <td>0.658750</td>\n",
              "      <td>0.043333</td>\n",
              "      <td>1.260667</td>\n",
              "      <td>0.886575</td>\n",
              "      <td>0.854107</td>\n",
              "      <td>0.623636</td>\n",
              "      <td>0.412000</td>\n",
              "      <td>0.212222</td>\n",
              "      <td>0.841923</td>\n",
              "      <td>0.406667</td>\n",
              "      <td>0.630357</td>\n",
              "      <td>0.352258</td>\n",
              "      <td>0.450000</td>\n",
              "    </tr>\n",
              "    <tr>\n",
              "      <th>Misc</th>\n",
              "      <td>0.448000</td>\n",
              "      <td>NaN</td>\n",
              "      <td>1.860000</td>\n",
              "      <td>0.715833</td>\n",
              "      <td>0.795000</td>\n",
              "      <td>1.006667</td>\n",
              "      <td>1.415000</td>\n",
              "      <td>0.716667</td>\n",
              "      <td>0.648537</td>\n",
              "      <td>0.385714</td>\n",
              "      <td>0.242381</td>\n",
              "      <td>0.226250</td>\n",
              "      <td>2.134571</td>\n",
              "      <td>0.910833</td>\n",
              "      <td>1.130484</td>\n",
              "      <td>0.237333</td>\n",
              "      <td>0.340000</td>\n",
              "    </tr>\n",
              "    <tr>\n",
              "      <th>Platform</th>\n",
              "      <td>1.533889</td>\n",
              "      <td>0.120</td>\n",
              "      <td>1.572000</td>\n",
              "      <td>0.840833</td>\n",
              "      <td>0.560682</td>\n",
              "      <td>0.046000</td>\n",
              "      <td>1.182500</td>\n",
              "      <td>0.747714</td>\n",
              "      <td>0.950455</td>\n",
              "      <td>0.560000</td>\n",
              "      <td>0.542000</td>\n",
              "      <td>0.415000</td>\n",
              "      <td>2.173611</td>\n",
              "      <td>1.422000</td>\n",
              "      <td>0.488571</td>\n",
              "      <td>0.286154</td>\n",
              "      <td>0.155000</td>\n",
              "    </tr>\n",
              "    <tr>\n",
              "      <th>Puzzle</th>\n",
              "      <td>0.328750</td>\n",
              "      <td>NaN</td>\n",
              "      <td>0.971154</td>\n",
              "      <td>0.911667</td>\n",
              "      <td>0.551667</td>\n",
              "      <td>0.047500</td>\n",
              "      <td>0.130000</td>\n",
              "      <td>0.661667</td>\n",
              "      <td>0.400000</td>\n",
              "      <td>0.030000</td>\n",
              "      <td>0.185455</td>\n",
              "      <td>0.120000</td>\n",
              "      <td>0.587143</td>\n",
              "      <td>0.433333</td>\n",
              "      <td>0.180000</td>\n",
              "      <td>0.100000</td>\n",
              "      <td>NaN</td>\n",
              "    </tr>\n",
              "    <tr>\n",
              "      <th>Racing</th>\n",
              "      <td>2.778000</td>\n",
              "      <td>0.100</td>\n",
              "      <td>1.662778</td>\n",
              "      <td>0.600000</td>\n",
              "      <td>0.357742</td>\n",
              "      <td>0.073953</td>\n",
              "      <td>2.010000</td>\n",
              "      <td>0.970763</td>\n",
              "      <td>1.002742</td>\n",
              "      <td>0.605333</td>\n",
              "      <td>0.714872</td>\n",
              "      <td>0.200000</td>\n",
              "      <td>1.611667</td>\n",
              "      <td>7.090000</td>\n",
              "      <td>0.790704</td>\n",
              "      <td>0.308421</td>\n",
              "      <td>0.631429</td>\n",
              "    </tr>\n",
              "    <tr>\n",
              "      <th>Role-Playing</th>\n",
              "      <td>0.728462</td>\n",
              "      <td>0.170</td>\n",
              "      <td>0.677640</td>\n",
              "      <td>0.677419</td>\n",
              "      <td>0.567273</td>\n",
              "      <td>0.538313</td>\n",
              "      <td>1.573929</td>\n",
              "      <td>0.660684</td>\n",
              "      <td>0.820513</td>\n",
              "      <td>0.790435</td>\n",
              "      <td>0.444429</td>\n",
              "      <td>0.226452</td>\n",
              "      <td>0.440400</td>\n",
              "      <td>0.630000</td>\n",
              "      <td>1.183103</td>\n",
              "      <td>0.735294</td>\n",
              "      <td>1.026250</td>\n",
              "    </tr>\n",
              "    <tr>\n",
              "      <th>Shooter</th>\n",
              "      <td>0.510000</td>\n",
              "      <td>0.050</td>\n",
              "      <td>0.237037</td>\n",
              "      <td>0.107692</td>\n",
              "      <td>0.326000</td>\n",
              "      <td>0.281705</td>\n",
              "      <td>0.488333</td>\n",
              "      <td>0.773228</td>\n",
              "      <td>1.442479</td>\n",
              "      <td>1.929394</td>\n",
              "      <td>0.617333</td>\n",
              "      <td>0.776000</td>\n",
              "      <td>0.662069</td>\n",
              "      <td>1.112000</td>\n",
              "      <td>1.701634</td>\n",
              "      <td>0.563832</td>\n",
              "      <td>1.604000</td>\n",
              "    </tr>\n",
              "    <tr>\n",
              "      <th>Simulation</th>\n",
              "      <td>1.786667</td>\n",
              "      <td>0.520</td>\n",
              "      <td>1.154324</td>\n",
              "      <td>0.253750</td>\n",
              "      <td>0.839000</td>\n",
              "      <td>0.517179</td>\n",
              "      <td>0.417500</td>\n",
              "      <td>0.755778</td>\n",
              "      <td>0.439444</td>\n",
              "      <td>0.360000</td>\n",
              "      <td>0.576250</td>\n",
              "      <td>NaN</td>\n",
              "      <td>0.918462</td>\n",
              "      <td>0.200000</td>\n",
              "      <td>0.465000</td>\n",
              "      <td>0.314286</td>\n",
              "      <td>0.010000</td>\n",
              "    </tr>\n",
              "    <tr>\n",
              "      <th>Sports</th>\n",
              "      <td>0.550000</td>\n",
              "      <td>1.090</td>\n",
              "      <td>0.273182</td>\n",
              "      <td>0.312105</td>\n",
              "      <td>0.301667</td>\n",
              "      <td>0.233571</td>\n",
              "      <td>1.296875</td>\n",
              "      <td>0.978980</td>\n",
              "      <td>0.853913</td>\n",
              "      <td>1.414359</td>\n",
              "      <td>0.422333</td>\n",
              "      <td>0.306667</td>\n",
              "      <td>2.925068</td>\n",
              "      <td>0.398333</td>\n",
              "      <td>0.783857</td>\n",
              "      <td>0.386364</td>\n",
              "      <td>0.857742</td>\n",
              "    </tr>\n",
              "    <tr>\n",
              "      <th>Strategy</th>\n",
              "      <td>0.313333</td>\n",
              "      <td>NaN</td>\n",
              "      <td>0.296296</td>\n",
              "      <td>0.556667</td>\n",
              "      <td>0.492857</td>\n",
              "      <td>0.220609</td>\n",
              "      <td>0.062500</td>\n",
              "      <td>0.216053</td>\n",
              "      <td>0.398750</td>\n",
              "      <td>0.115000</td>\n",
              "      <td>0.242857</td>\n",
              "      <td>NaN</td>\n",
              "      <td>0.293333</td>\n",
              "      <td>1.110000</td>\n",
              "      <td>0.421053</td>\n",
              "      <td>0.147692</td>\n",
              "      <td>0.105000</td>\n",
              "    </tr>\n",
              "  </tbody>\n",
              "</table>\n",
              "</div>"
            ]
          },
          "metadata": {},
          "execution_count": 110
        }
      ]
    },
    {
      "cell_type": "markdown",
      "source": [
        "# Gráficos"
      ],
      "metadata": {
        "id": "aIufoGW9AQRB"
      }
    },
    {
      "cell_type": "markdown",
      "source": [
        "- Carregamento da base games.csv e apagando os valores faltantes"
      ],
      "metadata": {
        "id": "HBQY_Q4VFYUE"
      }
    },
    {
      "cell_type": "code",
      "source": [
        "dataset = pd.read_csv(r'F:\\Cursos\\Udemy\\Pandas Descomplicado\\games.csv')\n",
        "dataset = dataset.dropna()"
      ],
      "metadata": {
        "id": "RFUiC4zbAuzd"
      },
      "execution_count": null,
      "outputs": []
    },
    {
      "cell_type": "code",
      "source": [
        "dataset.isna().sum()"
      ],
      "metadata": {
        "colab": {
          "base_uri": "https://localhost:8080/"
        },
        "id": "Jq6dXcKEIJR0",
        "outputId": "2c713040-6af7-449e-9b07-8e5a1371fb20"
      },
      "execution_count": null,
      "outputs": [
        {
          "output_type": "execute_result",
          "data": {
            "text/plain": [
              "Name               0\n",
              "Platform           0\n",
              "Year_of_Release    0\n",
              "Genre              0\n",
              "Publisher          0\n",
              "NA_Sales           0\n",
              "EU_Sales           0\n",
              "JP_Sales           0\n",
              "Other_Sales        0\n",
              "Global_Sales       0\n",
              "Critic_Score       0\n",
              "Critic_Count       0\n",
              "User_Score         0\n",
              "User_Count         0\n",
              "Developer          0\n",
              "Rating             0\n",
              "dtype: int64"
            ]
          },
          "metadata": {},
          "execution_count": 23
        }
      ]
    },
    {
      "cell_type": "code",
      "source": [
        "dataset.head()"
      ],
      "metadata": {
        "colab": {
          "base_uri": "https://localhost:8080/",
          "height": 206
        },
        "id": "98OSP3nVJWKk",
        "outputId": "6b1da02b-6367-4f29-8b76-7603fd033edd"
      },
      "execution_count": null,
      "outputs": [
        {
          "output_type": "execute_result",
          "data": {
            "text/plain": [
              "                    Name Platform  Year_of_Release     Genre Publisher  \\\n",
              "0             Wii Sports      Wii           2006.0    Sports  Nintendo   \n",
              "2         Mario Kart Wii      Wii           2008.0    Racing  Nintendo   \n",
              "3      Wii Sports Resort      Wii           2009.0    Sports  Nintendo   \n",
              "6  New Super Mario Bros.       DS           2006.0  Platform  Nintendo   \n",
              "7               Wii Play      Wii           2006.0      Misc  Nintendo   \n",
              "\n",
              "   NA_Sales  EU_Sales  JP_Sales  Other_Sales  Global_Sales  Critic_Score  \\\n",
              "0     41.36     28.96      3.77         8.45         82.53          76.0   \n",
              "2     15.68     12.76      3.79         3.29         35.52          82.0   \n",
              "3     15.61     10.93      3.28         2.95         32.77          80.0   \n",
              "6     11.28      9.14      6.50         2.88         29.80          89.0   \n",
              "7     13.96      9.18      2.93         2.84         28.92          58.0   \n",
              "\n",
              "   Critic_Count User_Score  User_Count Developer Rating  \n",
              "0          51.0          8       322.0  Nintendo      E  \n",
              "2          73.0        8.3       709.0  Nintendo      E  \n",
              "3          73.0          8       192.0  Nintendo      E  \n",
              "6          65.0        8.5       431.0  Nintendo      E  \n",
              "7          41.0        6.6       129.0  Nintendo      E  "
            ],
            "text/html": [
              "<div>\n",
              "<style scoped>\n",
              "    .dataframe tbody tr th:only-of-type {\n",
              "        vertical-align: middle;\n",
              "    }\n",
              "\n",
              "    .dataframe tbody tr th {\n",
              "        vertical-align: top;\n",
              "    }\n",
              "\n",
              "    .dataframe thead th {\n",
              "        text-align: right;\n",
              "    }\n",
              "</style>\n",
              "<table border=\"1\" class=\"dataframe\">\n",
              "  <thead>\n",
              "    <tr style=\"text-align: right;\">\n",
              "      <th></th>\n",
              "      <th>Name</th>\n",
              "      <th>Platform</th>\n",
              "      <th>Year_of_Release</th>\n",
              "      <th>Genre</th>\n",
              "      <th>Publisher</th>\n",
              "      <th>NA_Sales</th>\n",
              "      <th>EU_Sales</th>\n",
              "      <th>JP_Sales</th>\n",
              "      <th>Other_Sales</th>\n",
              "      <th>Global_Sales</th>\n",
              "      <th>Critic_Score</th>\n",
              "      <th>Critic_Count</th>\n",
              "      <th>User_Score</th>\n",
              "      <th>User_Count</th>\n",
              "      <th>Developer</th>\n",
              "      <th>Rating</th>\n",
              "    </tr>\n",
              "  </thead>\n",
              "  <tbody>\n",
              "    <tr>\n",
              "      <th>0</th>\n",
              "      <td>Wii Sports</td>\n",
              "      <td>Wii</td>\n",
              "      <td>2006.0</td>\n",
              "      <td>Sports</td>\n",
              "      <td>Nintendo</td>\n",
              "      <td>41.36</td>\n",
              "      <td>28.96</td>\n",
              "      <td>3.77</td>\n",
              "      <td>8.45</td>\n",
              "      <td>82.53</td>\n",
              "      <td>76.0</td>\n",
              "      <td>51.0</td>\n",
              "      <td>8</td>\n",
              "      <td>322.0</td>\n",
              "      <td>Nintendo</td>\n",
              "      <td>E</td>\n",
              "    </tr>\n",
              "    <tr>\n",
              "      <th>2</th>\n",
              "      <td>Mario Kart Wii</td>\n",
              "      <td>Wii</td>\n",
              "      <td>2008.0</td>\n",
              "      <td>Racing</td>\n",
              "      <td>Nintendo</td>\n",
              "      <td>15.68</td>\n",
              "      <td>12.76</td>\n",
              "      <td>3.79</td>\n",
              "      <td>3.29</td>\n",
              "      <td>35.52</td>\n",
              "      <td>82.0</td>\n",
              "      <td>73.0</td>\n",
              "      <td>8.3</td>\n",
              "      <td>709.0</td>\n",
              "      <td>Nintendo</td>\n",
              "      <td>E</td>\n",
              "    </tr>\n",
              "    <tr>\n",
              "      <th>3</th>\n",
              "      <td>Wii Sports Resort</td>\n",
              "      <td>Wii</td>\n",
              "      <td>2009.0</td>\n",
              "      <td>Sports</td>\n",
              "      <td>Nintendo</td>\n",
              "      <td>15.61</td>\n",
              "      <td>10.93</td>\n",
              "      <td>3.28</td>\n",
              "      <td>2.95</td>\n",
              "      <td>32.77</td>\n",
              "      <td>80.0</td>\n",
              "      <td>73.0</td>\n",
              "      <td>8</td>\n",
              "      <td>192.0</td>\n",
              "      <td>Nintendo</td>\n",
              "      <td>E</td>\n",
              "    </tr>\n",
              "    <tr>\n",
              "      <th>6</th>\n",
              "      <td>New Super Mario Bros.</td>\n",
              "      <td>DS</td>\n",
              "      <td>2006.0</td>\n",
              "      <td>Platform</td>\n",
              "      <td>Nintendo</td>\n",
              "      <td>11.28</td>\n",
              "      <td>9.14</td>\n",
              "      <td>6.50</td>\n",
              "      <td>2.88</td>\n",
              "      <td>29.80</td>\n",
              "      <td>89.0</td>\n",
              "      <td>65.0</td>\n",
              "      <td>8.5</td>\n",
              "      <td>431.0</td>\n",
              "      <td>Nintendo</td>\n",
              "      <td>E</td>\n",
              "    </tr>\n",
              "    <tr>\n",
              "      <th>7</th>\n",
              "      <td>Wii Play</td>\n",
              "      <td>Wii</td>\n",
              "      <td>2006.0</td>\n",
              "      <td>Misc</td>\n",
              "      <td>Nintendo</td>\n",
              "      <td>13.96</td>\n",
              "      <td>9.18</td>\n",
              "      <td>2.93</td>\n",
              "      <td>2.84</td>\n",
              "      <td>28.92</td>\n",
              "      <td>58.0</td>\n",
              "      <td>41.0</td>\n",
              "      <td>6.6</td>\n",
              "      <td>129.0</td>\n",
              "      <td>Nintendo</td>\n",
              "      <td>E</td>\n",
              "    </tr>\n",
              "  </tbody>\n",
              "</table>\n",
              "</div>"
            ]
          },
          "metadata": {},
          "execution_count": 25
        }
      ]
    },
    {
      "cell_type": "markdown",
      "source": [
        "- Visualização de subgráficos dos atributos numéricos"
      ],
      "metadata": {
        "id": "A-c2L1pfFtYB"
      }
    },
    {
      "cell_type": "code",
      "source": [
        "dataset.plot(subplots=True, layout=(3,3), figsize=(12,12),\n",
        "             legend = False, kind = \"hist\");"
      ],
      "metadata": {
        "colab": {
          "base_uri": "https://localhost:8080/",
          "height": 984
        },
        "id": "1ifdKbswDGCf",
        "outputId": "9f1261a9-7854-4280-ac4c-b46f13fce18a"
      },
      "execution_count": null,
      "outputs": [
        {
          "output_type": "display_data",
          "data": {
            "text/plain": [
              "<Figure size 1200x1200 with 9 Axes>"
            ],
            "image/png": "[encoded data removed]"
          },
          "metadata": {}
        }
      ]
    },
    {
      "cell_type": "markdown",
      "source": [
        "- Contagem dos valores únicos do atributo Platform"
      ],
      "metadata": {
        "id": "j1KFCep1FyT3"
      }
    },
    {
      "cell_type": "code",
      "source": [
        "dataset['Platform'].unique()"
      ],
      "metadata": {
        "colab": {
          "base_uri": "https://localhost:8080/"
        },
        "id": "aloSyU_cKnqs",
        "outputId": "d877cdde-f98b-4836-b105-ffec1698cd4a"
      },
      "execution_count": null,
      "outputs": [
        {
          "output_type": "execute_result",
          "data": {
            "text/plain": [
              "array(['Wii', 'DS', 'X360', 'PS3', 'PS2', '3DS', 'PS4', 'PS', 'XB', 'PC',\n",
              "       'PSP', 'WiiU', 'GC', 'GBA', 'XOne', 'PSV', 'DC'], dtype=object)"
            ]
          },
          "metadata": {},
          "execution_count": 33
        }
      ]
    },
    {
      "cell_type": "markdown",
      "source": [
        "- Quantidade de jogos por plataforma"
      ],
      "metadata": {
        "id": "i7BP6hKiF2Gg"
      }
    },
    {
      "cell_type": "code",
      "source": [
        "dataset.groupby('Platform', observed=False)['Platform'].count().plot.bar();"
      ],
      "metadata": {
        "colab": {
          "base_uri": "https://localhost:8080/",
          "height": 472
        },
        "id": "zfjFeBMaK0gb",
        "outputId": "0b705f48-22b7-48e2-986a-9a16566913bc"
      },
      "execution_count": null,
      "outputs": [
        {
          "output_type": "display_data",
          "data": {
            "text/plain": [
              "<Figure size 640x480 with 1 Axes>"
            ],
            "image/png": "[encoded data removed]"
          },
          "metadata": {}
        }
      ]
    },
    {
      "cell_type": "markdown",
      "source": [
        "- Gráfico de pizza da contagem de jogos por plataforma"
      ],
      "metadata": {
        "id": "iVlUSIrHF6oe"
      }
    },
    {
      "cell_type": "code",
      "source": [
        "dataset.groupby('Platform', observed=False)['Platform'].count().plot.pie(ylabel='', title = \"Plataforma\");"
      ],
      "metadata": {
        "colab": {
          "base_uri": "https://localhost:8080/",
          "height": 426
        },
        "id": "RdCt7akYL9C1",
        "outputId": "cb5a0f5a-4f4a-43ba-97a5-607d75e3b950"
      },
      "execution_count": null,
      "outputs": [
        {
          "output_type": "display_data",
          "data": {
            "text/plain": [
              "<Figure size 640x480 with 1 Axes>"
            ],
            "image/png": "[encoded data removed]"
          },
          "metadata": {}
        }
      ]
    },
    {
      "cell_type": "markdown",
      "source": [
        "- Visualização das colunas da base de dados"
      ],
      "metadata": {
        "id": "mSrQGuGiGZ8y"
      }
    },
    {
      "cell_type": "code",
      "source": [
        "dataset.columns"
      ],
      "metadata": {
        "colab": {
          "base_uri": "https://localhost:8080/"
        },
        "id": "AC9zJM-3MOtF",
        "outputId": "f26718c6-68a1-4b3e-d2ca-cfc274498cdb"
      },
      "execution_count": null,
      "outputs": [
        {
          "output_type": "execute_result",
          "data": {
            "text/plain": [
              "Index(['Name', 'Platform', 'Year_of_Release', 'Genre', 'Publisher', 'NA_Sales',\n",
              "       'EU_Sales', 'JP_Sales', 'Other_Sales', 'Global_Sales', 'Critic_Score',\n",
              "       'Critic_Count', 'User_Score', 'User_Count', 'Developer', 'Rating'],\n",
              "      dtype='object')"
            ]
          },
          "metadata": {},
          "execution_count": 45
        }
      ]
    },
    {
      "cell_type": "markdown",
      "source": [
        "- Gráfico de dispersão entre Critic_Score e Global_Sales"
      ],
      "metadata": {
        "id": "ttg-9q43GdDS"
      }
    },
    {
      "cell_type": "code",
      "source": [
        "dataset.plot.scatter(x=\"Critic_Score\", y= \"Global_Sales\");"
      ],
      "metadata": {
        "colab": {
          "base_uri": "https://localhost:8080/",
          "height": 450
        },
        "id": "Y__5sxF7MTc8",
        "outputId": "9a964343-c55f-4124-e1f2-43833e9c8aa1"
      },
      "execution_count": null,
      "outputs": [
        {
          "output_type": "display_data",
          "data": {
            "text/plain": [
              "<Figure size 640x480 with 1 Axes>"
            ],
            "image/png": "[encoded data removed]"
          },
          "metadata": {}
        }
      ]
    },
    {
      "cell_type": "markdown",
      "source": [
        "- Histograma da coluna Critic_Score"
      ],
      "metadata": {
        "id": "SzPcDNLPGhP1"
      }
    },
    {
      "cell_type": "code",
      "source": [
        "dataset['Critic_Score'].plot.hist();"
      ],
      "metadata": {
        "colab": {
          "base_uri": "https://localhost:8080/",
          "height": 430
        },
        "id": "yFsBL7igMrLu",
        "outputId": "d60282ae-1c2b-4985-cbe5-a0a581ef1f57"
      },
      "execution_count": null,
      "outputs": [
        {
          "output_type": "display_data",
          "data": {
            "text/plain": [
              "<Figure size 640x480 with 1 Axes>"
            ],
            "image/png": "[encoded data removed]"
          },
          "metadata": {}
        }
      ]
    }
  ]
}